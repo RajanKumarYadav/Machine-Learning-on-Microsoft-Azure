{
 "cells": [
  {
   "cell_type": "markdown",
   "metadata": {},
   "source": [
    "# Automated ML\n",
    "\n",
    "Importing all needed dependencies related to the project"
   ]
  },
  {
   "cell_type": "code",
   "execution_count": 1,
   "metadata": {
    "gather": {
     "logged": 1612018493821
    },
    "jupyter": {
     "outputs_hidden": false,
     "source_hidden": false
    },
    "nteract": {
     "transient": {
      "deleting": false
     }
    }
   },
   "outputs": [
    {
     "name": "stdout",
     "output_type": "stream",
     "text": [
      "SDK version: 1.27.0\n"
     ]
    }
   ],
   "source": [
    "import logging\n",
    "import os\n",
    "import json\n",
    "import csv\n",
    "import numpy as np\n",
    "import pandas as pd\n",
    "import pkg_resources\n",
    "import joblib\n",
    "\n",
    "import azureml.core\n",
    "from azureml.core.experiment import Experiment\n",
    "from azureml.core.workspace import Workspace\n",
    "from azureml.train.automl import AutoMLConfig\n",
    "from azureml.core.dataset import Dataset\n",
    "from azureml.core.compute import AmlCompute\n",
    "from azureml.core.compute import ComputeTarget\n",
    "from azureml.core.compute_target import ComputeTargetException\n",
    "from azureml.pipeline.steps import AutoMLStep\n",
    "from azureml.widgets import RunDetails\n",
    "from azureml.core import Model, Environment\n",
    "from azureml.core.model import InferenceConfig\n",
    "from azureml.core.webservice import AciWebservice\n",
    "from sklearn.preprocessing import StandardScaler\n",
    "\n",
    "# Check core SDK version number\n",
    "print(\"SDK version:\", azureml.core.VERSION)"
   ]
  },
  {
   "cell_type": "code",
   "execution_count": 2,
   "metadata": {
    "gather": {
     "logged": 1598423890461
    },
    "jupyter": {
     "outputs_hidden": false,
     "source_hidden": false
    },
    "nteract": {
     "transient": {
      "deleting": false
     }
    }
   },
   "outputs": [],
   "source": [
    "ws = Workspace.from_config()\n",
    "\n",
    "# choose a name for experiment\n",
    "experiment_name = 'automl'\n",
    "\n",
    "experiment=Experiment(ws, experiment_name)"
   ]
  },
  {
   "cell_type": "code",
   "execution_count": 15,
   "metadata": {},
   "outputs": [
    {
     "data": {
      "text/html": [
       "<div>\n",
       "<style scoped>\n",
       "    .dataframe tbody tr th:only-of-type {\n",
       "        vertical-align: middle;\n",
       "    }\n",
       "\n",
       "    .dataframe tbody tr th {\n",
       "        vertical-align: top;\n",
       "    }\n",
       "\n",
       "    .dataframe thead th {\n",
       "        text-align: right;\n",
       "    }\n",
       "</style>\n",
       "<table border=\"1\" class=\"dataframe\">\n",
       "  <thead>\n",
       "    <tr style=\"text-align: right;\">\n",
       "      <th></th>\n",
       "      <th>Pregnancies</th>\n",
       "      <th>Glucose</th>\n",
       "      <th>BloodPressure</th>\n",
       "      <th>SkinThickness</th>\n",
       "      <th>Insulin</th>\n",
       "      <th>BMI</th>\n",
       "      <th>DiabetesPedigreeFunction</th>\n",
       "      <th>Age</th>\n",
       "      <th>Outcome</th>\n",
       "    </tr>\n",
       "  </thead>\n",
       "  <tbody>\n",
       "    <tr>\n",
       "      <th>0</th>\n",
       "      <td>6</td>\n",
       "      <td>148</td>\n",
       "      <td>72</td>\n",
       "      <td>35</td>\n",
       "      <td>0</td>\n",
       "      <td>33.6</td>\n",
       "      <td>0.627</td>\n",
       "      <td>50</td>\n",
       "      <td>1</td>\n",
       "    </tr>\n",
       "    <tr>\n",
       "      <th>1</th>\n",
       "      <td>1</td>\n",
       "      <td>85</td>\n",
       "      <td>66</td>\n",
       "      <td>29</td>\n",
       "      <td>0</td>\n",
       "      <td>26.6</td>\n",
       "      <td>0.351</td>\n",
       "      <td>31</td>\n",
       "      <td>0</td>\n",
       "    </tr>\n",
       "    <tr>\n",
       "      <th>2</th>\n",
       "      <td>8</td>\n",
       "      <td>183</td>\n",
       "      <td>64</td>\n",
       "      <td>0</td>\n",
       "      <td>0</td>\n",
       "      <td>23.3</td>\n",
       "      <td>0.672</td>\n",
       "      <td>32</td>\n",
       "      <td>1</td>\n",
       "    </tr>\n",
       "    <tr>\n",
       "      <th>3</th>\n",
       "      <td>1</td>\n",
       "      <td>89</td>\n",
       "      <td>66</td>\n",
       "      <td>23</td>\n",
       "      <td>94</td>\n",
       "      <td>28.1</td>\n",
       "      <td>0.167</td>\n",
       "      <td>21</td>\n",
       "      <td>0</td>\n",
       "    </tr>\n",
       "    <tr>\n",
       "      <th>4</th>\n",
       "      <td>0</td>\n",
       "      <td>137</td>\n",
       "      <td>40</td>\n",
       "      <td>35</td>\n",
       "      <td>168</td>\n",
       "      <td>43.1</td>\n",
       "      <td>2.288</td>\n",
       "      <td>33</td>\n",
       "      <td>1</td>\n",
       "    </tr>\n",
       "    <tr>\n",
       "      <th>...</th>\n",
       "      <td>...</td>\n",
       "      <td>...</td>\n",
       "      <td>...</td>\n",
       "      <td>...</td>\n",
       "      <td>...</td>\n",
       "      <td>...</td>\n",
       "      <td>...</td>\n",
       "      <td>...</td>\n",
       "      <td>...</td>\n",
       "    </tr>\n",
       "    <tr>\n",
       "      <th>763</th>\n",
       "      <td>10</td>\n",
       "      <td>101</td>\n",
       "      <td>76</td>\n",
       "      <td>48</td>\n",
       "      <td>180</td>\n",
       "      <td>32.9</td>\n",
       "      <td>0.171</td>\n",
       "      <td>63</td>\n",
       "      <td>0</td>\n",
       "    </tr>\n",
       "    <tr>\n",
       "      <th>764</th>\n",
       "      <td>2</td>\n",
       "      <td>122</td>\n",
       "      <td>70</td>\n",
       "      <td>27</td>\n",
       "      <td>0</td>\n",
       "      <td>36.8</td>\n",
       "      <td>0.340</td>\n",
       "      <td>27</td>\n",
       "      <td>0</td>\n",
       "    </tr>\n",
       "    <tr>\n",
       "      <th>765</th>\n",
       "      <td>5</td>\n",
       "      <td>121</td>\n",
       "      <td>72</td>\n",
       "      <td>23</td>\n",
       "      <td>112</td>\n",
       "      <td>26.2</td>\n",
       "      <td>0.245</td>\n",
       "      <td>30</td>\n",
       "      <td>0</td>\n",
       "    </tr>\n",
       "    <tr>\n",
       "      <th>766</th>\n",
       "      <td>1</td>\n",
       "      <td>126</td>\n",
       "      <td>60</td>\n",
       "      <td>0</td>\n",
       "      <td>0</td>\n",
       "      <td>30.1</td>\n",
       "      <td>0.349</td>\n",
       "      <td>47</td>\n",
       "      <td>1</td>\n",
       "    </tr>\n",
       "    <tr>\n",
       "      <th>767</th>\n",
       "      <td>1</td>\n",
       "      <td>93</td>\n",
       "      <td>70</td>\n",
       "      <td>31</td>\n",
       "      <td>0</td>\n",
       "      <td>30.4</td>\n",
       "      <td>0.315</td>\n",
       "      <td>23</td>\n",
       "      <td>0</td>\n",
       "    </tr>\n",
       "  </tbody>\n",
       "</table>\n",
       "<p>768 rows × 9 columns</p>\n",
       "</div>"
      ],
      "text/plain": [
       "     Pregnancies  Glucose  BloodPressure  SkinThickness  Insulin   BMI  \\\n",
       "0              6      148             72             35        0  33.6   \n",
       "1              1       85             66             29        0  26.6   \n",
       "2              8      183             64              0        0  23.3   \n",
       "3              1       89             66             23       94  28.1   \n",
       "4              0      137             40             35      168  43.1   \n",
       "..           ...      ...            ...            ...      ...   ...   \n",
       "763           10      101             76             48      180  32.9   \n",
       "764            2      122             70             27        0  36.8   \n",
       "765            5      121             72             23      112  26.2   \n",
       "766            1      126             60              0        0  30.1   \n",
       "767            1       93             70             31        0  30.4   \n",
       "\n",
       "     DiabetesPedigreeFunction  Age  Outcome  \n",
       "0                       0.627   50        1  \n",
       "1                       0.351   31        0  \n",
       "2                       0.672   32        1  \n",
       "3                       0.167   21        0  \n",
       "4                       2.288   33        1  \n",
       "..                        ...  ...      ...  \n",
       "763                     0.171   63        0  \n",
       "764                     0.340   27        0  \n",
       "765                     0.245   30        0  \n",
       "766                     0.349   47        1  \n",
       "767                     0.315   23        0  \n",
       "\n",
       "[768 rows x 9 columns]"
      ]
     },
     "execution_count": 15,
     "metadata": {},
     "output_type": "execute_result"
    }
   ],
   "source": [
    "# azureml-core of version 1.0.72 or higher is required\n",
    "# azureml-dataprep[pandas] of version 1.1.34 or higher is required\n",
    "from azureml.core import Workspace, Dataset\n",
    "\n",
    "subscription_id = '3e42d11f-d64d-4173-af9b-12ecaa1030b3'\n",
    "resource_group = 'aml-quickstarts-145360'\n",
    "workspace_name = 'quick-starts-ws-145360'\n",
    "\n",
    "workspace = Workspace(subscription_id, resource_group, workspace_name)\n",
    "\n",
    "dataset = Dataset.get_by_name(workspace, name='diabetes')\n",
    "dataset.to_pandas_dataframe()\n"
   ]
  },
  {
   "cell_type": "code",
   "execution_count": 18,
   "metadata": {},
   "outputs": [
    {
     "data": {
      "text/plain": [
       "{\n",
       "  \"source\": [\n",
       "    \"('workspaceblobstore', 'UI/05-22-2021_055255_UTC/diabetes.csv')\"\n",
       "  ],\n",
       "  \"definition\": [\n",
       "    \"GetDatastoreFiles\",\n",
       "    \"ParseDelimited\",\n",
       "    \"DropColumns\",\n",
       "    \"SetColumnTypes\"\n",
       "  ],\n",
       "  \"registration\": {\n",
       "    \"id\": \"df2f823a-fb29-4340-8aee-a0a741e89c08\",\n",
       "    \"name\": \"diabetes\",\n",
       "    \"version\": 1,\n",
       "    \"workspace\": \"Workspace.create(name='quick-starts-ws-145360', subscription_id='3e42d11f-d64d-4173-af9b-12ecaa1030b3', resource_group='aml-quickstarts-145360')\"\n",
       "  }\n",
       "}"
      ]
     },
     "execution_count": 18,
     "metadata": {},
     "output_type": "execute_result"
    }
   ],
   "source": [
    "dataset"
   ]
  },
  {
   "cell_type": "code",
   "execution_count": 9,
   "metadata": {},
   "outputs": [
    {
     "data": {
      "text/html": [
       "<div>\n",
       "<style scoped>\n",
       "    .dataframe tbody tr th:only-of-type {\n",
       "        vertical-align: middle;\n",
       "    }\n",
       "\n",
       "    .dataframe tbody tr th {\n",
       "        vertical-align: top;\n",
       "    }\n",
       "\n",
       "    .dataframe thead th {\n",
       "        text-align: right;\n",
       "    }\n",
       "</style>\n",
       "<table border=\"1\" class=\"dataframe\">\n",
       "  <thead>\n",
       "    <tr style=\"text-align: right;\">\n",
       "      <th></th>\n",
       "      <th>Pregnancies</th>\n",
       "      <th>Glucose</th>\n",
       "      <th>BloodPressure</th>\n",
       "      <th>SkinThickness</th>\n",
       "      <th>Insulin</th>\n",
       "      <th>BMI</th>\n",
       "      <th>DiabetesPedigreeFunction</th>\n",
       "      <th>Age</th>\n",
       "      <th>Outcome</th>\n",
       "    </tr>\n",
       "  </thead>\n",
       "  <tbody>\n",
       "    <tr>\n",
       "      <th>0</th>\n",
       "      <td>6</td>\n",
       "      <td>148</td>\n",
       "      <td>72</td>\n",
       "      <td>35</td>\n",
       "      <td>0</td>\n",
       "      <td>33.6</td>\n",
       "      <td>0.627</td>\n",
       "      <td>50</td>\n",
       "      <td>1</td>\n",
       "    </tr>\n",
       "    <tr>\n",
       "      <th>1</th>\n",
       "      <td>1</td>\n",
       "      <td>85</td>\n",
       "      <td>66</td>\n",
       "      <td>29</td>\n",
       "      <td>0</td>\n",
       "      <td>26.6</td>\n",
       "      <td>0.351</td>\n",
       "      <td>31</td>\n",
       "      <td>0</td>\n",
       "    </tr>\n",
       "    <tr>\n",
       "      <th>2</th>\n",
       "      <td>8</td>\n",
       "      <td>183</td>\n",
       "      <td>64</td>\n",
       "      <td>0</td>\n",
       "      <td>0</td>\n",
       "      <td>23.3</td>\n",
       "      <td>0.672</td>\n",
       "      <td>32</td>\n",
       "      <td>1</td>\n",
       "    </tr>\n",
       "    <tr>\n",
       "      <th>3</th>\n",
       "      <td>1</td>\n",
       "      <td>89</td>\n",
       "      <td>66</td>\n",
       "      <td>23</td>\n",
       "      <td>94</td>\n",
       "      <td>28.1</td>\n",
       "      <td>0.167</td>\n",
       "      <td>21</td>\n",
       "      <td>0</td>\n",
       "    </tr>\n",
       "    <tr>\n",
       "      <th>4</th>\n",
       "      <td>0</td>\n",
       "      <td>137</td>\n",
       "      <td>40</td>\n",
       "      <td>35</td>\n",
       "      <td>168</td>\n",
       "      <td>43.1</td>\n",
       "      <td>2.288</td>\n",
       "      <td>33</td>\n",
       "      <td>1</td>\n",
       "    </tr>\n",
       "  </tbody>\n",
       "</table>\n",
       "</div>"
      ],
      "text/plain": [
       "   Pregnancies  Glucose  BloodPressure  SkinThickness  Insulin   BMI  \\\n",
       "0            6      148             72             35        0  33.6   \n",
       "1            1       85             66             29        0  26.6   \n",
       "2            8      183             64              0        0  23.3   \n",
       "3            1       89             66             23       94  28.1   \n",
       "4            0      137             40             35      168  43.1   \n",
       "\n",
       "   DiabetesPedigreeFunction  Age  Outcome  \n",
       "0                     0.627   50        1  \n",
       "1                     0.351   31        0  \n",
       "2                     0.672   32        1  \n",
       "3                     0.167   21        0  \n",
       "4                     2.288   33        1  "
      ]
     },
     "execution_count": 9,
     "metadata": {},
     "output_type": "execute_result"
    }
   ],
   "source": [
    "#Display the first five records of the dataset\n",
    "df.head()"
   ]
  },
  {
   "cell_type": "code",
   "execution_count": 19,
   "metadata": {},
   "outputs": [
    {
     "name": "stdout",
     "output_type": "stream",
     "text": [
      "Found existing cluster.\n",
      "Succeeded\n",
      "AmlCompute wait for completion finished\n",
      "\n",
      "Minimum number of nodes requested have been provisioned\n",
      "{'currentNodeCount': 2, 'targetNodeCount': 2, 'nodeStateCounts': {'preparingNodeCount': 0, 'runningNodeCount': 0, 'idleNodeCount': 2, 'unusableNodeCount': 0, 'leavingNodeCount': 0, 'preemptedNodeCount': 0}, 'allocationState': 'Steady', 'allocationStateTransitionTime': '2021-05-22T05:48:43.916000+00:00', 'errors': None, 'creationTime': '2021-05-22T05:46:50.202960+00:00', 'modifiedTime': '2021-05-22T05:47:05.548207+00:00', 'provisioningState': 'Succeeded', 'provisioningStateTransitionTime': None, 'scaleSettings': {'minNodeCount': 2, 'maxNodeCount': 5, 'nodeIdleTimeBeforeScaleDown': 'PT1800S'}, 'vmPriority': 'Dedicated', 'vmSize': 'STANDARD_DS3_V2'}\n"
     ]
    }
   ],
   "source": [
    "from azureml.core.compute import ComputeTarget, AmlCompute\n",
    "\n",
    "# TODO: Create compute cluster\n",
    "# Use vm_size = \"Standard_D2_V2\" in your provisioning configuration.\n",
    "# max_nodes should be no greater than 4.\n",
    "\n",
    "# Choose a name for the cluster\n",
    "cpu_cluster_name = \"ComputeCluster\"\n",
    "\n",
    "# Verifing that cluster does not exist already or Create a New Cluster\n",
    "try:\n",
    "    compute_target = ComputeTarget(workspace=ws, name=cpu_cluster_name)\n",
    "    print('Found existing cluster.')\n",
    "except ComputeTargetException:\n",
    "    print('Creating a new compute cluster....')\n",
    "    compute_config = AmlCompute.provisioning_configuration(vm_size='STANDARD_D2_V2', max_nodes=4)\n",
    "    compute_target = ComputeTarget.create(ws, cpu_cluster_name, compute_config)\n",
    "\n",
    "# Can poll for a minimum number of nodes and for a specific timeout. \n",
    "# If no min node count is provided it uses the scale settings for the cluster.\n",
    "compute_target.wait_for_completion(show_output=True)\n",
    "\n",
    "# get_status() to get a detailed status for the current running cluster \n",
    "print(compute_target.get_status().serialize())"
   ]
  },
  {
   "cell_type": "markdown",
   "metadata": {},
   "source": [
    "# Compute Cluster configuration for this project:\n",
    "\n",
    "{'currentNodeCount': 2, 'targetNodeCount': 2, 'nodeStateCounts': {'preparingNodeCount': 0, 'runningNodeCount': 0, 'idleNodeCount': 2, 'unusableNodeCount': 0, 'leavingNodeCount': 0, 'preemptedNodeCount': 0}, 'allocationState': 'Steady', 'allocationStateTransitionTime': '2021-05-21T06:29:01.053000+00:00', 'errors': None, 'creationTime': '2021-05-21T06:26:56.693359+00:00', 'modifiedTime': '2021-05-21T06:27:12.055678+00:00', 'provisioningState': 'Succeeded', 'provisioningStateTransitionTime': None, 'scaleSettings': {'minNodeCount': 2, 'maxNodeCount': 5, 'nodeIdleTimeBeforeScaleDown': 'PT1800S'}, 'vmPriority': 'Dedicated', 'vmSize': 'STANDARD_DS3_V2'}"
   ]
  },
  {
   "cell_type": "markdown",
   "metadata": {},
   "source": [
    "## AutoML Configuration\n",
    "\n",
    "Automl settings and configuration used for this peoject:\n"
   ]
  },
  {
   "cell_type": "code",
   "execution_count": 20,
   "metadata": {
    "gather": {
     "logged": 1598429217746
    },
    "jupyter": {
     "outputs_hidden": false,
     "source_hidden": false
    },
    "nteract": {
     "transient": {
      "deleting": false
     }
    }
   },
   "outputs": [],
   "source": [
    "# Automl settings \n",
    "automl_settings = {\n",
    "    \"experiment_timeout_minutes\": 50,\n",
    "    \"max_concurrent_iterations\": 5,\n",
    "    \"primary_metric\" : 'accuracy',\n",
    "    \"n_cross_validations\": 5,\n",
    "    \"iterations\": 30\n",
    "    \n",
    "}\n",
    "\n",
    "# Automl configuration\n",
    "automl_config = AutoMLConfig(compute_target=compute_target,\n",
    "                             task = 'classification',\n",
    "                             training_data=dataset,\n",
    "                             label_column_name='Outcome',\n",
    "                             enable_early_stopping= True,\n",
    "                             featurization = 'auto',\n",
    "                             debug_log = 'automl_errors.log',\n",
    "                             **automl_settings\n",
    "                            )\n",
    "\n"
   ]
  },
  {
   "cell_type": "code",
   "execution_count": 21,
   "metadata": {
    "gather": {
     "logged": 1598431107951
    },
    "jupyter": {
     "outputs_hidden": false,
     "source_hidden": false
    },
    "nteract": {
     "transient": {
      "deleting": false
     }
    }
   },
   "outputs": [
    {
     "name": "stdout",
     "output_type": "stream",
     "text": [
      "Submitting remote run.\n",
      "No run_configuration provided, running on ComputeCluster with default configuration\n",
      "Running on remote compute: ComputeCluster\n"
     ]
    },
    {
     "data": {
      "text/html": [
       "<table style=\"width:100%\"><tr><th>Experiment</th><th>Id</th><th>Type</th><th>Status</th><th>Details Page</th><th>Docs Page</th></tr><tr><td>automl</td><td>AutoML_203fb225-3062-46f0-be4a-b09778aff31a</td><td>automl</td><td>NotStarted</td><td><a href=\"https://ml.azure.com/runs/AutoML_203fb225-3062-46f0-be4a-b09778aff31a?wsid=/subscriptions/3e42d11f-d64d-4173-af9b-12ecaa1030b3/resourcegroups/aml-quickstarts-145360/workspaces/quick-starts-ws-145360&amp;tid=660b3398-b80e-49d2-bc5b-ac1dc93b5254\" target=\"_blank\" rel=\"noopener\">Link to Azure Machine Learning studio</a></td><td><a href=\"https://docs.microsoft.com/en-us/python/api/overview/azure/ml/intro?view=azure-ml-py\" target=\"_blank\" rel=\"noopener\">Link to Documentation</a></td></tr></table>"
      ],
      "text/plain": [
       "<IPython.core.display.HTML object>"
      ]
     },
     "metadata": {},
     "output_type": "display_data"
    },
    {
     "name": "stdout",
     "output_type": "stream",
     "text": [
      "\n",
      "Current status: FeaturesGeneration. Generating features for the dataset.\n",
      "Current status: DatasetFeaturization. Beginning to fit featurizers and featurize the dataset.\n",
      "Current status: DatasetCrossValidationSplit. Generating individually featurized CV splits.\n",
      "Current status: ModelSelection. Beginning model selection.\n",
      "\n",
      "****************************************************************************************************\n",
      "DATA GUARDRAILS: \n",
      "\n",
      "TYPE:         Class balancing detection\n",
      "STATUS:       PASSED\n",
      "DESCRIPTION:  Your inputs were analyzed, and all classes are balanced in your training data.\n",
      "              Learn more about imbalanced data: https://aka.ms/AutomatedMLImbalancedData\n",
      "\n",
      "****************************************************************************************************\n",
      "\n",
      "TYPE:         Missing feature values imputation\n",
      "STATUS:       PASSED\n",
      "DESCRIPTION:  No feature missing values were detected in the training data.\n",
      "              Learn more about missing value imputation: https://aka.ms/AutomatedMLFeaturization\n",
      "\n",
      "****************************************************************************************************\n",
      "\n",
      "TYPE:         High cardinality feature detection\n",
      "STATUS:       PASSED\n",
      "DESCRIPTION:  Your inputs were analyzed, and no high cardinality features were detected.\n",
      "              Learn more about high cardinality feature handling: https://aka.ms/AutomatedMLFeaturization\n",
      "\n",
      "****************************************************************************************************\n",
      "\n",
      "****************************************************************************************************\n",
      "ITERATION: The iteration being evaluated.\n",
      "PIPELINE: A summary description of the pipeline being evaluated.\n",
      "DURATION: Time taken for the current iteration.\n",
      "METRIC: The result of computing score on the fitted pipeline.\n",
      "BEST: The best observed score thus far.\n",
      "****************************************************************************************************\n",
      "\n",
      " ITERATION   PIPELINE                                       DURATION      METRIC      BEST\n",
      "         0   MaxAbsScaler LightGBM                          0:00:45       0.7435    0.7435\n",
      "         1   MaxAbsScaler XGBoostClassifier                 0:00:50       0.7656    0.7656\n",
      "         4   MaxAbsScaler RandomForest                      0:00:45       0.7591    0.7656\n",
      "         2   MaxAbsScaler RandomForest                      0:00:44       0.7553    0.7656\n",
      "         3   MaxAbsScaler RandomForest                      0:00:46       0.7513    0.7656\n",
      "         5   MaxAbsScaler RandomForest                      0:00:53       0.7370    0.7656\n",
      "         6   StandardScalerWrapper XGBoostClassifier        0:00:52       0.7513    0.7656\n",
      "         7   StandardScalerWrapper GradientBoosting         0:00:52       0.7579    0.7656\n",
      "         8   SparseNormalizer XGBoostClassifier             0:00:45       0.7189    0.7656\n",
      "         9   SparseNormalizer XGBoostClassifier             0:00:52       0.7110    0.7656\n",
      "        11   SparseNormalizer XGBoostClassifier             0:01:28       0.7097    0.7656\n",
      "        10   SparseNormalizer XGBoostClassifier             0:01:33       0.7045    0.7656\n",
      "        12   SparseNormalizer XGBoostClassifier             0:00:45       0.6941    0.7656\n",
      "        13   SparseNormalizer XGBoostClassifier             0:00:48       0.6485    0.7656\n",
      "        14   StandardScalerWrapper RandomForest             0:00:51       0.7605    0.7656\n",
      "        18   StandardScalerWrapper LogisticRegression       0:00:47       0.7617    0.7656\n",
      "        15   MaxAbsScaler LogisticRegression                0:01:26       0.7709    0.7709\n",
      "        17   MaxAbsScaler LogisticRegression                0:00:46       0.7683    0.7709\n",
      "        19   StandardScalerWrapper LightGBM                 0:00:48       0.7670    0.7709\n",
      "        16   MaxAbsScaler ExtremeRandomTrees                0:01:31       0.7462    0.7709\n",
      "        20   StandardScalerWrapper LightGBM                 0:00:51       0.7436    0.7709\n",
      "        21   StandardScalerWrapper GradientBoosting         0:00:53       0.7683    0.7709\n",
      "        22   MaxAbsScaler LightGBM                          0:00:46       0.7656    0.7709\n",
      "        23   TruncatedSVDWrapper XGBoostClassifier          0:00:48       0.7423    0.7709\n",
      "        24   StandardScalerWrapper XGBoostClassifier        0:00:48       0.7540    0.7709\n",
      "        25   SparseNormalizer LogisticRegression            0:00:48       0.6511    0.7709\n",
      "        26   MaxAbsScaler RandomForest                      0:00:50       0.7579    0.7709\n",
      "        27   MaxAbsScaler ExtremeRandomTrees                0:00:48       0.7279    0.7709\n",
      "        28    VotingEnsemble                                0:01:05       0.7813    0.7813\n",
      "        29    StackEnsemble                                 0:01:50       0.7748    0.7813\n"
     ]
    }
   ],
   "source": [
    "# Submit experiment with AutoML Configuration\n",
    "\n",
    "remote_run = experiment.submit(automl_config, show_output=True)"
   ]
  },
  {
   "cell_type": "markdown",
   "metadata": {},
   "source": [
    "## Run Details\n",
    "\n",
    "Now we will see best models for this classification problems.We can use the`RunDetails` widget to show various experiments performed.You can also see best model in ML Azure Portal."
   ]
  },
  {
   "cell_type": "code",
   "execution_count": 22,
   "metadata": {
    "gather": {
     "logged": 1598431121770
    },
    "jupyter": {
     "outputs_hidden": false,
     "source_hidden": false
    },
    "nteract": {
     "transient": {
      "deleting": false
     }
    }
   },
   "outputs": [
    {
     "data": {
      "application/vnd.jupyter.widget-view+json": {
       "model_id": "dbb455a134be4b3584486a81793d9cd8",
       "version_major": 2,
       "version_minor": 0
      },
      "text/plain": [
       "_AutoMLWidget(widget_settings={'childWidgetDisplay': 'popup', 'send_telemetry': False, 'log_level': 'INFO', 's…"
      ]
     },
     "metadata": {},
     "output_type": "display_data"
    },
    {
     "data": {
      "application/aml.mini.widget.v1": "{\"status\": \"Completed\", \"workbench_run_details_uri\": \"https://ml.azure.com/runs/AutoML_203fb225-3062-46f0-be4a-b09778aff31a?wsid=/subscriptions/3e42d11f-d64d-4173-af9b-12ecaa1030b3/resourcegroups/aml-quickstarts-145360/workspaces/quick-starts-ws-145360&tid=660b3398-b80e-49d2-bc5b-ac1dc93b5254\", \"run_id\": \"AutoML_203fb225-3062-46f0-be4a-b09778aff31a\", \"run_properties\": {\"run_id\": \"AutoML_203fb225-3062-46f0-be4a-b09778aff31a\", \"created_utc\": \"2021-05-22T06:01:42.157953Z\", \"properties\": {\"num_iterations\": \"30\", \"training_type\": \"TrainFull\", \"acquisition_function\": \"EI\", \"primary_metric\": \"accuracy\", \"train_split\": \"0\", \"acquisition_parameter\": \"0\", \"num_cross_validation\": \"5\", \"target\": \"ComputeCluster\", \"AMLSettingsJsonString\": \"{\\\"path\\\":null,\\\"name\\\":\\\"automl\\\",\\\"subscription_id\\\":\\\"3e42d11f-d64d-4173-af9b-12ecaa1030b3\\\",\\\"resource_group\\\":\\\"aml-quickstarts-145360\\\",\\\"workspace_name\\\":\\\"quick-starts-ws-145360\\\",\\\"region\\\":\\\"southcentralus\\\",\\\"compute_target\\\":\\\"ComputeCluster\\\",\\\"spark_service\\\":null,\\\"azure_service\\\":\\\"remote\\\",\\\"many_models\\\":false,\\\"pipeline_fetch_max_batch_size\\\":1,\\\"enable_batch_run\\\":false,\\\"enable_run_restructure\\\":false,\\\"start_auxiliary_runs_before_parent_complete\\\":false,\\\"iterations\\\":30,\\\"primary_metric\\\":\\\"accuracy\\\",\\\"task_type\\\":\\\"classification\\\",\\\"data_script\\\":null,\\\"test_size\\\":0.0,\\\"validation_size\\\":0.0,\\\"n_cross_validations\\\":5,\\\"y_min\\\":null,\\\"y_max\\\":null,\\\"num_classes\\\":null,\\\"featurization\\\":\\\"auto\\\",\\\"_ignore_package_version_incompatibilities\\\":false,\\\"is_timeseries\\\":false,\\\"max_cores_per_iteration\\\":1,\\\"max_concurrent_iterations\\\":5,\\\"iteration_timeout_minutes\\\":null,\\\"mem_in_mb\\\":null,\\\"enforce_time_on_windows\\\":false,\\\"experiment_timeout_minutes\\\":50,\\\"experiment_exit_score\\\":null,\\\"whitelist_models\\\":null,\\\"blacklist_algos\\\":[\\\"TensorFlowLinearClassifier\\\",\\\"TensorFlowDNN\\\"],\\\"supported_models\\\":[\\\"AveragedPerceptronClassifier\\\",\\\"LinearSVM\\\",\\\"MultinomialNaiveBayes\\\",\\\"RandomForest\\\",\\\"GradientBoosting\\\",\\\"ExtremeRandomTrees\\\",\\\"KNN\\\",\\\"LightGBM\\\",\\\"SGD\\\",\\\"BernoulliNaiveBayes\\\",\\\"DecisionTree\\\",\\\"SVM\\\",\\\"TensorFlowLinearClassifier\\\",\\\"TensorFlowDNN\\\",\\\"XGBoostClassifier\\\",\\\"LogisticRegression\\\"],\\\"private_models\\\":[],\\\"auto_blacklist\\\":true,\\\"blacklist_samples_reached\\\":false,\\\"exclude_nan_labels\\\":true,\\\"verbosity\\\":20,\\\"_debug_log\\\":\\\"azureml_automl.log\\\",\\\"show_warnings\\\":false,\\\"model_explainability\\\":true,\\\"service_url\\\":null,\\\"sdk_url\\\":null,\\\"sdk_packages\\\":null,\\\"enable_onnx_compatible_models\\\":false,\\\"enable_split_onnx_featurizer_estimator_models\\\":false,\\\"vm_type\\\":\\\"STANDARD_DS3_V2\\\",\\\"telemetry_verbosity\\\":20,\\\"send_telemetry\\\":true,\\\"enable_dnn\\\":false,\\\"scenario\\\":\\\"SDK-1.13.0\\\",\\\"environment_label\\\":null,\\\"save_mlflow\\\":false,\\\"force_text_dnn\\\":false,\\\"enable_feature_sweeping\\\":true,\\\"enable_early_stopping\\\":true,\\\"early_stopping_n_iters\\\":10,\\\"metrics\\\":null,\\\"enable_metric_confidence\\\":false,\\\"enable_ensembling\\\":true,\\\"enable_stack_ensembling\\\":true,\\\"ensemble_iterations\\\":15,\\\"enable_tf\\\":false,\\\"enable_subsampling\\\":false,\\\"subsample_seed\\\":null,\\\"enable_nimbusml\\\":false,\\\"enable_streaming\\\":false,\\\"force_streaming\\\":false,\\\"track_child_runs\\\":true,\\\"allowed_private_models\\\":[],\\\"label_column_name\\\":\\\"Outcome\\\",\\\"weight_column_name\\\":null,\\\"cv_split_column_names\\\":null,\\\"enable_local_managed\\\":false,\\\"_local_managed_run_id\\\":null,\\\"cost_mode\\\":1,\\\"lag_length\\\":0,\\\"metric_operation\\\":\\\"maximize\\\",\\\"preprocess\\\":true}\", \"DataPrepJsonString\": \"{\\\\\\\"training_data\\\\\\\": {\\\\\\\"datasetId\\\\\\\": \\\\\\\"df2f823a-fb29-4340-8aee-a0a741e89c08\\\\\\\"}, \\\\\\\"datasets\\\\\\\": 0}\", \"EnableSubsampling\": \"False\", \"runTemplate\": \"AutoML\", \"azureml.runsource\": \"automl\", \"display_task_type\": \"classification\", \"dependencies_versions\": \"{\\\"azureml-widgets\\\": \\\"1.27.0\\\", \\\"azureml-train\\\": \\\"1.27.0\\\", \\\"azureml-train-restclients-hyperdrive\\\": \\\"1.27.0\\\", \\\"azureml-train-core\\\": \\\"1.27.0\\\", \\\"azureml-train-automl\\\": \\\"1.27.0\\\", \\\"azureml-train-automl-runtime\\\": \\\"1.27.0\\\", \\\"azureml-train-automl-client\\\": \\\"1.27.0\\\", \\\"azureml-tensorboard\\\": \\\"1.27.0\\\", \\\"azureml-telemetry\\\": \\\"1.27.0\\\", \\\"azureml-sdk\\\": \\\"1.27.0\\\", \\\"azureml-samples\\\": \\\"0+unknown\\\", \\\"azureml-pipeline\\\": \\\"1.27.0\\\", \\\"azureml-pipeline-steps\\\": \\\"1.27.0\\\", \\\"azureml-pipeline-core\\\": \\\"1.27.0\\\", \\\"azureml-opendatasets\\\": \\\"1.27.0\\\", \\\"azureml-model-management-sdk\\\": \\\"1.0.1b6.post1\\\", \\\"azureml-mlflow\\\": \\\"1.27.0\\\", \\\"azureml-interpret\\\": \\\"1.27.0\\\", \\\"azureml-explain-model\\\": \\\"1.27.0\\\", \\\"azureml-defaults\\\": \\\"1.27.0\\\", \\\"azureml-dataset-runtime\\\": \\\"1.27.0\\\", \\\"azureml-dataprep\\\": \\\"2.14.2\\\", \\\"azureml-dataprep-rslex\\\": \\\"1.12.1\\\", \\\"azureml-dataprep-native\\\": \\\"33.0.0\\\", \\\"azureml-datadrift\\\": \\\"1.27.0\\\", \\\"azureml-core\\\": \\\"1.27.0\\\", \\\"azureml-contrib-services\\\": \\\"1.27.0\\\", \\\"azureml-contrib-server\\\": \\\"1.27.0\\\", \\\"azureml-contrib-reinforcementlearning\\\": \\\"1.27.0\\\", \\\"azureml-contrib-pipeline-steps\\\": \\\"1.27.0\\\", \\\"azureml-contrib-notebook\\\": \\\"1.27.0\\\", \\\"azureml-contrib-gbdt\\\": \\\"1.27.0\\\", \\\"azureml-contrib-fairness\\\": \\\"1.27.0\\\", \\\"azureml-contrib-dataset\\\": \\\"1.27.0\\\", \\\"azureml-cli-common\\\": \\\"1.27.0\\\", \\\"azureml-automl-runtime\\\": \\\"1.27.0\\\", \\\"azureml-automl-dnn-nlp\\\": \\\"1.27.0\\\", \\\"azureml-automl-core\\\": \\\"1.27.0\\\", \\\"azureml-accel-models\\\": \\\"1.27.0\\\"}\", \"_aml_system_scenario_identification\": \"Remote.Parent\", \"ClientType\": \"SDK\", \"environment_cpu_name\": \"AzureML-AutoML\", \"environment_cpu_label\": \"prod\", \"environment_gpu_name\": \"AzureML-AutoML-GPU\", \"environment_gpu_label\": \"prod\", \"root_attribution\": \"automl\", \"attribution\": \"AutoML\", \"Orchestrator\": \"AutoML\", \"CancelUri\": \"https://southcentralus.api.azureml.ms/jasmine/v1.0/subscriptions/3e42d11f-d64d-4173-af9b-12ecaa1030b3/resourceGroups/aml-quickstarts-145360/providers/Microsoft.MachineLearningServices/workspaces/quick-starts-ws-145360/experimentids/a2d32d58-c628-44c6-bd17-bf7edc00593c/cancel/AutoML_203fb225-3062-46f0-be4a-b09778aff31a\", \"ClientSdkVersion\": \"1.27.0.post1\", \"snapshotId\": \"00000000-0000-0000-0000-000000000000\", \"SetupRunId\": \"AutoML_203fb225-3062-46f0-be4a-b09778aff31a_setup\", \"SetupRunContainerId\": \"dcid.AutoML_203fb225-3062-46f0-be4a-b09778aff31a_setup\", \"FeaturizationRunJsonPath\": \"featurizer_container.json\", \"FeaturizationRunId\": \"AutoML_203fb225-3062-46f0-be4a-b09778aff31a_featurize\", \"ProblemInfoJsonString\": \"{\\\"dataset_num_categorical\\\": 0, \\\"is_sparse\\\": true, \\\"subsampling\\\": false, \\\"dataset_classes\\\": 2, \\\"dataset_features\\\": 24, \\\"dataset_samples\\\": 768, \\\"single_frequency_class_detected\\\": false}\", \"ModelExplainRunId\": \"AutoML_203fb225-3062-46f0-be4a-b09778aff31a_ModelExplain\"}, \"tags\": {\"model_explain_run\": \"best_run\", \"_aml_system_azureml.automlComponent\": \"AutoML\", \"pipeline_id\": \"\", \"score\": \"\", \"predicted_cost\": \"\", \"fit_time\": \"\", \"training_percent\": \"\", \"iteration\": \"\", \"run_preprocessor\": \"\", \"run_algorithm\": \"\", \"dynamic_whitelisting_iterations\": \"<25>;\", \"automl_best_child_run_id\": \"AutoML_203fb225-3062-46f0-be4a-b09778aff31a_28\", \"model_explain_best_run_child_id\": \"AutoML_203fb225-3062-46f0-be4a-b09778aff31a_28\"}, \"end_time_utc\": \"2021-05-22T06:26:32.348926Z\", \"status\": \"Completed\", \"log_files\": {}, \"log_groups\": [], \"run_duration\": \"0:24:50\", \"run_number\": \"1621663302\", \"run_queued_details\": {\"status\": \"Completed\", \"details\": null}}, \"child_runs\": [{\"run_id\": \"AutoML_203fb225-3062-46f0-be4a-b09778aff31a_0\", \"run_number\": 1621663682, \"metric\": null, \"status\": \"Completed\", \"run_type\": \"azureml.scriptrun\", \"training_percent\": \"100\", \"start_time\": \"2021-05-22T06:08:14.615861Z\", \"end_time\": \"2021-05-22T06:09:00.10171Z\", \"created_time\": \"2021-05-22T06:08:02.130742Z\", \"created_time_dt\": \"2021-05-22T06:08:02.130742Z\", \"duration\": \"0:00:57\", \"iteration\": \"0\", \"goal\": \"accuracy_max\", \"run_name\": \"MaxAbsScaler, LightGBM\", \"run_properties\": \"copy=True\", \"primary_metric\": 0.74352771, \"best_metric\": 0.74352771}, {\"run_id\": \"AutoML_203fb225-3062-46f0-be4a-b09778aff31a_2\", \"run_number\": 1621663683, \"metric\": null, \"status\": \"Completed\", \"run_type\": \"azureml.scriptrun\", \"training_percent\": \"100\", \"start_time\": \"2021-05-22T06:11:30.256369Z\", \"end_time\": \"2021-05-22T06:12:14.512905Z\", \"created_time\": \"2021-05-22T06:08:02.168158Z\", \"created_time_dt\": \"2021-05-22T06:08:02.168158Z\", \"duration\": \"0:04:12\", \"iteration\": \"2\", \"goal\": \"accuracy_max\", \"run_name\": \"MaxAbsScaler, RandomForest\", \"run_properties\": \"copy=True\", \"primary_metric\": 0.75530091, \"best_metric\": 0.75530091}, {\"run_id\": \"AutoML_203fb225-3062-46f0-be4a-b09778aff31a_5\", \"run_number\": 1621663741, \"metric\": null, \"status\": \"Completed\", \"run_type\": \"azureml.scriptrun\", \"training_percent\": \"100\", \"start_time\": \"2021-05-22T06:13:31.779385Z\", \"end_time\": \"2021-05-22T06:14:24.302751Z\", \"created_time\": \"2021-05-22T06:09:01.659326Z\", \"created_time_dt\": \"2021-05-22T06:09:01.659326Z\", \"duration\": \"0:05:22\", \"iteration\": \"5\", \"goal\": \"accuracy_max\", \"run_name\": \"MaxAbsScaler, RandomForest\", \"run_properties\": \"copy=True\", \"primary_metric\": 0.73697479, \"best_metric\": 0.75530091}, {\"run_id\": \"AutoML_203fb225-3062-46f0-be4a-b09778aff31a_6\", \"run_number\": 1621663809, \"metric\": null, \"status\": \"Completed\", \"run_type\": \"azureml.scriptrun\", \"training_percent\": \"100\", \"start_time\": \"2021-05-22T06:14:33.817388Z\", \"end_time\": \"2021-05-22T06:15:25.640441Z\", \"created_time\": \"2021-05-22T06:10:09.584428Z\", \"created_time_dt\": \"2021-05-22T06:10:09.584428Z\", \"duration\": \"0:05:16\", \"iteration\": \"6\", \"goal\": \"accuracy_max\", \"run_name\": \"StandardScalerWrapper, XGBoostClassifier\", \"run_properties\": \"<azureml.automl.runtime.shared.model_wrappers.StandardScalerWrapper object at 0x7fd3b5e4d860\", \"primary_metric\": 0.75131143, \"best_metric\": 0.75530091}, {\"run_id\": \"AutoML_203fb225-3062-46f0-be4a-b09778aff31a_7\", \"run_number\": 1621663874, \"metric\": null, \"status\": \"Completed\", \"run_type\": \"azureml.scriptrun\", \"training_percent\": \"100\", \"start_time\": \"2021-05-22T06:15:37.117132Z\", \"end_time\": \"2021-05-22T06:16:28.716434Z\", \"created_time\": \"2021-05-22T06:11:14.016824Z\", \"created_time_dt\": \"2021-05-22T06:11:14.016824Z\", \"duration\": \"0:05:14\", \"iteration\": \"7\", \"goal\": \"accuracy_max\", \"run_name\": \"StandardScalerWrapper, GradientBoosting\", \"run_properties\": \"<azureml.automl.runtime.shared.model_wrappers.StandardScalerWrapper object at 0x7f9c0136a470\", \"primary_metric\": 0.75785587, \"best_metric\": 0.75785587}, {\"run_id\": \"AutoML_203fb225-3062-46f0-be4a-b09778aff31a_8\", \"run_number\": 1621663936, \"metric\": null, \"status\": \"Completed\", \"run_type\": \"azureml.scriptrun\", \"training_percent\": \"100\", \"start_time\": \"2021-05-22T06:16:40.75052Z\", \"end_time\": \"2021-05-22T06:17:25.68508Z\", \"created_time\": \"2021-05-22T06:12:16.946251Z\", \"created_time_dt\": \"2021-05-22T06:12:16.946251Z\", \"duration\": \"0:05:08\", \"iteration\": \"8\", \"goal\": \"accuracy_max\", \"run_name\": \"SparseNormalizer, XGBoostClassifier\", \"run_properties\": \"<azureml.automl.runtime.shared.model_wrappers.SparseNormalizer object at 0x7f03065c11d0\", \"primary_metric\": 0.71886088, \"best_metric\": 0.75785587}, {\"run_id\": \"AutoML_203fb225-3062-46f0-be4a-b09778aff31a_9\", \"run_number\": 1621664000, \"metric\": null, \"status\": \"Completed\", \"run_type\": \"azureml.scriptrun\", \"training_percent\": \"100\", \"start_time\": \"2021-05-22T06:17:43.681934Z\", \"end_time\": \"2021-05-22T06:18:35.298681Z\", \"created_time\": \"2021-05-22T06:13:20.933161Z\", \"created_time_dt\": \"2021-05-22T06:13:20.933161Z\", \"duration\": \"0:05:14\", \"iteration\": \"9\", \"goal\": \"accuracy_max\", \"run_name\": \"SparseNormalizer, XGBoostClassifier\", \"run_properties\": \"<azureml.automl.runtime.shared.model_wrappers.SparseNormalizer object at 0x7f8c0d1cb748\", \"primary_metric\": 0.71102623, \"best_metric\": 0.75785587}, {\"run_id\": \"AutoML_203fb225-3062-46f0-be4a-b09778aff31a_10\", \"run_number\": 1621664066, \"metric\": null, \"status\": \"Completed\", \"run_type\": \"azureml.scriptrun\", \"training_percent\": \"100\", \"start_time\": \"2021-05-22T06:17:48.98443Z\", \"end_time\": \"2021-05-22T06:19:22.166873Z\", \"created_time\": \"2021-05-22T06:14:26.202765Z\", \"created_time_dt\": \"2021-05-22T06:14:26.202765Z\", \"duration\": \"0:04:55\", \"iteration\": \"10\", \"goal\": \"accuracy_max\", \"run_name\": \"SparseNormalizer, XGBoostClassifier\", \"run_properties\": \"<azureml.automl.runtime.shared.model_wrappers.SparseNormalizer object at 0x7f381c286ba8\", \"primary_metric\": 0.70453272, \"best_metric\": 0.75785587}, {\"run_id\": \"AutoML_203fb225-3062-46f0-be4a-b09778aff31a_11\", \"run_number\": 1621664127, \"metric\": null, \"status\": \"Completed\", \"run_type\": \"azureml.scriptrun\", \"training_percent\": \"100\", \"start_time\": \"2021-05-22T06:17:52.558846Z\", \"end_time\": \"2021-05-22T06:19:20.758576Z\", \"created_time\": \"2021-05-22T06:15:27.886488Z\", \"created_time_dt\": \"2021-05-22T06:15:27.886488Z\", \"duration\": \"0:03:52\", \"iteration\": \"11\", \"goal\": \"accuracy_max\", \"run_name\": \"SparseNormalizer, XGBoostClassifier\", \"run_properties\": \"<azureml.automl.runtime.shared.model_wrappers.SparseNormalizer object at 0x7f6869131a58\", \"primary_metric\": 0.70971055, \"best_metric\": 0.75785587}, {\"run_id\": \"AutoML_203fb225-3062-46f0-be4a-b09778aff31a_12\", \"run_number\": 1621664190, \"metric\": null, \"status\": \"Completed\", \"run_type\": \"azureml.scriptrun\", \"training_percent\": \"100\", \"start_time\": \"2021-05-22T06:18:48.524919Z\", \"end_time\": \"2021-05-22T06:19:33.243307Z\", \"created_time\": \"2021-05-22T06:16:30.83901Z\", \"created_time_dt\": \"2021-05-22T06:16:30.83901Z\", \"duration\": \"0:03:02\", \"iteration\": \"12\", \"goal\": \"accuracy_max\", \"run_name\": \"SparseNormalizer, XGBoostClassifier\", \"run_properties\": \"<azureml.automl.runtime.shared.model_wrappers.SparseNormalizer object at 0x7f7f21408438\", \"primary_metric\": 0.69407521, \"best_metric\": 0.75785587}, {\"run_id\": \"AutoML_203fb225-3062-46f0-be4a-b09778aff31a_13\", \"run_number\": 1621664248, \"metric\": null, \"status\": \"Completed\", \"run_type\": \"azureml.scriptrun\", \"training_percent\": \"100\", \"start_time\": \"2021-05-22T06:19:36.951804Z\", \"end_time\": \"2021-05-22T06:20:24.914306Z\", \"created_time\": \"2021-05-22T06:17:28.000705Z\", \"created_time_dt\": \"2021-05-22T06:17:28.000705Z\", \"duration\": \"0:02:56\", \"iteration\": \"13\", \"goal\": \"accuracy_max\", \"run_name\": \"SparseNormalizer, XGBoostClassifier\", \"run_properties\": \"<azureml.automl.runtime.shared.model_wrappers.SparseNormalizer object at 0x7f7b7fb399b0\", \"primary_metric\": 0.64846787, \"best_metric\": 0.75785587}, {\"run_id\": \"AutoML_203fb225-3062-46f0-be4a-b09778aff31a_14\", \"run_number\": 1621664317, \"metric\": null, \"status\": \"Completed\", \"run_type\": \"azureml.scriptrun\", \"training_percent\": \"100\", \"start_time\": \"2021-05-22T06:20:39.438972Z\", \"end_time\": \"2021-05-22T06:21:30.594051Z\", \"created_time\": \"2021-05-22T06:18:37.668315Z\", \"created_time_dt\": \"2021-05-22T06:18:37.668315Z\", \"duration\": \"0:02:52\", \"iteration\": \"14\", \"goal\": \"accuracy_max\", \"run_name\": \"StandardScalerWrapper, RandomForest\", \"run_properties\": \"<azureml.automl.runtime.shared.model_wrappers.StandardScalerWrapper object at 0x7fb7c8384668\", \"primary_metric\": 0.76049571, \"best_metric\": 0.76049571}, {\"run_id\": \"AutoML_203fb225-3062-46f0-be4a-b09778aff31a_15\", \"run_number\": 1621664362, \"metric\": null, \"status\": \"Completed\", \"run_type\": \"azureml.scriptrun\", \"training_percent\": \"100\", \"start_time\": \"2021-05-22T06:20:58.408008Z\", \"end_time\": \"2021-05-22T06:22:24.775082Z\", \"created_time\": \"2021-05-22T06:19:22.709139Z\", \"created_time_dt\": \"2021-05-22T06:19:22.709139Z\", \"duration\": \"0:03:02\", \"iteration\": \"15\", \"goal\": \"accuracy_max\", \"run_name\": \"MaxAbsScaler, LogisticRegression\", \"run_properties\": \"copy=True\", \"primary_metric\": 0.77089381, \"best_metric\": 0.77089381}, {\"run_id\": \"AutoML_203fb225-3062-46f0-be4a-b09778aff31a_16\", \"run_number\": 1621664366, \"metric\": null, \"status\": \"Completed\", \"run_type\": \"azureml.scriptrun\", \"training_percent\": \"100\", \"start_time\": \"2021-05-22T06:21:01.542437Z\", \"end_time\": \"2021-05-22T06:22:32.556126Z\", \"created_time\": \"2021-05-22T06:19:26.084794Z\", \"created_time_dt\": \"2021-05-22T06:19:26.084794Z\", \"duration\": \"0:03:06\", \"iteration\": \"16\", \"goal\": \"accuracy_max\", \"run_name\": \"MaxAbsScaler, ExtremeRandomTrees\", \"run_properties\": \"copy=True\", \"primary_metric\": 0.74615058, \"best_metric\": 0.77089381}, {\"run_id\": \"AutoML_203fb225-3062-46f0-be4a-b09778aff31a_17\", \"run_number\": 1621664375, \"metric\": null, \"status\": \"Completed\", \"run_type\": \"azureml.scriptrun\", \"training_percent\": \"100\", \"start_time\": \"2021-05-22T06:21:32.88707Z\", \"end_time\": \"2021-05-22T06:22:18.623139Z\", \"created_time\": \"2021-05-22T06:19:35.139028Z\", \"created_time_dt\": \"2021-05-22T06:19:35.139028Z\", \"duration\": \"0:02:43\", \"iteration\": \"17\", \"goal\": \"accuracy_max\", \"run_name\": \"MaxAbsScaler, LogisticRegression\", \"run_properties\": \"copy=True\", \"primary_metric\": 0.76826246, \"best_metric\": 0.77089381}, {\"run_id\": \"AutoML_203fb225-3062-46f0-be4a-b09778aff31a_18\", \"run_number\": 1621664426, \"metric\": null, \"status\": \"Completed\", \"run_type\": \"azureml.scriptrun\", \"training_percent\": \"100\", \"start_time\": \"2021-05-22T06:21:30.182453Z\", \"end_time\": \"2021-05-22T06:22:16.831002Z\", \"created_time\": \"2021-05-22T06:20:26.802731Z\", \"created_time_dt\": \"2021-05-22T06:20:26.802731Z\", \"duration\": \"0:01:50\", \"iteration\": \"18\", \"goal\": \"accuracy_max\", \"run_name\": \"StandardScalerWrapper, LogisticRegression\", \"run_properties\": \"<azureml.automl.runtime.shared.model_wrappers.StandardScalerWrapper object at 0x7f060df05470\", \"primary_metric\": 0.76174349, \"best_metric\": 0.77089381}, {\"run_id\": \"AutoML_203fb225-3062-46f0-be4a-b09778aff31a_19\", \"run_number\": 1621664492, \"metric\": null, \"status\": \"Completed\", \"run_type\": \"azureml.scriptrun\", \"training_percent\": \"100\", \"start_time\": \"2021-05-22T06:21:42.611401Z\", \"end_time\": \"2021-05-22T06:22:30.175882Z\", \"created_time\": \"2021-05-22T06:21:32.634525Z\", \"created_time_dt\": \"2021-05-22T06:21:32.634525Z\", \"duration\": \"0:00:57\", \"iteration\": \"19\", \"goal\": \"accuracy_max\", \"run_name\": \"StandardScalerWrapper, LightGBM\", \"run_properties\": \"<azureml.automl.runtime.shared.model_wrappers.StandardScalerWrapper object at 0x7fefe3f7ea20\", \"primary_metric\": 0.76698922, \"best_metric\": 0.77089381}, {\"run_id\": \"AutoML_203fb225-3062-46f0-be4a-b09778aff31a_20\", \"run_number\": 1621664538, \"metric\": null, \"status\": \"Completed\", \"run_type\": \"azureml.scriptrun\", \"training_percent\": \"100\", \"start_time\": \"2021-05-22T06:22:30.912232Z\", \"end_time\": \"2021-05-22T06:23:22.253137Z\", \"created_time\": \"2021-05-22T06:22:18.883904Z\", \"created_time_dt\": \"2021-05-22T06:22:18.883904Z\", \"duration\": \"0:01:03\", \"iteration\": \"20\", \"goal\": \"accuracy_max\", \"run_name\": \"StandardScalerWrapper, LightGBM\", \"run_properties\": \"<azureml.automl.runtime.shared.model_wrappers.StandardScalerWrapper object at 0x7fa7fa74cfd0\", \"primary_metric\": 0.74357864, \"best_metric\": 0.77089381}, {\"run_id\": \"AutoML_203fb225-3062-46f0-be4a-b09778aff31a_21\", \"run_number\": 1621664542, \"metric\": null, \"status\": \"Completed\", \"run_type\": \"azureml.scriptrun\", \"training_percent\": \"100\", \"start_time\": \"2021-05-22T06:22:30.032097Z\", \"end_time\": \"2021-05-22T06:23:22.606344Z\", \"created_time\": \"2021-05-22T06:22:22.233795Z\", \"created_time_dt\": \"2021-05-22T06:22:22.233795Z\", \"duration\": \"0:01:00\", \"iteration\": \"21\", \"goal\": \"accuracy_max\", \"run_name\": \"StandardScalerWrapper, GradientBoosting\", \"run_properties\": \"<azureml.automl.runtime.shared.model_wrappers.StandardScalerWrapper object at 0x7f19675554e0\", \"primary_metric\": 0.76828792, \"best_metric\": 0.77089381}, {\"run_id\": \"AutoML_203fb225-3062-46f0-be4a-b09778aff31a_22\", \"run_number\": 1621664546, \"metric\": null, \"status\": \"Completed\", \"run_type\": \"azureml.scriptrun\", \"training_percent\": \"100\", \"start_time\": \"2021-05-22T06:22:41.394204Z\", \"end_time\": \"2021-05-22T06:23:27.618223Z\", \"created_time\": \"2021-05-22T06:22:26.862775Z\", \"created_time_dt\": \"2021-05-22T06:22:26.862775Z\", \"duration\": \"0:01:00\", \"iteration\": \"22\", \"goal\": \"accuracy_max\", \"run_name\": \"MaxAbsScaler, LightGBM\", \"run_properties\": \"copy=True\", \"primary_metric\": 0.76563959, \"best_metric\": 0.77089381}, {\"run_id\": \"AutoML_203fb225-3062-46f0-be4a-b09778aff31a_23\", \"run_number\": 1621664552, \"metric\": null, \"status\": \"Completed\", \"run_type\": \"azureml.scriptrun\", \"training_percent\": \"100\", \"start_time\": \"2021-05-22T06:22:43.522234Z\", \"end_time\": \"2021-05-22T06:23:31.20241Z\", \"created_time\": \"2021-05-22T06:22:32.00171Z\", \"created_time_dt\": \"2021-05-22T06:22:32.00171Z\", \"duration\": \"0:00:59\", \"iteration\": \"23\", \"goal\": \"accuracy_max\", \"run_name\": \"TruncatedSVDWrapper, XGBoostClassifier\", \"run_properties\": \"n_components=0.3068421052631579, random_state=None\", \"primary_metric\": 0.74227994, \"best_metric\": 0.77089381}, {\"run_id\": \"AutoML_203fb225-3062-46f0-be4a-b09778aff31a_24\", \"run_number\": 1621664556, \"metric\": null, \"status\": \"Completed\", \"run_type\": \"azureml.scriptrun\", \"training_percent\": \"100\", \"start_time\": \"2021-05-22T06:22:48.380964Z\", \"end_time\": \"2021-05-22T06:23:36.710482Z\", \"created_time\": \"2021-05-22T06:22:36.126997Z\", \"created_time_dt\": \"2021-05-22T06:22:36.126997Z\", \"duration\": \"0:01:00\", \"iteration\": \"24\", \"goal\": \"accuracy_max\", \"run_name\": \"StandardScalerWrapper, XGBoostClassifier\", \"run_properties\": \"<azureml.automl.runtime.shared.model_wrappers.StandardScalerWrapper object at 0x7f6cf5020630\", \"primary_metric\": 0.75395977, \"best_metric\": 0.77089381}, {\"run_id\": \"AutoML_203fb225-3062-46f0-be4a-b09778aff31a_25\", \"run_number\": 1621664605, \"metric\": null, \"status\": \"Completed\", \"run_type\": \"azureml.scriptrun\", \"training_percent\": \"100\", \"start_time\": \"2021-05-22T06:23:35.151502Z\", \"end_time\": \"2021-05-22T06:24:22.915404Z\", \"created_time\": \"2021-05-22T06:23:25.175688Z\", \"created_time_dt\": \"2021-05-22T06:23:25.175688Z\", \"duration\": \"0:00:57\", \"iteration\": \"25\", \"goal\": \"accuracy_max\", \"run_name\": \"SparseNormalizer, LogisticRegression\", \"run_properties\": \"<azureml.automl.runtime.shared.model_wrappers.SparseNormalizer object at 0x7f842cf62518\", \"primary_metric\": 0.65114167, \"best_metric\": 0.77089381}, {\"run_id\": \"AutoML_203fb225-3062-46f0-be4a-b09778aff31a_26\", \"run_number\": 1621664609, \"metric\": null, \"status\": \"Completed\", \"run_type\": \"azureml.scriptrun\", \"training_percent\": \"100\", \"start_time\": \"2021-05-22T06:23:37.725099Z\", \"end_time\": \"2021-05-22T06:24:27.573763Z\", \"created_time\": \"2021-05-22T06:23:29.017364Z\", \"created_time_dt\": \"2021-05-22T06:23:29.017364Z\", \"duration\": \"0:00:58\", \"iteration\": \"26\", \"goal\": \"accuracy_max\", \"run_name\": \"MaxAbsScaler, RandomForest\", \"run_properties\": \"copy=True\", \"primary_metric\": 0.75787285, \"best_metric\": 0.77089381}, {\"run_id\": \"AutoML_203fb225-3062-46f0-be4a-b09778aff31a_27\", \"run_number\": 1621664613, \"metric\": null, \"status\": \"Completed\", \"run_type\": \"azureml.scriptrun\", \"training_percent\": \"100\", \"start_time\": \"2021-05-22T06:23:43.851578Z\", \"end_time\": \"2021-05-22T06:24:31.573793Z\", \"created_time\": \"2021-05-22T06:23:33.942736Z\", \"created_time_dt\": \"2021-05-22T06:23:33.942736Z\", \"duration\": \"0:00:57\", \"iteration\": \"27\", \"goal\": \"accuracy_max\", \"run_name\": \"MaxAbsScaler, ExtremeRandomTrees\", \"run_properties\": \"copy=True\", \"primary_metric\": 0.72790086, \"best_metric\": 0.77089381}, {\"run_id\": \"AutoML_203fb225-3062-46f0-be4a-b09778aff31a_28\", \"run_number\": 1621664672, \"metric\": null, \"status\": \"Completed\", \"run_type\": \"azureml.scriptrun\", \"training_percent\": \"100\", \"start_time\": \"2021-05-22T06:24:39.822144Z\", \"end_time\": \"2021-05-22T06:25:44.551834Z\", \"created_time\": \"2021-05-22T06:24:32.460574Z\", \"created_time_dt\": \"2021-05-22T06:24:32.460574Z\", \"duration\": \"0:01:12\", \"iteration\": \"28\", \"goal\": \"accuracy_max\", \"run_name\": \"VotingEnsemble\", \"run_properties\": \"classification_labels=None,\\n                              estimators=[('15',\\n                                           Pipeline(memory=None,\\n                                                    steps=[('maxabsscaler',\\n                                                            MaxAbsScaler(copy=True\", \"primary_metric\": 0.7813004, \"best_metric\": 0.7813004}], \"children_metrics\": {\"categories\": [0], \"series\": {\"f1_score_macro\": [{\"categories\": [\"0\", \"2\", \"5\", \"6\", \"7\", \"8\", \"9\", \"10\", \"11\", \"12\", \"13\", \"14\", \"15\", \"16\", \"17\", \"18\", \"19\", \"20\", \"21\", \"22\", \"23\", \"24\", \"25\", \"26\", \"27\", \"28\"], \"mode\": \"markers\", \"name\": \"f1_score_macro\", \"stepped\": false, \"type\": \"scatter\", \"data\": [0.7110567297826602, 0.7042279377826023, 0.7208273180760654, 0.7179980448441579, 0.7225612890746781, 0.6695423199560285, 0.6557501423243692, 0.6549949367736009, 0.655278488435776, 0.6284446024489676, 0.4955795022259055, 0.7087538056700169, 0.7297768568557624, 0.668429100984478, 0.7222107295619971, 0.7119955929120995, 0.724073837371991, 0.6496535359406173, 0.7287764251625201, 0.7172022619121663, 0.7036471982535742, 0.7092632405040868, 0.39381232791863974, 0.6997098431518922, 0.6333200028501323, 0.7393219157340649]}, {\"categories\": [\"0\", \"2\", \"5\", \"6\", \"7\", \"8\", \"9\", \"10\", \"11\", \"12\", \"13\", \"14\", \"15\", \"16\", \"17\", \"18\", \"19\", \"20\", \"21\", \"22\", \"23\", \"24\", \"25\", \"26\", \"27\", \"28\"], \"mode\": \"lines\", \"name\": \"f1_score_macro_max\", \"stepped\": true, \"type\": \"scatter\", \"data\": [0.7110567297826602, 0.7110567297826602, 0.7208273180760654, 0.7208273180760654, 0.7225612890746781, 0.7225612890746781, 0.7225612890746781, 0.7225612890746781, 0.7225612890746781, 0.7225612890746781, 0.7225612890746781, 0.7225612890746781, 0.7297768568557624, 0.7297768568557624, 0.7297768568557624, 0.7297768568557624, 0.7297768568557624, 0.7297768568557624, 0.7297768568557624, 0.7297768568557624, 0.7297768568557624, 0.7297768568557624, 0.7297768568557624, 0.7297768568557624, 0.7297768568557624, 0.7393219157340649]}], \"precision_score_macro\": [{\"categories\": [\"0\", \"2\", \"5\", \"6\", \"7\", \"8\", \"9\", \"10\", \"11\", \"12\", \"13\", \"14\", \"15\", \"16\", \"17\", \"18\", \"19\", \"20\", \"21\", \"22\", \"23\", \"24\", \"25\", \"26\", \"27\", \"28\"], \"mode\": \"markers\", \"name\": \"precision_score_macro\", \"stepped\": false, \"type\": \"scatter\", \"data\": [0.7143475727069413, 0.7344661199351139, 0.7187718923808107, 0.7238313287596826, 0.7315048130865667, 0.6888042471539706, 0.6796406069772238, 0.6702000007192261, 0.6778766492187798, 0.6610928792093486, 0.5497013636174286, 0.7457249211112055, 0.7554232524140823, 0.7576982640162109, 0.7555216454114074, 0.7487561953776559, 0.7490127180155607, 0.7892725987656726, 0.7482786537535704, 0.751205599293247, 0.7192989677309611, 0.7330991319157609, 0.3255708343943638, 0.7501702866162104, 0.7468606849397402, 0.7693396855369409]}, {\"categories\": [\"0\", \"2\", \"5\", \"6\", \"7\", \"8\", \"9\", \"10\", \"11\", \"12\", \"13\", \"14\", \"15\", \"16\", \"17\", \"18\", \"19\", \"20\", \"21\", \"22\", \"23\", \"24\", \"25\", \"26\", \"27\", \"28\"], \"mode\": \"lines\", \"name\": \"precision_score_macro_max\", \"stepped\": true, \"type\": \"scatter\", \"data\": [0.7143475727069413, 0.7344661199351139, 0.7344661199351139, 0.7344661199351139, 0.7344661199351139, 0.7344661199351139, 0.7344661199351139, 0.7344661199351139, 0.7344661199351139, 0.7344661199351139, 0.7344661199351139, 0.7457249211112055, 0.7554232524140823, 0.7576982640162109, 0.7576982640162109, 0.7576982640162109, 0.7576982640162109, 0.7892725987656726, 0.7892725987656726, 0.7892725987656726, 0.7892725987656726, 0.7892725987656726, 0.7892725987656726, 0.7892725987656726, 0.7892725987656726, 0.7892725987656726]}], \"precision_score_weighted\": [{\"categories\": [\"0\", \"2\", \"5\", \"6\", \"7\", \"8\", \"9\", \"10\", \"11\", \"12\", \"13\", \"14\", \"15\", \"16\", \"17\", \"18\", \"19\", \"20\", \"21\", \"22\", \"23\", \"24\", \"25\", \"26\", \"27\", \"28\"], \"mode\": \"markers\", \"name\": \"precision_score_weighted\", \"stepped\": false, \"type\": \"scatter\", \"data\": [0.7422913189086859, 0.7485530521760414, 0.7603972803606561, 0.7510813079317894, 0.7555587768577512, 0.7115161895977773, 0.7024304162613891, 0.6966268353120794, 0.7032056139869061, 0.6852304906797901, 0.5918911276357762, 0.7581221115864887, 0.7708715069321304, 0.7581783615688324, 0.7686820578442385, 0.7616663422329294, 0.7641624631886668, 0.777087815547094, 0.7650631707530431, 0.7649398311984532, 0.7422069002032956, 0.7505633146522038, 0.4265500510508674, 0.7575425276301507, 0.7470678410346435, 0.7808728728622271]}, {\"categories\": [\"0\", \"2\", \"5\", \"6\", \"7\", \"8\", \"9\", \"10\", \"11\", \"12\", \"13\", \"14\", \"15\", \"16\", \"17\", \"18\", \"19\", \"20\", \"21\", \"22\", \"23\", \"24\", \"25\", \"26\", \"27\", \"28\"], \"mode\": \"lines\", \"name\": \"precision_score_weighted_max\", \"stepped\": true, \"type\": \"scatter\", \"data\": [0.7422913189086859, 0.7485530521760414, 0.7603972803606561, 0.7603972803606561, 0.7603972803606561, 0.7603972803606561, 0.7603972803606561, 0.7603972803606561, 0.7603972803606561, 0.7603972803606561, 0.7603972803606561, 0.7603972803606561, 0.7708715069321304, 0.7708715069321304, 0.7708715069321304, 0.7708715069321304, 0.7708715069321304, 0.777087815547094, 0.777087815547094, 0.777087815547094, 0.777087815547094, 0.777087815547094, 0.777087815547094, 0.777087815547094, 0.777087815547094, 0.7808728728622271]}], \"accuracy\": [{\"categories\": [\"0\", \"2\", \"5\", \"6\", \"7\", \"8\", \"9\", \"10\", \"11\", \"12\", \"13\", \"14\", \"15\", \"16\", \"17\", \"18\", \"19\", \"20\", \"21\", \"22\", \"23\", \"24\", \"25\", \"26\", \"27\", \"28\"], \"mode\": \"markers\", \"name\": \"accuracy\", \"stepped\": false, \"type\": \"scatter\", \"data\": [0.7435277141159494, 0.7553009082420846, 0.7369747899159664, 0.7513114336643748, 0.7578558696205755, 0.718860877684407, 0.7110262286732875, 0.704532722179781, 0.7097105508870214, 0.6940752058399118, 0.6484678719972838, 0.7604957134368899, 0.7708938120702825, 0.746150581444699, 0.7682624564977505, 0.761743485272897, 0.7669892199303965, 0.7435786435786435, 0.7682879212290977, 0.7656395891690009, 0.7422799422799422, 0.7539597657244717, 0.6511416687887276, 0.7578728461081402, 0.727900857312622, 0.7813003989474577]}, {\"categories\": [\"0\", \"2\", \"5\", \"6\", \"7\", \"8\", \"9\", \"10\", \"11\", \"12\", \"13\", \"14\", \"15\", \"16\", \"17\", \"18\", \"19\", \"20\", \"21\", \"22\", \"23\", \"24\", \"25\", \"26\", \"27\", \"28\"], \"mode\": \"lines\", \"name\": \"accuracy_max\", \"stepped\": true, \"type\": \"scatter\", \"data\": [0.7435277141159494, 0.7553009082420846, 0.7553009082420846, 0.7553009082420846, 0.7578558696205755, 0.7578558696205755, 0.7578558696205755, 0.7578558696205755, 0.7578558696205755, 0.7578558696205755, 0.7578558696205755, 0.7604957134368899, 0.7708938120702825, 0.7708938120702825, 0.7708938120702825, 0.7708938120702825, 0.7708938120702825, 0.7708938120702825, 0.7708938120702825, 0.7708938120702825, 0.7708938120702825, 0.7708938120702825, 0.7708938120702825, 0.7708938120702825, 0.7708938120702825, 0.7813003989474577]}], \"average_precision_score_weighted\": [{\"categories\": [\"0\", \"2\", \"5\", \"6\", \"7\", \"8\", \"9\", \"10\", \"11\", \"12\", \"13\", \"14\", \"15\", \"16\", \"17\", \"18\", \"19\", \"20\", \"21\", \"22\", \"23\", \"24\", \"25\", \"26\", \"27\", \"28\"], \"mode\": \"markers\", \"name\": \"average_precision_score_weighted\", \"stepped\": false, \"type\": \"scatter\", \"data\": [0.8183229088104544, 0.8281518418528544, 0.8126779517148845, 0.8325750478335401, 0.8267370136566268, 0.7880625636552105, 0.767257478177501, 0.7570791904749641, 0.7744749800399326, 0.7342847071476772, 0.7026049990417864, 0.8451221786825055, 0.8342537315008878, 0.8332250659559876, 0.8219358305355708, 0.8145916300342225, 0.8420378371073246, 0.8377247089820525, 0.8398203759833974, 0.8409130003994715, 0.804806145801912, 0.830773585509115, 0.6488781624219179, 0.8380181032817473, 0.8261271879577607, 0.8470770703182211]}, {\"categories\": [\"0\", \"2\", \"5\", \"6\", \"7\", \"8\", \"9\", \"10\", \"11\", \"12\", \"13\", \"14\", \"15\", \"16\", \"17\", \"18\", \"19\", \"20\", \"21\", \"22\", \"23\", \"24\", \"25\", \"26\", \"27\", \"28\"], \"mode\": \"lines\", \"name\": \"average_precision_score_weighted_max\", \"stepped\": true, \"type\": \"scatter\", \"data\": [0.8183229088104544, 0.8281518418528544, 0.8281518418528544, 0.8325750478335401, 0.8325750478335401, 0.8325750478335401, 0.8325750478335401, 0.8325750478335401, 0.8325750478335401, 0.8325750478335401, 0.8325750478335401, 0.8451221786825055, 0.8451221786825055, 0.8451221786825055, 0.8451221786825055, 0.8451221786825055, 0.8451221786825055, 0.8451221786825055, 0.8451221786825055, 0.8451221786825055, 0.8451221786825055, 0.8451221786825055, 0.8451221786825055, 0.8451221786825055, 0.8451221786825055, 0.8470770703182211]}], \"matthews_correlation\": [{\"categories\": [\"0\", \"2\", \"5\", \"6\", \"7\", \"8\", \"9\", \"10\", \"11\", \"12\", \"13\", \"14\", \"15\", \"16\", \"17\", \"18\", \"19\", \"20\", \"21\", \"22\", \"23\", \"24\", \"25\", \"26\", \"27\", \"28\"], \"mode\": \"markers\", \"name\": \"matthews_correlation\", \"stepped\": false, \"type\": \"scatter\", \"data\": [0.4246377532584085, 0.42873016632133343, 0.4554574348427291, 0.44070255303107153, 0.4507881488661846, 0.3536736003429463, 0.3296689207197475, 0.32056869029928875, 0.3278983102226679, 0.28433709974188376, 0.10804772018981312, 0.44232434654997393, 0.47502303298834575, 0.40828784465018575, 0.4663102387993311, 0.44845078179020614, 0.4633167830657242, 0.4132067422660562, 0.46886560918249937, 0.45653929882674466, 0.4182740757360966, 0.43377261306083675, 0.0, 0.43483638426288795, 0.36447915828598776, 0.49643895919748227]}, {\"categories\": [\"0\", \"2\", \"5\", \"6\", \"7\", \"8\", \"9\", \"10\", \"11\", \"12\", \"13\", \"14\", \"15\", \"16\", \"17\", \"18\", \"19\", \"20\", \"21\", \"22\", \"23\", \"24\", \"25\", \"26\", \"27\", \"28\"], \"mode\": \"lines\", \"name\": \"matthews_correlation_max\", \"stepped\": true, \"type\": \"scatter\", \"data\": [0.4246377532584085, 0.42873016632133343, 0.4554574348427291, 0.4554574348427291, 0.4554574348427291, 0.4554574348427291, 0.4554574348427291, 0.4554574348427291, 0.4554574348427291, 0.4554574348427291, 0.4554574348427291, 0.4554574348427291, 0.47502303298834575, 0.47502303298834575, 0.47502303298834575, 0.47502303298834575, 0.47502303298834575, 0.47502303298834575, 0.47502303298834575, 0.47502303298834575, 0.47502303298834575, 0.47502303298834575, 0.47502303298834575, 0.47502303298834575, 0.47502303298834575, 0.49643895919748227]}], \"AUC_macro\": [{\"categories\": [\"0\", \"2\", \"5\", \"6\", \"7\", \"8\", \"9\", \"10\", \"11\", \"12\", \"13\", \"14\", \"15\", \"16\", \"17\", \"18\", \"19\", \"20\", \"21\", \"22\", \"23\", \"24\", \"25\", \"26\", \"27\", \"28\"], \"mode\": \"markers\", \"name\": \"AUC_macro\", \"stepped\": false, \"type\": \"scatter\", \"data\": [0.8062007971845107, 0.8281594103402045, 0.8058537284761191, 0.8210082931168353, 0.8254929325745243, 0.7660757757340357, 0.750158214052964, 0.7428467468941343, 0.7540367688557454, 0.7119202261360748, 0.6971397124948764, 0.8330346391749653, 0.8211489237783717, 0.8200322843012682, 0.8095620122947718, 0.8002199397485285, 0.832996282619666, 0.8267030827081294, 0.8324337937961535, 0.8322209212110698, 0.7958181343877662, 0.827039694767354, 0.6152430887147845, 0.830173496336684, 0.8126995069585188, 0.8342579407687225]}, {\"categories\": [\"0\", \"2\", \"5\", \"6\", \"7\", \"8\", \"9\", \"10\", \"11\", \"12\", \"13\", \"14\", \"15\", \"16\", \"17\", \"18\", \"19\", \"20\", \"21\", \"22\", \"23\", \"24\", \"25\", \"26\", \"27\", \"28\"], \"mode\": \"lines\", \"name\": \"AUC_macro_max\", \"stepped\": true, \"type\": \"scatter\", \"data\": [0.8062007971845107, 0.8281594103402045, 0.8281594103402045, 0.8281594103402045, 0.8281594103402045, 0.8281594103402045, 0.8281594103402045, 0.8281594103402045, 0.8281594103402045, 0.8281594103402045, 0.8281594103402045, 0.8330346391749653, 0.8330346391749653, 0.8330346391749653, 0.8330346391749653, 0.8330346391749653, 0.8330346391749653, 0.8330346391749653, 0.8330346391749653, 0.8330346391749653, 0.8330346391749653, 0.8330346391749653, 0.8330346391749653, 0.8330346391749653, 0.8330346391749653, 0.8342579407687225]}], \"weighted_accuracy\": [{\"categories\": [\"0\", \"2\", \"5\", \"6\", \"7\", \"8\", \"9\", \"10\", \"11\", \"12\", \"13\", \"14\", \"15\", \"16\", \"17\", \"18\", \"19\", \"20\", \"21\", \"22\", \"23\", \"24\", \"25\", \"26\", \"27\", \"28\"], \"mode\": \"markers\", \"name\": \"weighted_accuracy\", \"stepped\": false, \"type\": \"scatter\", \"data\": [0.7692349431628938, 0.801161293227762, 0.7368688507628246, 0.7782938733205764, 0.7873821376130203, 0.7611297202652938, 0.7579924122975384, 0.7464178984592997, 0.7559162796835173, 0.7477165020957265, 0.7347270245101865, 0.8081544615872132, 0.8095292948689675, 0.8126430899132098, 0.8117980132034847, 0.808013939868397, 0.8074725812729928, 0.8190829225904575, 0.8050317727195331, 0.8108769179735591, 0.7762408888995969, 0.7951634103317552, 0.7698004941684061, 0.8115533344690047, 0.8011340209024919, 0.821834725801539]}, {\"categories\": [\"0\", \"2\", \"5\", \"6\", \"7\", \"8\", \"9\", \"10\", \"11\", \"12\", \"13\", \"14\", \"15\", \"16\", \"17\", \"18\", \"19\", \"20\", \"21\", \"22\", \"23\", \"24\", \"25\", \"26\", \"27\", \"28\"], \"mode\": \"lines\", \"name\": \"weighted_accuracy_max\", \"stepped\": true, \"type\": \"scatter\", \"data\": [0.7692349431628938, 0.801161293227762, 0.801161293227762, 0.801161293227762, 0.801161293227762, 0.801161293227762, 0.801161293227762, 0.801161293227762, 0.801161293227762, 0.801161293227762, 0.801161293227762, 0.8081544615872132, 0.8095292948689675, 0.8126430899132098, 0.8126430899132098, 0.8126430899132098, 0.8126430899132098, 0.8190829225904575, 0.8190829225904575, 0.8190829225904575, 0.8190829225904575, 0.8190829225904575, 0.8190829225904575, 0.8190829225904575, 0.8190829225904575, 0.821834725801539]}], \"norm_macro_recall\": [{\"categories\": [\"0\", \"2\", \"5\", \"6\", \"7\", \"8\", \"9\", \"10\", \"11\", \"12\", \"13\", \"14\", \"15\", \"16\", \"17\", \"18\", \"19\", \"20\", \"21\", \"22\", \"23\", \"24\", \"25\", \"26\", \"27\", \"28\"], \"mode\": \"markers\", \"name\": \"norm_macro_recall\", \"stepped\": false, \"type\": \"scatter\", \"data\": [0.420946354852849, 0.39261423545768676, 0.47482486634943555, 0.4344782554766601, 0.4393973660732852, 0.33191911840507854, 0.3030262927030176, 0.30223876786824594, 0.3027961546839499, 0.251974444414542, 0.08972431522364399, 0.3986826861947242, 0.44261127811679, 0.32392156265347094, 0.4263174121899708, 0.40508255718942754, 0.4312694820347295, 0.29672217790229205, 0.44313420609963006, 0.4154056735673016, 0.4000214285641501, 0.403901441249009, 0.0, 0.3781633273097472, 0.2725605869919998, 0.45828848766508623]}, {\"categories\": [\"0\", \"2\", \"5\", \"6\", \"7\", \"8\", \"9\", \"10\", \"11\", \"12\", \"13\", \"14\", \"15\", \"16\", \"17\", \"18\", \"19\", \"20\", \"21\", \"22\", \"23\", \"24\", \"25\", \"26\", \"27\", \"28\"], \"mode\": \"lines\", \"name\": \"norm_macro_recall_max\", \"stepped\": true, \"type\": \"scatter\", \"data\": [0.420946354852849, 0.420946354852849, 0.47482486634943555, 0.47482486634943555, 0.47482486634943555, 0.47482486634943555, 0.47482486634943555, 0.47482486634943555, 0.47482486634943555, 0.47482486634943555, 0.47482486634943555, 0.47482486634943555, 0.47482486634943555, 0.47482486634943555, 0.47482486634943555, 0.47482486634943555, 0.47482486634943555, 0.47482486634943555, 0.47482486634943555, 0.47482486634943555, 0.47482486634943555, 0.47482486634943555, 0.47482486634943555, 0.47482486634943555, 0.47482486634943555, 0.47482486634943555]}], \"f1_score_weighted\": [{\"categories\": [\"0\", \"2\", \"5\", \"6\", \"7\", \"8\", \"9\", \"10\", \"11\", \"12\", \"13\", \"14\", \"15\", \"16\", \"17\", \"18\", \"19\", \"20\", \"21\", \"22\", \"23\", \"24\", \"25\", \"26\", \"27\", \"28\"], \"mode\": \"markers\", \"name\": \"f1_score_weighted\", \"stepped\": false, \"type\": \"scatter\", \"data\": [0.7417695202219394, 0.7426995209772606, 0.7427443528990669, 0.7490869193690998, 0.754081529484236, 0.7084351228263952, 0.6983345257108604, 0.695684379849759, 0.6983875028795248, 0.6769108132918986, 0.57560877087662, 0.7478247768229879, 0.7636281956902014, 0.7184464642586615, 0.7581895994889724, 0.7502450159228491, 0.7585027607637989, 0.7050640434287793, 0.7614133647705004, 0.7549608249717628, 0.7371506208683959, 0.7451315900549134, 0.5146586817401758, 0.741378948505078, 0.6901667374319027, 0.7727926435717127]}, {\"categories\": [\"0\", \"2\", \"5\", \"6\", \"7\", \"8\", \"9\", \"10\", \"11\", \"12\", \"13\", \"14\", \"15\", \"16\", \"17\", \"18\", \"19\", \"20\", \"21\", \"22\", \"23\", \"24\", \"25\", \"26\", \"27\", \"28\"], \"mode\": \"lines\", \"name\": \"f1_score_weighted_max\", \"stepped\": true, \"type\": \"scatter\", \"data\": [0.7417695202219394, 0.7426995209772606, 0.7427443528990669, 0.7490869193690998, 0.754081529484236, 0.754081529484236, 0.754081529484236, 0.754081529484236, 0.754081529484236, 0.754081529484236, 0.754081529484236, 0.754081529484236, 0.7636281956902014, 0.7636281956902014, 0.7636281956902014, 0.7636281956902014, 0.7636281956902014, 0.7636281956902014, 0.7636281956902014, 0.7636281956902014, 0.7636281956902014, 0.7636281956902014, 0.7636281956902014, 0.7636281956902014, 0.7636281956902014, 0.7727926435717127]}], \"recall_score_micro\": [{\"categories\": [\"0\", \"2\", \"5\", \"6\", \"7\", \"8\", \"9\", \"10\", \"11\", \"12\", \"13\", \"14\", \"15\", \"16\", \"17\", \"18\", \"19\", \"20\", \"21\", \"22\", \"23\", \"24\", \"25\", \"26\", \"27\", \"28\"], \"mode\": \"markers\", \"name\": \"recall_score_micro\", \"stepped\": false, \"type\": \"scatter\", \"data\": [0.7435277141159494, 0.7553009082420846, 0.7369747899159664, 0.7513114336643748, 0.7578558696205755, 0.718860877684407, 0.7110262286732875, 0.704532722179781, 0.7097105508870214, 0.6940752058399118, 0.6484678719972838, 0.7604957134368899, 0.7708938120702825, 0.746150581444699, 0.7682624564977505, 0.761743485272897, 0.7669892199303965, 0.7435786435786435, 0.7682879212290977, 0.7656395891690009, 0.7422799422799422, 0.7539597657244717, 0.6511416687887276, 0.7578728461081402, 0.727900857312622, 0.7813003989474577]}, {\"categories\": [\"0\", \"2\", \"5\", \"6\", \"7\", \"8\", \"9\", \"10\", \"11\", \"12\", \"13\", \"14\", \"15\", \"16\", \"17\", \"18\", \"19\", \"20\", \"21\", \"22\", \"23\", \"24\", \"25\", \"26\", \"27\", \"28\"], \"mode\": \"lines\", \"name\": \"recall_score_micro_max\", \"stepped\": true, \"type\": \"scatter\", \"data\": [0.7435277141159494, 0.7553009082420846, 0.7553009082420846, 0.7553009082420846, 0.7578558696205755, 0.7578558696205755, 0.7578558696205755, 0.7578558696205755, 0.7578558696205755, 0.7578558696205755, 0.7578558696205755, 0.7604957134368899, 0.7708938120702825, 0.7708938120702825, 0.7708938120702825, 0.7708938120702825, 0.7708938120702825, 0.7708938120702825, 0.7708938120702825, 0.7708938120702825, 0.7708938120702825, 0.7708938120702825, 0.7708938120702825, 0.7708938120702825, 0.7708938120702825, 0.7813003989474577]}], \"average_precision_score_micro\": [{\"categories\": [\"0\", \"2\", \"5\", \"6\", \"7\", \"8\", \"9\", \"10\", \"11\", \"12\", \"13\", \"14\", \"15\", \"16\", \"17\", \"18\", \"19\", \"20\", \"21\", \"22\", \"23\", \"24\", \"25\", \"26\", \"27\", \"28\"], \"mode\": \"markers\", \"name\": \"average_precision_score_micro\", \"stepped\": false, \"type\": \"scatter\", \"data\": [0.8327853787564277, 0.8449785223324613, 0.8069628836384874, 0.844500337053592, 0.845993492495254, 0.8035091285138671, 0.7841739193583097, 0.7746861330663863, 0.7871516893929058, 0.7489103249492068, 0.727791529370266, 0.8518559881759925, 0.8401378366740626, 0.8279237076917028, 0.8305028867080843, 0.8249740549935553, 0.8528436660854262, 0.8257028659957181, 0.8529898075843791, 0.8525092019840921, 0.8193367634349477, 0.844072268178307, 0.6912969401240578, 0.8445017548027852, 0.8209417274225664, 0.855956834787699]}, {\"categories\": [\"0\", \"2\", \"5\", \"6\", \"7\", \"8\", \"9\", \"10\", \"11\", \"12\", \"13\", \"14\", \"15\", \"16\", \"17\", \"18\", \"19\", \"20\", \"21\", \"22\", \"23\", \"24\", \"25\", \"26\", \"27\", \"28\"], \"mode\": \"lines\", \"name\": \"average_precision_score_micro_max\", \"stepped\": true, \"type\": \"scatter\", \"data\": [0.8327853787564277, 0.8449785223324613, 0.8449785223324613, 0.8449785223324613, 0.845993492495254, 0.845993492495254, 0.845993492495254, 0.845993492495254, 0.845993492495254, 0.845993492495254, 0.845993492495254, 0.8518559881759925, 0.8518559881759925, 0.8518559881759925, 0.8518559881759925, 0.8518559881759925, 0.8528436660854262, 0.8528436660854262, 0.8529898075843791, 0.8529898075843791, 0.8529898075843791, 0.8529898075843791, 0.8529898075843791, 0.8529898075843791, 0.8529898075843791, 0.855956834787699]}], \"precision_score_micro\": [{\"categories\": [\"0\", \"2\", \"5\", \"6\", \"7\", \"8\", \"9\", \"10\", \"11\", \"12\", \"13\", \"14\", \"15\", \"16\", \"17\", \"18\", \"19\", \"20\", \"21\", \"22\", \"23\", \"24\", \"25\", \"26\", \"27\", \"28\"], \"mode\": \"markers\", \"name\": \"precision_score_micro\", \"stepped\": false, \"type\": \"scatter\", \"data\": [0.7435277141159494, 0.7553009082420846, 0.7369747899159664, 0.7513114336643748, 0.7578558696205755, 0.718860877684407, 0.7110262286732875, 0.704532722179781, 0.7097105508870214, 0.6940752058399118, 0.6484678719972838, 0.7604957134368899, 0.7708938120702825, 0.746150581444699, 0.7682624564977505, 0.761743485272897, 0.7669892199303965, 0.7435786435786435, 0.7682879212290977, 0.7656395891690009, 0.7422799422799422, 0.7539597657244717, 0.6511416687887276, 0.7578728461081402, 0.727900857312622, 0.7813003989474577]}, {\"categories\": [\"0\", \"2\", \"5\", \"6\", \"7\", \"8\", \"9\", \"10\", \"11\", \"12\", \"13\", \"14\", \"15\", \"16\", \"17\", \"18\", \"19\", \"20\", \"21\", \"22\", \"23\", \"24\", \"25\", \"26\", \"27\", \"28\"], \"mode\": \"lines\", \"name\": \"precision_score_micro_max\", \"stepped\": true, \"type\": \"scatter\", \"data\": [0.7435277141159494, 0.7553009082420846, 0.7553009082420846, 0.7553009082420846, 0.7578558696205755, 0.7578558696205755, 0.7578558696205755, 0.7578558696205755, 0.7578558696205755, 0.7578558696205755, 0.7578558696205755, 0.7604957134368899, 0.7708938120702825, 0.7708938120702825, 0.7708938120702825, 0.7708938120702825, 0.7708938120702825, 0.7708938120702825, 0.7708938120702825, 0.7708938120702825, 0.7708938120702825, 0.7708938120702825, 0.7708938120702825, 0.7708938120702825, 0.7708938120702825, 0.7813003989474577]}], \"AUC_weighted\": [{\"categories\": [\"0\", \"2\", \"5\", \"6\", \"7\", \"8\", \"9\", \"10\", \"11\", \"12\", \"13\", \"14\", \"15\", \"16\", \"17\", \"18\", \"19\", \"20\", \"21\", \"22\", \"23\", \"24\", \"25\", \"26\", \"27\", \"28\"], \"mode\": \"markers\", \"name\": \"AUC_weighted\", \"stepped\": false, \"type\": \"scatter\", \"data\": [0.8062007971845107, 0.8281594103402045, 0.8058537284761191, 0.8210082931168353, 0.8254929325745243, 0.7660757757340357, 0.750158214052964, 0.7428467468941343, 0.7540367688557454, 0.7119202261360748, 0.6971397124948764, 0.8330346391749652, 0.8211489237783717, 0.820032284301268, 0.8095620122947718, 0.8002199397485285, 0.832996282619666, 0.8267030827081294, 0.8324337937961535, 0.8322209212110698, 0.7958181343877662, 0.8270396947673537, 0.6152430887147846, 0.830173496336684, 0.8126995069585188, 0.8342579407687225]}, {\"categories\": [\"0\", \"2\", \"5\", \"6\", \"7\", \"8\", \"9\", \"10\", \"11\", \"12\", \"13\", \"14\", \"15\", \"16\", \"17\", \"18\", \"19\", \"20\", \"21\", \"22\", \"23\", \"24\", \"25\", \"26\", \"27\", \"28\"], \"mode\": \"lines\", \"name\": \"AUC_weighted_max\", \"stepped\": true, \"type\": \"scatter\", \"data\": [0.8062007971845107, 0.8281594103402045, 0.8281594103402045, 0.8281594103402045, 0.8281594103402045, 0.8281594103402045, 0.8281594103402045, 0.8281594103402045, 0.8281594103402045, 0.8281594103402045, 0.8281594103402045, 0.8330346391749652, 0.8330346391749652, 0.8330346391749652, 0.8330346391749652, 0.8330346391749652, 0.8330346391749652, 0.8330346391749652, 0.8330346391749652, 0.8330346391749652, 0.8330346391749652, 0.8330346391749652, 0.8330346391749652, 0.8330346391749652, 0.8330346391749652, 0.8342579407687225]}], \"recall_score_weighted\": [{\"categories\": [\"0\", \"2\", \"5\", \"6\", \"7\", \"8\", \"9\", \"10\", \"11\", \"12\", \"13\", \"14\", \"15\", \"16\", \"17\", \"18\", \"19\", \"20\", \"21\", \"22\", \"23\", \"24\", \"25\", \"26\", \"27\", \"28\"], \"mode\": \"markers\", \"name\": \"recall_score_weighted\", \"stepped\": false, \"type\": \"scatter\", \"data\": [0.7435277141159494, 0.7553009082420846, 0.7369747899159664, 0.7513114336643748, 0.7578558696205755, 0.718860877684407, 0.7110262286732875, 0.704532722179781, 0.7097105508870214, 0.6940752058399118, 0.6484678719972838, 0.7604957134368899, 0.7708938120702825, 0.746150581444699, 0.7682624564977505, 0.761743485272897, 0.7669892199303965, 0.7435786435786435, 0.7682879212290977, 0.7656395891690009, 0.7422799422799422, 0.7539597657244717, 0.6511416687887276, 0.7578728461081402, 0.727900857312622, 0.7813003989474577]}, {\"categories\": [\"0\", \"2\", \"5\", \"6\", \"7\", \"8\", \"9\", \"10\", \"11\", \"12\", \"13\", \"14\", \"15\", \"16\", \"17\", \"18\", \"19\", \"20\", \"21\", \"22\", \"23\", \"24\", \"25\", \"26\", \"27\", \"28\"], \"mode\": \"lines\", \"name\": \"recall_score_weighted_max\", \"stepped\": true, \"type\": \"scatter\", \"data\": [0.7435277141159494, 0.7553009082420846, 0.7553009082420846, 0.7553009082420846, 0.7578558696205755, 0.7578558696205755, 0.7578558696205755, 0.7578558696205755, 0.7578558696205755, 0.7578558696205755, 0.7578558696205755, 0.7604957134368899, 0.7708938120702825, 0.7708938120702825, 0.7708938120702825, 0.7708938120702825, 0.7708938120702825, 0.7708938120702825, 0.7708938120702825, 0.7708938120702825, 0.7708938120702825, 0.7708938120702825, 0.7708938120702825, 0.7708938120702825, 0.7708938120702825, 0.7813003989474577]}], \"log_loss\": [{\"categories\": [\"0\", \"2\", \"5\", \"6\", \"7\", \"8\", \"9\", \"10\", \"11\", \"12\", \"13\", \"14\", \"15\", \"16\", \"17\", \"18\", \"19\", \"20\", \"21\", \"22\", \"23\", \"24\", \"25\", \"26\", \"27\", \"28\"], \"mode\": \"markers\", \"name\": \"log_loss\", \"stepped\": false, \"type\": \"scatter\", \"data\": [0.62702930996628, 0.49678161072758453, 0.5681281257662129, 0.5098976376828953, 0.4869734905276643, 0.5429842329358994, 0.554407651698379, 0.5815167335513968, 0.5531128514500263, 0.5942228549602223, 0.6129305394703799, 0.48992011204544195, 0.489293446415474, 0.5331739432314374, 0.5025137994420295, 0.5066144415783892, 0.4812113895534778, 0.5432150576070358, 0.4796346466401049, 0.49054478473988733, 0.5174118425260709, 0.5005444961427818, 0.6497572804555241, 0.5101178662908485, 0.5419766531315618, 0.4798807243113236]}, {\"categories\": [\"0\", \"2\", \"5\", \"6\", \"7\", \"8\", \"9\", \"10\", \"11\", \"12\", \"13\", \"14\", \"15\", \"16\", \"17\", \"18\", \"19\", \"20\", \"21\", \"22\", \"23\", \"24\", \"25\", \"26\", \"27\", \"28\"], \"mode\": \"lines\", \"name\": \"log_loss_min\", \"stepped\": true, \"type\": \"scatter\", \"data\": [0.62702930996628, 0.49678161072758453, 0.49678161072758453, 0.49678161072758453, 0.4869734905276643, 0.4869734905276643, 0.4869734905276643, 0.4869734905276643, 0.4869734905276643, 0.4869734905276643, 0.4869734905276643, 0.4869734905276643, 0.4869734905276643, 0.4869734905276643, 0.4869734905276643, 0.4869734905276643, 0.4812113895534778, 0.4812113895534778, 0.4796346466401049, 0.4796346466401049, 0.4796346466401049, 0.4796346466401049, 0.4796346466401049, 0.4796346466401049, 0.4796346466401049, 0.4796346466401049]}], \"f1_score_micro\": [{\"categories\": [\"0\", \"2\", \"5\", \"6\", \"7\", \"8\", \"9\", \"10\", \"11\", \"12\", \"13\", \"14\", \"15\", \"16\", \"17\", \"18\", \"19\", \"20\", \"21\", \"22\", \"23\", \"24\", \"25\", \"26\", \"27\", \"28\"], \"mode\": \"markers\", \"name\": \"f1_score_micro\", \"stepped\": false, \"type\": \"scatter\", \"data\": [0.7435277141159494, 0.7553009082420846, 0.7369747899159662, 0.7513114336643748, 0.7578558696205755, 0.718860877684407, 0.7110262286732875, 0.704532722179781, 0.7097105508870214, 0.6940752058399118, 0.6484678719972838, 0.7604957134368898, 0.7708938120702825, 0.746150581444699, 0.7682624564977505, 0.761743485272897, 0.7669892199303965, 0.7435786435786435, 0.7682879212290976, 0.7656395891690009, 0.7422799422799422, 0.7539597657244717, 0.6511416687887276, 0.7578728461081401, 0.727900857312622, 0.7813003989474577]}, {\"categories\": [\"0\", \"2\", \"5\", \"6\", \"7\", \"8\", \"9\", \"10\", \"11\", \"12\", \"13\", \"14\", \"15\", \"16\", \"17\", \"18\", \"19\", \"20\", \"21\", \"22\", \"23\", \"24\", \"25\", \"26\", \"27\", \"28\"], \"mode\": \"lines\", \"name\": \"f1_score_micro_max\", \"stepped\": true, \"type\": \"scatter\", \"data\": [0.7435277141159494, 0.7553009082420846, 0.7553009082420846, 0.7553009082420846, 0.7578558696205755, 0.7578558696205755, 0.7578558696205755, 0.7578558696205755, 0.7578558696205755, 0.7578558696205755, 0.7578558696205755, 0.7604957134368898, 0.7708938120702825, 0.7708938120702825, 0.7708938120702825, 0.7708938120702825, 0.7708938120702825, 0.7708938120702825, 0.7708938120702825, 0.7708938120702825, 0.7708938120702825, 0.7708938120702825, 0.7708938120702825, 0.7708938120702825, 0.7708938120702825, 0.7813003989474577]}], \"recall_score_macro\": [{\"categories\": [\"0\", \"2\", \"5\", \"6\", \"7\", \"8\", \"9\", \"10\", \"11\", \"12\", \"13\", \"14\", \"15\", \"16\", \"17\", \"18\", \"19\", \"20\", \"21\", \"22\", \"23\", \"24\", \"25\", \"26\", \"27\", \"28\"], \"mode\": \"markers\", \"name\": \"recall_score_macro\", \"stepped\": false, \"type\": \"scatter\", \"data\": [0.7104731774264245, 0.6963071177288433, 0.7374124331747177, 0.71723912773833, 0.7196986830366425, 0.6659595592025392, 0.6515131463515089, 0.6511193839341229, 0.6513980773419749, 0.625987222207271, 0.5438204909451553, 0.6993413430973622, 0.721305639058395, 0.6619607813267354, 0.7131587060949854, 0.7025412785947138, 0.7156347410173648, 0.6483610889511461, 0.721567103049815, 0.7077028367836509, 0.7000107142820751, 0.7019507206245045, 0.5, 0.6890816636548737, 0.6362802934959999, 0.7291442438325431]}, {\"categories\": [\"0\", \"2\", \"5\", \"6\", \"7\", \"8\", \"9\", \"10\", \"11\", \"12\", \"13\", \"14\", \"15\", \"16\", \"17\", \"18\", \"19\", \"20\", \"21\", \"22\", \"23\", \"24\", \"25\", \"26\", \"27\", \"28\"], \"mode\": \"lines\", \"name\": \"recall_score_macro_max\", \"stepped\": true, \"type\": \"scatter\", \"data\": [0.7104731774264245, 0.7104731774264245, 0.7374124331747177, 0.7374124331747177, 0.7374124331747177, 0.7374124331747177, 0.7374124331747177, 0.7374124331747177, 0.7374124331747177, 0.7374124331747177, 0.7374124331747177, 0.7374124331747177, 0.7374124331747177, 0.7374124331747177, 0.7374124331747177, 0.7374124331747177, 0.7374124331747177, 0.7374124331747177, 0.7374124331747177, 0.7374124331747177, 0.7374124331747177, 0.7374124331747177, 0.7374124331747177, 0.7374124331747177, 0.7374124331747177, 0.7374124331747177]}], \"average_precision_score_macro\": [{\"categories\": [\"0\", \"2\", \"5\", \"6\", \"7\", \"8\", \"9\", \"10\", \"11\", \"12\", \"13\", \"14\", \"15\", \"16\", \"17\", \"18\", \"19\", \"20\", \"21\", \"22\", \"23\", \"24\", \"25\", \"26\", \"27\", \"28\"], \"mode\": \"markers\", \"name\": \"average_precision_score_macro\", \"stepped\": false, \"type\": \"scatter\", \"data\": [0.7848257443237637, 0.7934077239881476, 0.7740760664183702, 0.7993330181601439, 0.7922566798367476, 0.7543822265332896, 0.7317267872368305, 0.7242857680378055, 0.7418012484920434, 0.6973739442267882, 0.657615829876303, 0.8165662279744476, 0.8061846300149655, 0.8010394380722013, 0.7929266024703404, 0.7870227491523669, 0.8107901083370048, 0.8071604606069769, 0.8090062302491742, 0.8082444055838574, 0.7695410164105259, 0.7986260511390376, 0.6001050529194674, 0.8069468998368654, 0.7909603183072458, 0.8174457694427424]}, {\"categories\": [\"0\", \"2\", \"5\", \"6\", \"7\", \"8\", \"9\", \"10\", \"11\", \"12\", \"13\", \"14\", \"15\", \"16\", \"17\", \"18\", \"19\", \"20\", \"21\", \"22\", \"23\", \"24\", \"25\", \"26\", \"27\", \"28\"], \"mode\": \"lines\", \"name\": \"average_precision_score_macro_max\", \"stepped\": true, \"type\": \"scatter\", \"data\": [0.7848257443237637, 0.7934077239881476, 0.7934077239881476, 0.7993330181601439, 0.7993330181601439, 0.7993330181601439, 0.7993330181601439, 0.7993330181601439, 0.7993330181601439, 0.7993330181601439, 0.7993330181601439, 0.8165662279744476, 0.8165662279744476, 0.8165662279744476, 0.8165662279744476, 0.8165662279744476, 0.8165662279744476, 0.8165662279744476, 0.8165662279744476, 0.8165662279744476, 0.8165662279744476, 0.8165662279744476, 0.8165662279744476, 0.8165662279744476, 0.8165662279744476, 0.8174457694427424]}], \"balanced_accuracy\": [{\"categories\": [\"0\", \"2\", \"5\", \"6\", \"7\", \"8\", \"9\", \"10\", \"11\", \"12\", \"13\", \"14\", \"15\", \"16\", \"17\", \"18\", \"19\", \"20\", \"21\", \"22\", \"23\", \"24\", \"25\", \"26\", \"27\", \"28\"], \"mode\": \"markers\", \"name\": \"balanced_accuracy\", \"stepped\": false, \"type\": \"scatter\", \"data\": [0.7104731774264245, 0.6963071177288433, 0.7374124331747177, 0.71723912773833, 0.7196986830366425, 0.6659595592025392, 0.6515131463515089, 0.6511193839341229, 0.6513980773419749, 0.625987222207271, 0.5438204909451553, 0.6993413430973622, 0.721305639058395, 0.6619607813267354, 0.7131587060949854, 0.7025412785947138, 0.7156347410173648, 0.6483610889511461, 0.721567103049815, 0.7077028367836509, 0.7000107142820751, 0.7019507206245045, 0.5, 0.6890816636548737, 0.6362802934959999, 0.7291442438325431]}, {\"categories\": [\"0\", \"2\", \"5\", \"6\", \"7\", \"8\", \"9\", \"10\", \"11\", \"12\", \"13\", \"14\", \"15\", \"16\", \"17\", \"18\", \"19\", \"20\", \"21\", \"22\", \"23\", \"24\", \"25\", \"26\", \"27\", \"28\"], \"mode\": \"lines\", \"name\": \"balanced_accuracy_max\", \"stepped\": true, \"type\": \"scatter\", \"data\": [0.7104731774264245, 0.7104731774264245, 0.7374124331747177, 0.7374124331747177, 0.7374124331747177, 0.7374124331747177, 0.7374124331747177, 0.7374124331747177, 0.7374124331747177, 0.7374124331747177, 0.7374124331747177, 0.7374124331747177, 0.7374124331747177, 0.7374124331747177, 0.7374124331747177, 0.7374124331747177, 0.7374124331747177, 0.7374124331747177, 0.7374124331747177, 0.7374124331747177, 0.7374124331747177, 0.7374124331747177, 0.7374124331747177, 0.7374124331747177, 0.7374124331747177, 0.7374124331747177]}], \"AUC_micro\": [{\"categories\": [\"0\", \"2\", \"5\", \"6\", \"7\", \"8\", \"9\", \"10\", \"11\", \"12\", \"13\", \"14\", \"15\", \"16\", \"17\", \"18\", \"19\", \"20\", \"21\", \"22\", \"23\", \"24\", \"25\", \"26\", \"27\", \"28\"], \"mode\": \"markers\", \"name\": \"AUC_micro\", \"stepped\": false, \"type\": \"scatter\", \"data\": [0.8308010717565983, 0.8443519697081013, 0.8079859589274051, 0.8427682573056231, 0.8453381478629011, 0.8008986208502378, 0.7864944562603305, 0.7854547487083925, 0.7937494877675227, 0.7615031820899194, 0.7397627788399069, 0.8496206268027295, 0.8461183090424091, 0.8214891876914974, 0.8370528380242426, 0.8327439537366288, 0.8513783114571023, 0.8191745846144505, 0.8515578402267838, 0.8493555783104757, 0.822504536483925, 0.8464053670947124, 0.7029989982633073, 0.8409124988874537, 0.812580103252522, 0.8537210613372629]}, {\"categories\": [\"0\", \"2\", \"5\", \"6\", \"7\", \"8\", \"9\", \"10\", \"11\", \"12\", \"13\", \"14\", \"15\", \"16\", \"17\", \"18\", \"19\", \"20\", \"21\", \"22\", \"23\", \"24\", \"25\", \"26\", \"27\", \"28\"], \"mode\": \"lines\", \"name\": \"AUC_micro_max\", \"stepped\": true, \"type\": \"scatter\", \"data\": [0.8308010717565983, 0.8443519697081013, 0.8443519697081013, 0.8443519697081013, 0.8453381478629011, 0.8453381478629011, 0.8453381478629011, 0.8453381478629011, 0.8453381478629011, 0.8453381478629011, 0.8453381478629011, 0.8496206268027295, 0.8496206268027295, 0.8496206268027295, 0.8496206268027295, 0.8496206268027295, 0.8513783114571023, 0.8513783114571023, 0.8515578402267838, 0.8515578402267838, 0.8515578402267838, 0.8515578402267838, 0.8515578402267838, 0.8515578402267838, 0.8515578402267838, 0.8537210613372629]}]}, \"metricName\": null, \"primaryMetricName\": \"accuracy\", \"showLegend\": false}, \"run_metrics\": [{\"name\": \"experiment_status\", \"run_id\": \"AutoML_203fb225-3062-46f0-be4a-b09778aff31a\", \"categories\": [0, 1, 2, 3, 4, 5, 6, 7, 8, 9, 10, 11, 12, 13], \"series\": [{\"data\": [\"DatasetEvaluation\", \"FeaturesGeneration\", \"DatasetFeaturization\", \"DatasetFeaturizationCompleted\", \"DatasetCrossValidationSplit\", \"ModelSelection\", \"BestRunExplainModel\", \"ModelExplanationDataSetSetup\", \"PickSurrogateModel\", \"EngineeredFeatureExplanations\", \"EngineeredFeatureExplanations\", \"RawFeaturesExplanations\", \"RawFeaturesExplanations\", \"BestRunExplainModel\"]}]}, {\"name\": \"experiment_status_description\", \"run_id\": \"AutoML_203fb225-3062-46f0-be4a-b09778aff31a\", \"categories\": [0, 1, 2, 3, 4, 5, 6, 7, 8, 9, 10, 11, 12, 13], \"series\": [{\"data\": [\"Gathering dataset statistics.\", \"Generating features for the dataset.\", \"Beginning to fit featurizers and featurize the dataset.\", \"Completed fit featurizers and featurizing the dataset.\", \"Generating individually featurized CV splits.\", \"Beginning model selection.\", \"Best run model explanations started\", \"Model explanations data setup completed\", \"Choosing LightGBM as the surrogate model for explanations\", \"Computation of engineered features started\", \"Computation of engineered features completed\", \"Computation of raw features started\", \"Computation of raw features completed\", \"Best run model explanations completed\"]}]}, {\"name\": \"f1_score_weighted\", \"run_id\": \"AutoML_203fb225-3062-46f0-be4a-b09778aff31a\", \"categories\": [0], \"series\": [{\"data\": [0.7727926435717127]}]}, {\"name\": \"log_loss\", \"run_id\": \"AutoML_203fb225-3062-46f0-be4a-b09778aff31a\", \"categories\": [0], \"series\": [{\"data\": [0.4798807243113236]}]}, {\"name\": \"recall_score_macro\", \"run_id\": \"AutoML_203fb225-3062-46f0-be4a-b09778aff31a\", \"categories\": [0], \"series\": [{\"data\": [0.7291442438325431]}]}, {\"name\": \"AUC_micro\", \"run_id\": \"AutoML_203fb225-3062-46f0-be4a-b09778aff31a\", \"categories\": [0], \"series\": [{\"data\": [0.8537210613372629]}]}, {\"name\": \"average_precision_score_micro\", \"run_id\": \"AutoML_203fb225-3062-46f0-be4a-b09778aff31a\", \"categories\": [0], \"series\": [{\"data\": [0.855956834787699]}]}, {\"name\": \"precision_score_micro\", \"run_id\": \"AutoML_203fb225-3062-46f0-be4a-b09778aff31a\", \"categories\": [0], \"series\": [{\"data\": [0.7813003989474577]}]}, {\"name\": \"f1_score_micro\", \"run_id\": \"AutoML_203fb225-3062-46f0-be4a-b09778aff31a\", \"categories\": [0], \"series\": [{\"data\": [0.7813003989474577]}]}, {\"name\": \"f1_score_macro\", \"run_id\": \"AutoML_203fb225-3062-46f0-be4a-b09778aff31a\", \"categories\": [0], \"series\": [{\"data\": [0.7393219157340649]}]}, {\"name\": \"precision_score_macro\", \"run_id\": \"AutoML_203fb225-3062-46f0-be4a-b09778aff31a\", \"categories\": [0], \"series\": [{\"data\": [0.7693396855369409]}]}, {\"name\": \"AUC_macro\", \"run_id\": \"AutoML_203fb225-3062-46f0-be4a-b09778aff31a\", \"categories\": [0], \"series\": [{\"data\": [0.8342579407687225]}]}, {\"name\": \"recall_score_micro\", \"run_id\": \"AutoML_203fb225-3062-46f0-be4a-b09778aff31a\", \"categories\": [0], \"series\": [{\"data\": [0.7813003989474577]}]}, {\"name\": \"average_precision_score_macro\", \"run_id\": \"AutoML_203fb225-3062-46f0-be4a-b09778aff31a\", \"categories\": [0], \"series\": [{\"data\": [0.8174457694427424]}]}, {\"name\": \"weighted_accuracy\", \"run_id\": \"AutoML_203fb225-3062-46f0-be4a-b09778aff31a\", \"categories\": [0], \"series\": [{\"data\": [0.821834725801539]}]}, {\"name\": \"precision_score_weighted\", \"run_id\": \"AutoML_203fb225-3062-46f0-be4a-b09778aff31a\", \"categories\": [0], \"series\": [{\"data\": [0.7808728728622271]}]}, {\"name\": \"recall_score_weighted\", \"run_id\": \"AutoML_203fb225-3062-46f0-be4a-b09778aff31a\", \"categories\": [0], \"series\": [{\"data\": [0.7813003989474577]}]}, {\"name\": \"accuracy\", \"run_id\": \"AutoML_203fb225-3062-46f0-be4a-b09778aff31a\", \"categories\": [0], \"series\": [{\"data\": [0.7813003989474577]}]}, {\"name\": \"balanced_accuracy\", \"run_id\": \"AutoML_203fb225-3062-46f0-be4a-b09778aff31a\", \"categories\": [0], \"series\": [{\"data\": [0.7291442438325431]}]}, {\"name\": \"matthews_correlation\", \"run_id\": \"AutoML_203fb225-3062-46f0-be4a-b09778aff31a\", \"categories\": [0], \"series\": [{\"data\": [0.49643895919748227]}]}, {\"name\": \"average_precision_score_weighted\", \"run_id\": \"AutoML_203fb225-3062-46f0-be4a-b09778aff31a\", \"categories\": [0], \"series\": [{\"data\": [0.8470770703182211]}]}, {\"name\": \"norm_macro_recall\", \"run_id\": \"AutoML_203fb225-3062-46f0-be4a-b09778aff31a\", \"categories\": [0], \"series\": [{\"data\": [0.45828848766508623]}]}, {\"name\": \"AUC_weighted\", \"run_id\": \"AutoML_203fb225-3062-46f0-be4a-b09778aff31a\", \"categories\": [0], \"series\": [{\"data\": [0.8342579407687225]}]}], \"run_logs\": \"\\nRun is completed.\", \"graph\": {}, \"widget_settings\": {\"childWidgetDisplay\": \"popup\", \"send_telemetry\": false, \"log_level\": \"INFO\", \"sdk_version\": \"1.27.0\"}, \"loading\": false}"
     },
     "metadata": {},
     "output_type": "display_data"
    }
   ],
   "source": [
    "RunDetails(remote_run).show()"
   ]
  },
  {
   "cell_type": "code",
   "execution_count": 23,
   "metadata": {},
   "outputs": [
    {
     "data": {
      "text/html": [
       "<table style=\"width:100%\"><tr><th>Experiment</th><th>Id</th><th>Type</th><th>Status</th><th>Details Page</th><th>Docs Page</th></tr><tr><td>automl</td><td>AutoML_203fb225-3062-46f0-be4a-b09778aff31a</td><td>automl</td><td>Completed</td><td><a href=\"https://ml.azure.com/runs/AutoML_203fb225-3062-46f0-be4a-b09778aff31a?wsid=/subscriptions/3e42d11f-d64d-4173-af9b-12ecaa1030b3/resourcegroups/aml-quickstarts-145360/workspaces/quick-starts-ws-145360&amp;tid=660b3398-b80e-49d2-bc5b-ac1dc93b5254\" target=\"_blank\" rel=\"noopener\">Link to Azure Machine Learning studio</a></td><td><a href=\"https://docs.microsoft.com/en-us/python/api/overview/azure/ml/intro?view=azure-ml-py\" target=\"_blank\" rel=\"noopener\">Link to Documentation</a></td></tr></table>"
      ],
      "text/plain": [
       "<IPython.core.display.HTML object>"
      ]
     },
     "metadata": {},
     "output_type": "display_data"
    },
    {
     "name": "stdout",
     "output_type": "stream",
     "text": [
      "\n",
      "\n",
      "****************************************************************************************************\n",
      "DATA GUARDRAILS: \n",
      "\n",
      "TYPE:         Class balancing detection\n",
      "STATUS:       PASSED\n",
      "DESCRIPTION:  Your inputs were analyzed, and all classes are balanced in your training data.\n",
      "              Learn more about imbalanced data: https://aka.ms/AutomatedMLImbalancedData\n",
      "\n",
      "****************************************************************************************************\n",
      "\n",
      "TYPE:         Missing feature values imputation\n",
      "STATUS:       PASSED\n",
      "DESCRIPTION:  No feature missing values were detected in the training data.\n",
      "              Learn more about missing value imputation: https://aka.ms/AutomatedMLFeaturization\n",
      "\n",
      "****************************************************************************************************\n",
      "\n",
      "TYPE:         High cardinality feature detection\n",
      "STATUS:       PASSED\n",
      "DESCRIPTION:  Your inputs were analyzed, and no high cardinality features were detected.\n",
      "              Learn more about high cardinality feature handling: https://aka.ms/AutomatedMLFeaturization\n",
      "\n",
      "****************************************************************************************************\n",
      "\n",
      "****************************************************************************************************\n",
      "ITERATION: The iteration being evaluated.\n",
      "PIPELINE: A summary description of the pipeline being evaluated.\n",
      "DURATION: Time taken for the current iteration.\n",
      "METRIC: The result of computing score on the fitted pipeline.\n",
      "BEST: The best observed score thus far.\n",
      "****************************************************************************************************\n",
      "\n",
      " ITERATION   PIPELINE                                       DURATION      METRIC      BEST\n",
      "         0   MaxAbsScaler LightGBM                          0:00:45       0.7435    0.7435\n",
      "         1   MaxAbsScaler XGBoostClassifier                 0:00:50       0.7656    0.7656\n",
      "         2   MaxAbsScaler RandomForest                      0:00:44       0.7553    0.7656\n",
      "         3   MaxAbsScaler RandomForest                      0:00:46       0.7513    0.7656\n",
      "         4   MaxAbsScaler RandomForest                      0:00:45       0.7591    0.7656\n",
      "         5   MaxAbsScaler RandomForest                      0:00:53       0.7370    0.7656\n",
      "         6   StandardScalerWrapper XGBoostClassifier        0:00:52       0.7513    0.7656\n",
      "         7   StandardScalerWrapper GradientBoosting         0:00:52       0.7579    0.7656\n",
      "         8   SparseNormalizer XGBoostClassifier             0:00:45       0.7189    0.7656\n",
      "         9   SparseNormalizer XGBoostClassifier             0:00:52       0.7110    0.7656\n",
      "        10   SparseNormalizer XGBoostClassifier             0:01:33       0.7045    0.7656\n",
      "        11   SparseNormalizer XGBoostClassifier             0:01:28       0.7097    0.7656\n",
      "        12   SparseNormalizer XGBoostClassifier             0:00:45       0.6941    0.7656\n",
      "        13   SparseNormalizer XGBoostClassifier             0:00:48       0.6485    0.7656\n",
      "        14   StandardScalerWrapper RandomForest             0:00:51       0.7605    0.7656\n",
      "        15   MaxAbsScaler LogisticRegression                0:01:26       0.7709    0.7709\n",
      "        16   MaxAbsScaler ExtremeRandomTrees                0:01:31       0.7462    0.7709\n",
      "        17   MaxAbsScaler LogisticRegression                0:00:46       0.7683    0.7709\n",
      "        18   StandardScalerWrapper LogisticRegression       0:00:47       0.7617    0.7709\n",
      "        19   StandardScalerWrapper LightGBM                 0:00:48       0.7670    0.7709\n",
      "        20   StandardScalerWrapper LightGBM                 0:00:51       0.7436    0.7709\n",
      "        21   StandardScalerWrapper GradientBoosting         0:00:53       0.7683    0.7709\n",
      "        22   MaxAbsScaler LightGBM                          0:00:46       0.7656    0.7709\n",
      "        23   TruncatedSVDWrapper XGBoostClassifier          0:00:48       0.7423    0.7709\n",
      "        24   StandardScalerWrapper XGBoostClassifier        0:00:48       0.7540    0.7709\n",
      "        25   SparseNormalizer LogisticRegression            0:00:48       0.6511    0.7709\n",
      "        26   MaxAbsScaler RandomForest                      0:00:50       0.7579    0.7709\n",
      "        27   MaxAbsScaler ExtremeRandomTrees                0:00:48       0.7279    0.7709\n",
      "        28    VotingEnsemble                                0:01:05       0.7813    0.7813\n",
      "        29    StackEnsemble                                 0:01:50       0.7748    0.7813\n"
     ]
    },
    {
     "data": {
      "text/plain": [
       "{'runId': 'AutoML_203fb225-3062-46f0-be4a-b09778aff31a',\n",
       " 'target': 'ComputeCluster',\n",
       " 'status': 'Completed',\n",
       " 'startTimeUtc': '2021-05-22T06:01:58.48634Z',\n",
       " 'endTimeUtc': '2021-05-22T06:26:32.348926Z',\n",
       " 'properties': {'num_iterations': '30',\n",
       "  'training_type': 'TrainFull',\n",
       "  'acquisition_function': 'EI',\n",
       "  'primary_metric': 'accuracy',\n",
       "  'train_split': '0',\n",
       "  'acquisition_parameter': '0',\n",
       "  'num_cross_validation': '5',\n",
       "  'target': 'ComputeCluster',\n",
       "  'AMLSettingsJsonString': '{\"path\":null,\"name\":\"automl\",\"subscription_id\":\"3e42d11f-d64d-4173-af9b-12ecaa1030b3\",\"resource_group\":\"aml-quickstarts-145360\",\"workspace_name\":\"quick-starts-ws-145360\",\"region\":\"southcentralus\",\"compute_target\":\"ComputeCluster\",\"spark_service\":null,\"azure_service\":\"remote\",\"many_models\":false,\"pipeline_fetch_max_batch_size\":1,\"enable_batch_run\":false,\"enable_run_restructure\":false,\"start_auxiliary_runs_before_parent_complete\":false,\"iterations\":30,\"primary_metric\":\"accuracy\",\"task_type\":\"classification\",\"data_script\":null,\"test_size\":0.0,\"validation_size\":0.0,\"n_cross_validations\":5,\"y_min\":null,\"y_max\":null,\"num_classes\":null,\"featurization\":\"auto\",\"_ignore_package_version_incompatibilities\":false,\"is_timeseries\":false,\"max_cores_per_iteration\":1,\"max_concurrent_iterations\":5,\"iteration_timeout_minutes\":null,\"mem_in_mb\":null,\"enforce_time_on_windows\":false,\"experiment_timeout_minutes\":50,\"experiment_exit_score\":null,\"whitelist_models\":null,\"blacklist_algos\":[\"TensorFlowLinearClassifier\",\"TensorFlowDNN\"],\"supported_models\":[\"AveragedPerceptronClassifier\",\"LinearSVM\",\"MultinomialNaiveBayes\",\"RandomForest\",\"GradientBoosting\",\"ExtremeRandomTrees\",\"KNN\",\"LightGBM\",\"SGD\",\"BernoulliNaiveBayes\",\"DecisionTree\",\"SVM\",\"TensorFlowLinearClassifier\",\"TensorFlowDNN\",\"XGBoostClassifier\",\"LogisticRegression\"],\"private_models\":[],\"auto_blacklist\":true,\"blacklist_samples_reached\":false,\"exclude_nan_labels\":true,\"verbosity\":20,\"_debug_log\":\"azureml_automl.log\",\"show_warnings\":false,\"model_explainability\":true,\"service_url\":null,\"sdk_url\":null,\"sdk_packages\":null,\"enable_onnx_compatible_models\":false,\"enable_split_onnx_featurizer_estimator_models\":false,\"vm_type\":\"STANDARD_DS3_V2\",\"telemetry_verbosity\":20,\"send_telemetry\":true,\"enable_dnn\":false,\"scenario\":\"SDK-1.13.0\",\"environment_label\":null,\"save_mlflow\":false,\"force_text_dnn\":false,\"enable_feature_sweeping\":true,\"enable_early_stopping\":true,\"early_stopping_n_iters\":10,\"metrics\":null,\"enable_metric_confidence\":false,\"enable_ensembling\":true,\"enable_stack_ensembling\":true,\"ensemble_iterations\":15,\"enable_tf\":false,\"enable_subsampling\":false,\"subsample_seed\":null,\"enable_nimbusml\":false,\"enable_streaming\":false,\"force_streaming\":false,\"track_child_runs\":true,\"allowed_private_models\":[],\"label_column_name\":\"Outcome\",\"weight_column_name\":null,\"cv_split_column_names\":null,\"enable_local_managed\":false,\"_local_managed_run_id\":null,\"cost_mode\":1,\"lag_length\":0,\"metric_operation\":\"maximize\",\"preprocess\":true}',\n",
       "  'DataPrepJsonString': '{\\\\\"training_data\\\\\": {\\\\\"datasetId\\\\\": \\\\\"df2f823a-fb29-4340-8aee-a0a741e89c08\\\\\"}, \\\\\"datasets\\\\\": 0}',\n",
       "  'EnableSubsampling': 'False',\n",
       "  'runTemplate': 'AutoML',\n",
       "  'azureml.runsource': 'automl',\n",
       "  'display_task_type': 'classification',\n",
       "  'dependencies_versions': '{\"azureml-widgets\": \"1.27.0\", \"azureml-train\": \"1.27.0\", \"azureml-train-restclients-hyperdrive\": \"1.27.0\", \"azureml-train-core\": \"1.27.0\", \"azureml-train-automl\": \"1.27.0\", \"azureml-train-automl-runtime\": \"1.27.0\", \"azureml-train-automl-client\": \"1.27.0\", \"azureml-tensorboard\": \"1.27.0\", \"azureml-telemetry\": \"1.27.0\", \"azureml-sdk\": \"1.27.0\", \"azureml-samples\": \"0+unknown\", \"azureml-pipeline\": \"1.27.0\", \"azureml-pipeline-steps\": \"1.27.0\", \"azureml-pipeline-core\": \"1.27.0\", \"azureml-opendatasets\": \"1.27.0\", \"azureml-model-management-sdk\": \"1.0.1b6.post1\", \"azureml-mlflow\": \"1.27.0\", \"azureml-interpret\": \"1.27.0\", \"azureml-explain-model\": \"1.27.0\", \"azureml-defaults\": \"1.27.0\", \"azureml-dataset-runtime\": \"1.27.0\", \"azureml-dataprep\": \"2.14.2\", \"azureml-dataprep-rslex\": \"1.12.1\", \"azureml-dataprep-native\": \"33.0.0\", \"azureml-datadrift\": \"1.27.0\", \"azureml-core\": \"1.27.0\", \"azureml-contrib-services\": \"1.27.0\", \"azureml-contrib-server\": \"1.27.0\", \"azureml-contrib-reinforcementlearning\": \"1.27.0\", \"azureml-contrib-pipeline-steps\": \"1.27.0\", \"azureml-contrib-notebook\": \"1.27.0\", \"azureml-contrib-gbdt\": \"1.27.0\", \"azureml-contrib-fairness\": \"1.27.0\", \"azureml-contrib-dataset\": \"1.27.0\", \"azureml-cli-common\": \"1.27.0\", \"azureml-automl-runtime\": \"1.27.0\", \"azureml-automl-dnn-nlp\": \"1.27.0\", \"azureml-automl-core\": \"1.27.0\", \"azureml-accel-models\": \"1.27.0\"}',\n",
       "  '_aml_system_scenario_identification': 'Remote.Parent',\n",
       "  'ClientType': 'SDK',\n",
       "  'environment_cpu_name': 'AzureML-AutoML',\n",
       "  'environment_cpu_label': 'prod',\n",
       "  'environment_gpu_name': 'AzureML-AutoML-GPU',\n",
       "  'environment_gpu_label': 'prod',\n",
       "  'root_attribution': 'automl',\n",
       "  'attribution': 'AutoML',\n",
       "  'Orchestrator': 'AutoML',\n",
       "  'CancelUri': 'https://southcentralus.api.azureml.ms/jasmine/v1.0/subscriptions/3e42d11f-d64d-4173-af9b-12ecaa1030b3/resourceGroups/aml-quickstarts-145360/providers/Microsoft.MachineLearningServices/workspaces/quick-starts-ws-145360/experimentids/a2d32d58-c628-44c6-bd17-bf7edc00593c/cancel/AutoML_203fb225-3062-46f0-be4a-b09778aff31a',\n",
       "  'ClientSdkVersion': '1.27.0.post1',\n",
       "  'snapshotId': '00000000-0000-0000-0000-000000000000',\n",
       "  'SetupRunId': 'AutoML_203fb225-3062-46f0-be4a-b09778aff31a_setup',\n",
       "  'SetupRunContainerId': 'dcid.AutoML_203fb225-3062-46f0-be4a-b09778aff31a_setup',\n",
       "  'FeaturizationRunJsonPath': 'featurizer_container.json',\n",
       "  'FeaturizationRunId': 'AutoML_203fb225-3062-46f0-be4a-b09778aff31a_featurize',\n",
       "  'ProblemInfoJsonString': '{\"dataset_num_categorical\": 0, \"is_sparse\": true, \"subsampling\": false, \"dataset_classes\": 2, \"dataset_features\": 24, \"dataset_samples\": 768, \"single_frequency_class_detected\": false}',\n",
       "  'ModelExplainRunId': 'AutoML_203fb225-3062-46f0-be4a-b09778aff31a_ModelExplain'},\n",
       " 'inputDatasets': [{'dataset': {'id': 'df2f823a-fb29-4340-8aee-a0a741e89c08'}, 'consumptionDetails': {'type': 'RunInput', 'inputName': 'training_data', 'mechanism': 'Direct'}}],\n",
       " 'outputDatasets': [],\n",
       " 'logFiles': {},\n",
       " 'submittedBy': 'ODL_User 145360'}"
      ]
     },
     "execution_count": 23,
     "metadata": {},
     "output_type": "execute_result"
    }
   ],
   "source": [
    "remote_run.wait_for_completion(show_output=True)"
   ]
  },
  {
   "cell_type": "code",
   "execution_count": 24,
   "metadata": {},
   "outputs": [
    {
     "data": {
      "text/html": [
       "<table style=\"width:100%\"><tr><th>Experiment</th><th>Id</th><th>Type</th><th>Status</th><th>Details Page</th><th>Docs Page</th></tr><tr><td>automl</td><td>AutoML_203fb225-3062-46f0-be4a-b09778aff31a</td><td>automl</td><td>Completed</td><td><a href=\"https://ml.azure.com/runs/AutoML_203fb225-3062-46f0-be4a-b09778aff31a?wsid=/subscriptions/3e42d11f-d64d-4173-af9b-12ecaa1030b3/resourcegroups/aml-quickstarts-145360/workspaces/quick-starts-ws-145360&amp;tid=660b3398-b80e-49d2-bc5b-ac1dc93b5254\" target=\"_blank\" rel=\"noopener\">Link to Azure Machine Learning studio</a></td><td><a href=\"https://docs.microsoft.com/en-us/python/api/overview/azure/ml/intro?view=azure-ml-py\" target=\"_blank\" rel=\"noopener\">Link to Documentation</a></td></tr></table>"
      ],
      "text/plain": [
       "Run(Experiment: automl,\n",
       "Id: AutoML_203fb225-3062-46f0-be4a-b09778aff31a,\n",
       "Type: automl,\n",
       "Status: Completed)"
      ]
     },
     "execution_count": 24,
     "metadata": {},
     "output_type": "execute_result"
    }
   ],
   "source": [
    "remote_run"
   ]
  },
  {
   "cell_type": "markdown",
   "metadata": {},
   "source": [
    "## Best Model\n",
    "\n",
    "Now we will see best model from the azure automl experiments.\n",
    "\n"
   ]
  },
  {
   "cell_type": "code",
   "execution_count": 25,
   "metadata": {
    "gather": {
     "logged": 1598431425670
    },
    "jupyter": {
     "outputs_hidden": false,
     "source_hidden": false
    },
    "nteract": {
     "transient": {
      "deleting": false
     }
    }
   },
   "outputs": [
    {
     "name": "stdout",
     "output_type": "stream",
     "text": [
      "Run(Experiment: automl,\n",
      "Id: AutoML_203fb225-3062-46f0-be4a-b09778aff31a_28,\n",
      "Type: azureml.scriptrun,\n",
      "Status: Completed)\n",
      "[('datatransformer', DataTransformer(enable_dnn=None, enable_feature_sweeping=None,\n",
      "                feature_sweeping_config=None, feature_sweeping_timeout=None,\n",
      "                featurization_config=None, force_text_dnn=None,\n",
      "                is_cross_validation=None, is_onnx_compatible=None, logger=None,\n",
      "                observer=None, task=None, working_dir=None)), ('prefittedsoftvotingclassifier', PreFittedSoftVotingClassifier(classification_labels=None,\n",
      "                              estimators=[('15',\n",
      "                                           Pipeline(memory=None,\n",
      "                                                    steps=[('maxabsscaler',\n",
      "                                                            MaxAbsScaler(copy=True)),\n",
      "                                                           ('logisticregression',\n",
      "                                                            LogisticRegression(C=109.85411419875572,\n",
      "                                                                               class_weight=None,\n",
      "                                                                               dual=False,\n",
      "                                                                               fit_intercept=True,\n",
      "                                                                               intercept_scaling=1,\n",
      "                                                                               l1_ratio=None,\n",
      "                                                                               max_iter=100,\n",
      "                                                                               multi_class='ovr',\n",
      "                                                                               n_jobs=1,\n",
      "                                                                               penalty='l1',\n",
      "                                                                               random_st...\n",
      "                                                                                 min_samples_split=0.15052631578947367,\n",
      "                                                                                 min_weight_fraction_leaf=0.0,\n",
      "                                                                                 n_estimators=100,\n",
      "                                                                                 n_jobs=1,\n",
      "                                                                                 oob_score=False,\n",
      "                                                                                 random_state=None,\n",
      "                                                                                 verbose=0,\n",
      "                                                                                 warm_start=False))],\n",
      "                                                    verbose=False))],\n",
      "                              flatten_transform=None,\n",
      "                              weights=[0.07692307692307693, 0.07692307692307693,\n",
      "                                       0.3076923076923077, 0.07692307692307693,\n",
      "                                       0.07692307692307693, 0.07692307692307693,\n",
      "                                       0.15384615384615385, 0.07692307692307693,\n",
      "                                       0.07692307692307693]))]\n"
     ]
    }
   ],
   "source": [
    "# Retrieve and save best automl model\n",
    "best_model, model = remote_run.get_output()\n",
    "print(best_model)\n",
    "print(model.steps)"
   ]
  },
  {
   "cell_type": "code",
   "execution_count": 26,
   "metadata": {},
   "outputs": [
    {
     "name": "stdout",
     "output_type": "stream",
     "text": [
      "Pipeline(memory=None,\n",
      "         steps=[('datatransformer',\n",
      "                 DataTransformer(enable_dnn=None, enable_feature_sweeping=None,\n",
      "                                 feature_sweeping_config=None,\n",
      "                                 feature_sweeping_timeout=None,\n",
      "                                 featurization_config=None, force_text_dnn=None,\n",
      "                                 is_cross_validation=None,\n",
      "                                 is_onnx_compatible=None, logger=None,\n",
      "                                 observer=None, task=None, working_dir=None)),\n",
      "                ('prefittedsoftvotingclassifier',...\n",
      "                                                                                                  min_weight_fraction_leaf=0.0,\n",
      "                                                                                                  n_estimators=100,\n",
      "                                                                                                  n_jobs=1,\n",
      "                                                                                                  oob_score=False,\n",
      "                                                                                                  random_state=None,\n",
      "                                                                                                  verbose=0,\n",
      "                                                                                                  warm_start=False))],\n",
      "                                                                     verbose=False))],\n",
      "                                               flatten_transform=None,\n",
      "                                               weights=[0.07692307692307693,\n",
      "                                                        0.07692307692307693,\n",
      "                                                        0.3076923076923077,\n",
      "                                                        0.07692307692307693,\n",
      "                                                        0.07692307692307693,\n",
      "                                                        0.07692307692307693,\n",
      "                                                        0.15384615384615385,\n",
      "                                                        0.07692307692307693,\n",
      "                                                        0.07692307692307693]))],\n",
      "         verbose=False)\n"
     ]
    }
   ],
   "source": [
    "print(model)"
   ]
  },
  {
   "cell_type": "code",
   "execution_count": 27,
   "metadata": {},
   "outputs": [
    {
     "name": "stdout",
     "output_type": "stream",
     "text": [
      "Run(Experiment: automl,\n",
      "Id: AutoML_203fb225-3062-46f0-be4a-b09778aff31a_28,\n",
      "Type: azureml.scriptrun,\n",
      "Status: Completed)\n"
     ]
    }
   ],
   "source": [
    "print(best_model)"
   ]
  },
  {
   "cell_type": "code",
   "execution_count": 28,
   "metadata": {},
   "outputs": [
    {
     "data": {
      "text/plain": [
       "{'experiment_status': ['DatasetEvaluation',\n",
       "  'FeaturesGeneration',\n",
       "  'DatasetFeaturization',\n",
       "  'DatasetFeaturizationCompleted',\n",
       "  'DatasetCrossValidationSplit',\n",
       "  'ModelSelection',\n",
       "  'BestRunExplainModel',\n",
       "  'ModelExplanationDataSetSetup',\n",
       "  'PickSurrogateModel',\n",
       "  'EngineeredFeatureExplanations',\n",
       "  'EngineeredFeatureExplanations',\n",
       "  'RawFeaturesExplanations',\n",
       "  'RawFeaturesExplanations',\n",
       "  'BestRunExplainModel'],\n",
       " 'experiment_status_description': ['Gathering dataset statistics.',\n",
       "  'Generating features for the dataset.',\n",
       "  'Beginning to fit featurizers and featurize the dataset.',\n",
       "  'Completed fit featurizers and featurizing the dataset.',\n",
       "  'Generating individually featurized CV splits.',\n",
       "  'Beginning model selection.',\n",
       "  'Best run model explanations started',\n",
       "  'Model explanations data setup completed',\n",
       "  'Choosing LightGBM as the surrogate model for explanations',\n",
       "  'Computation of engineered features started',\n",
       "  'Computation of engineered features completed',\n",
       "  'Computation of raw features started',\n",
       "  'Computation of raw features completed',\n",
       "  'Best run model explanations completed'],\n",
       " 'f1_score_weighted': 0.7727926435717127,\n",
       " 'log_loss': 0.4798807243113236,\n",
       " 'recall_score_macro': 0.7291442438325431,\n",
       " 'AUC_micro': 0.8537210613372629,\n",
       " 'average_precision_score_micro': 0.855956834787699,\n",
       " 'precision_score_micro': 0.7813003989474577,\n",
       " 'f1_score_micro': 0.7813003989474577,\n",
       " 'f1_score_macro': 0.7393219157340649,\n",
       " 'precision_score_macro': 0.7693396855369409,\n",
       " 'AUC_macro': 0.8342579407687225,\n",
       " 'recall_score_micro': 0.7813003989474577,\n",
       " 'average_precision_score_macro': 0.8174457694427424,\n",
       " 'weighted_accuracy': 0.821834725801539,\n",
       " 'precision_score_weighted': 0.7808728728622271,\n",
       " 'recall_score_weighted': 0.7813003989474577,\n",
       " 'accuracy': 0.7813003989474577,\n",
       " 'balanced_accuracy': 0.7291442438325431,\n",
       " 'matthews_correlation': 0.49643895919748227,\n",
       " 'average_precision_score_weighted': 0.8470770703182211,\n",
       " 'norm_macro_recall': 0.45828848766508623,\n",
       " 'AUC_weighted': 0.8342579407687225}"
      ]
     },
     "execution_count": 28,
     "metadata": {},
     "output_type": "execute_result"
    }
   ],
   "source": [
    "remote_run.get_metrics()"
   ]
  },
  {
   "cell_type": "markdown",
   "metadata": {},
   "source": [
    "## Model Deployment\n",
    "\n",
    "We have to deploy only one of the two models trained.. We will Perform the steps in the rest of this notebook only if we wish to deploy this model.\n",
    "\n",
    "Now we have registered the model, created an inference config and deployed the model as a web service for endpoints consumption using professional API Testing tools (Swagger UI)."
   ]
  },
  {
   "cell_type": "code",
   "execution_count": 29,
   "metadata": {
    "gather": {
     "logged": 1598431435189
    },
    "jupyter": {
     "outputs_hidden": false,
     "source_hidden": false
    },
    "nteract": {
     "transient": {
      "deleting": false
     }
    }
   },
   "outputs": [],
   "source": [
    "# Registring the best model\n",
    "model = best_model.register_model(model_name='automl-diabetes-best-model',model_path='outputs/model.pkl')\n"
   ]
  },
  {
   "cell_type": "code",
   "execution_count": 30,
   "metadata": {},
   "outputs": [],
   "source": [
    "# Now we will get environment with dependencies\n",
    "environment = Environment.get(ws, \"AzureML-AutoML\")"
   ]
  },
  {
   "cell_type": "code",
   "execution_count": 32,
   "metadata": {},
   "outputs": [
    {
     "name": "stdout",
     "output_type": "stream",
     "text": [
      "Tips: You can try get_logs(): https://aka.ms/debugimage#dockerlog or local deployment: https://aka.ms/debugimage#debug-locally to debug if deployment takes longer than 10 minutes.\n",
      "Running\n",
      "2021-05-22 06:34:35+00:00 Creating Container Registry if not exists.\n",
      "2021-05-22 06:34:35+00:00 Registering the environment.\n",
      "2021-05-22 06:34:37+00:00 Use the existing image.\n",
      "2021-05-22 06:34:37+00:00 Generating deployment configuration.\n",
      "2021-05-22 06:34:38+00:00 Submitting deployment to compute..\n",
      "2021-05-22 06:34:41+00:00 Checking the status of deployment automl-deploy..\n",
      "2021-05-22 06:39:07+00:00 Checking the status of inference endpoint automl-deploy.\n",
      "Succeeded\n",
      "ACI service creation operation finished, operation \"Succeeded\"\n",
      "http://69e25101-6ebf-4c1f-9585-72ba5329139e.southcentralus.azurecontainer.io/score\n"
     ]
    }
   ],
   "source": [
    "inference_config = InferenceConfig(entry_script='scoring.py',\n",
    "                                   environment=environment)\n",
    "service_name = 'automl-deploy'\n",
    "deployment_config = AciWebservice.deploy_configuration(cpu_cores=1, memory_gb=1)\n",
    "\n",
    "service = Model.deploy(workspace=ws,\n",
    "                       name=service_name,\n",
    "                       models=[model],\n",
    "                       inference_config=inference_config,\n",
    "                       deployment_config=deployment_config,\n",
    "                       overwrite=True\n",
    "                      )\n",
    "service.wait_for_deployment(show_output=True)\n",
    "\n",
    "scoring_uri = service.scoring_uri\n",
    "print(scoring_uri)"
   ]
  },
  {
   "cell_type": "code",
   "execution_count": 33,
   "metadata": {},
   "outputs": [],
   "source": [
    "# Now we will try to Enable app insights\n",
    "service.update(enable_app_insights=True)"
   ]
  },
  {
   "cell_type": "markdown",
   "metadata": {
    "gather": {
     "logged": 1598431657736
    },
    "jupyter": {
     "outputs_hidden": false,
     "source_hidden": false
    },
    "nteract": {
     "transient": {
      "deleting": false
     }
    }
   },
   "source": [
    "Now we will consume the deployed webservice in AutoML so we are sending the web service requests to best model deployed"
   ]
  },
  {
   "cell_type": "code",
   "execution_count": 34,
   "metadata": {},
   "outputs": [
    {
     "name": "stdout",
     "output_type": "stream",
     "text": [
      "{\"result\": [1, 0]}\n",
      "Case 0 : Not Diabetic, Case 1 : Diabetic.\n"
     ]
    }
   ],
   "source": [
    "import requests\n",
    "import json\n",
    "\n",
    "#two set of data to score, so we get two results back\n",
    "data = {\"data\": [{\"Pregnancies\": 9, \n",
    "     \"Glucose\": 130, \n",
    "     \"BloodPressure\": 60, \n",
    "     \"SkinThickness\": 20, \n",
    "     \"Insulin\": 6, \n",
    "     \"BMI\": 40.5, \n",
    "     \"DiabetesPedigreeFunction\": 0.537, \n",
    "     \"Age\": 50},\n",
    "\n",
    "    {\"Pregnancies\": 8, \n",
    "     \"Glucose\": 70, \n",
    "     \"BloodPressure\": 80, \n",
    "     \"SkinThickness\": 30, \n",
    "     \"Insulin\": 18, \n",
    "     \"BMI\": 24.5, \n",
    "     \"DiabetesPedigreeFunction\": 0.951, \n",
    "     \"Age\": 38},\n",
    "      ]}\n",
    "    \n",
    "# Convert to JSON string\n",
    "input_data = json.dumps(data)\n",
    "with open(\"data.json\", \"w\") as _f:\n",
    "    _f.write(input_data)\n",
    "\n",
    "# Set the content type\n",
    "headers = {'Content-Type': 'application/json'}\n",
    "# If authentication is enabled, set the authorization header\n",
    "#headers['Authorization'] = f'Bearer {key}'\n",
    "\n",
    "# Make the request and display the response\n",
    "resp = requests.post(scoring_uri, input_data, headers=headers)\n",
    "print(resp.json())\n",
    "print(\"Case 0 : Not Diabetic, Case 1 : Diabetic.\")"
   ]
  },
  {
   "cell_type": "markdown",
   "metadata": {
    "gather": {
     "logged": 1598432765711
    },
    "jupyter": {
     "outputs_hidden": false,
     "source_hidden": false
    },
    "nteract": {
     "transient": {
      "deleting": false
     }
    }
   },
   "source": [
    "Print the logs of the web service and delete the service"
   ]
  },
  {
   "cell_type": "code",
   "execution_count": 35,
   "metadata": {
    "jupyter": {
     "outputs_hidden": false,
     "source_hidden": false
    },
    "nteract": {
     "transient": {
      "deleting": false
     }
    }
   },
   "outputs": [
    {
     "data": {
      "text/plain": [
       "'2021-05-22T06:38:58,405636700+00:00 - gunicorn/run \\n2021-05-22T06:38:58,406577500+00:00 - rsyslog/run \\n2021-05-22T06:38:58,405643700+00:00 - iot-server/run \\n2021-05-22T06:38:58,526032800+00:00 - nginx/run \\n/usr/sbin/nginx: /azureml-envs/azureml_600883adcde8eb30a3a0fa1bdca2e09e/lib/libcrypto.so.1.0.0: no version information available (required by /usr/sbin/nginx)\\n/usr/sbin/nginx: /azureml-envs/azureml_600883adcde8eb30a3a0fa1bdca2e09e/lib/libcrypto.so.1.0.0: no version information available (required by /usr/sbin/nginx)\\n/usr/sbin/nginx: /azureml-envs/azureml_600883adcde8eb30a3a0fa1bdca2e09e/lib/libssl.so.1.0.0: no version information available (required by /usr/sbin/nginx)\\n/usr/sbin/nginx: /azureml-envs/azureml_600883adcde8eb30a3a0fa1bdca2e09e/lib/libssl.so.1.0.0: no version information available (required by /usr/sbin/nginx)\\n/usr/sbin/nginx: /azureml-envs/azureml_600883adcde8eb30a3a0fa1bdca2e09e/lib/libssl.so.1.0.0: no version information available (required by /usr/sbin/nginx)\\nEdgeHubConnectionString and IOTEDGE_IOTHUBHOSTNAME are not set. Exiting...\\nrsyslogd: /azureml-envs/azureml_600883adcde8eb30a3a0fa1bdca2e09e/lib/libuuid.so.1: no version information available (required by rsyslogd)\\n2021-05-22T06:38:58,944181300+00:00 - iot-server/finish 1 0\\n2021-05-22T06:38:58,947481900+00:00 - Exit code 1 is normal. Not restarting iot-server.\\nStarting gunicorn 20.1.0\\nListening at: http://127.0.0.1:31311 (69)\\nUsing worker: sync\\nworker timeout is set to 300\\nBooting worker with pid: 97\\nSPARK_HOME not set. Skipping PySpark Initialization.\\nGenerating new fontManager, this may take some time...\\nInitializing logger\\n2021-05-22 06:39:01,696 | root | INFO | Starting up app insights client\\n2021-05-22 06:39:01,697 | root | INFO | Starting up request id generator\\n2021-05-22 06:39:01,697 | root | INFO | Starting up app insight hooks\\n2021-05-22 06:39:01,697 | root | INFO | Invoking user\\'s init function\\n2021-05-22 06:39:06,137 | azureml.core | WARNING | Failure while loading azureml_run_type_providers. Failed to load entrypoint automl = azureml.train.automl.run:AutoMLRun._from_run_dto with exception cannot import name \\'RunType\\'.\\nFailure while loading azureml_run_type_providers. Failed to load entrypoint automl = azureml.train.automl.run:AutoMLRun._from_run_dto with exception cannot import name \\'RunType\\'.\\n2021-05-22 06:39:06,712 | root | INFO | Users\\'s init has completed successfully\\n2021-05-22 06:39:06,727 | root | INFO | Skipping middleware: dbg_model_info as it\\'s not enabled.\\n2021-05-22 06:39:06,728 | root | INFO | Skipping middleware: dbg_resource_usage as it\\'s not enabled.\\n2021-05-22 06:39:06,734 | root | INFO | Scoring timeout is found from os.environ: 60000 ms\\n2021-05-22 06:39:07,902 | root | INFO | 200\\n127.0.0.1 - - [22/May/2021:06:39:07 +0000] \"GET /swagger.json HTTP/1.0\" 200 2663 \"-\" \"Go-http-client/1.1\"\\n2021-05-22 06:39:11,561 | root | INFO | 200\\n127.0.0.1 - - [22/May/2021:06:39:11 +0000] \"GET /swagger.json HTTP/1.0\" 200 2663 \"-\" \"Go-http-client/1.1\"\\n2021-05-22 06:39:20,126 | root | INFO | 200\\n127.0.0.1 - - [22/May/2021:06:39:20 +0000] \"GET /swagger.json HTTP/1.0\" 200 2663 \"-\" \"Go-http-client/1.1\"\\n2021-05-22 06:39:25,814 | root | INFO | Validation Request Content-Type\\n2021-05-22 06:39:25,816 | root | INFO | Scoring Timer is set to 60.0 seconds\\n2021-05-22 06:39:25,949 | root | INFO | 200\\n127.0.0.1 - - [22/May/2021:06:39:25 +0000] \"POST /score HTTP/1.0\" 200 22 \"-\" \"python-requests/2.25.1\"\\n'"
      ]
     },
     "execution_count": 35,
     "metadata": {},
     "output_type": "execute_result"
    }
   ],
   "source": [
    "logs = service.get_logs()\n",
    "logs"
   ]
  },
  {
   "cell_type": "code",
   "execution_count": 32,
   "metadata": {},
   "outputs": [],
   "source": [
    "#Deleting the deployed web service\n",
    "\n",
    "service.delete()"
   ]
  },
  {
   "cell_type": "code",
   "execution_count": null,
   "metadata": {},
   "outputs": [],
   "source": []
  },
  {
   "cell_type": "code",
   "execution_count": null,
   "metadata": {},
   "outputs": [],
   "source": []
  }
 ],
 "metadata": {
  "kernel_info": {
   "name": "python3"
  },
  "kernelspec": {
   "display_name": "Python 3",
   "language": "python",
   "name": "python3"
  },
  "language_info": {
   "codemirror_mode": {
    "name": "ipython",
    "version": 3
   },
   "file_extension": ".py",
   "mimetype": "text/x-python",
   "name": "python",
   "nbconvert_exporter": "python",
   "pygments_lexer": "ipython3",
   "version": "3.6.9"
  },
  "nteract": {
   "version": "nteract-front-end@1.0.0"
  }
 },
 "nbformat": 4,
 "nbformat_minor": 4
}
