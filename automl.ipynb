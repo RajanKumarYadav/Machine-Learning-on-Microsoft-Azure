{
 "cells": [
  {
   "cell_type": "markdown",
   "metadata": {},
   "source": [
    "# Automated ML\n",
    "\n",
    "Importing all needed dependencies related to the project"
   ]
  },
  {
   "cell_type": "code",
   "execution_count": 2,
   "metadata": {
    "gather": {
     "logged": 1612018493821
    },
    "jupyter": {
     "outputs_hidden": false,
     "source_hidden": false
    },
    "nteract": {
     "transient": {
      "deleting": false
     }
    }
   },
   "outputs": [
    {
     "name": "stdout",
     "output_type": "stream",
     "text": [
      "SDK version: 1.27.0\n"
     ]
    }
   ],
   "source": [
    "import logging\n",
    "import os\n",
    "import json\n",
    "import csv\n",
    "import numpy as np\n",
    "import pandas as pd\n",
    "import pkg_resources\n",
    "import joblib\n",
    "\n",
    "import azureml.core\n",
    "from azureml.core.experiment import Experiment\n",
    "from azureml.core.workspace import Workspace\n",
    "from azureml.train.automl import AutoMLConfig\n",
    "from azureml.core.dataset import Dataset\n",
    "from azureml.core.compute import AmlCompute\n",
    "from azureml.core.compute import ComputeTarget\n",
    "from azureml.core.compute_target import ComputeTargetException\n",
    "from azureml.pipeline.steps import AutoMLStep\n",
    "from azureml.widgets import RunDetails\n",
    "from azureml.core import Model, Environment\n",
    "from azureml.core.model import InferenceConfig\n",
    "from azureml.core.webservice import AciWebservice\n",
    "from sklearn.preprocessing import StandardScaler\n",
    "\n",
    "# Check core SDK version number\n",
    "print(\"SDK version:\", azureml.core.VERSION)"
   ]
  },
  {
   "cell_type": "code",
   "execution_count": 3,
   "metadata": {
    "gather": {
     "logged": 1598423890461
    },
    "jupyter": {
     "outputs_hidden": false,
     "source_hidden": false
    },
    "nteract": {
     "transient": {
      "deleting": false
     }
    }
   },
   "outputs": [],
   "source": [
    "ws = Workspace.from_config()\n",
    "\n",
    "# choose a name for experiment\n",
    "experiment_name = 'automl'\n",
    "\n",
    "experiment=Experiment(ws, experiment_name)"
   ]
  },
  {
   "cell_type": "code",
   "execution_count": 8,
   "metadata": {},
   "outputs": [],
   "source": [
    "# azureml-core of version 1.0.72 or higher is required\n",
    "# azureml-dataprep[pandas] of version 1.1.34 or higher is required\n",
    "from azureml.core import Workspace, Dataset\n",
    "\n",
    "subscription_id = '81cefad3-d2c9-4f77-a466-99a7f541c7bb'\n",
    "resource_group = 'aml-quickstarts-145303'\n",
    "workspace_name = 'quick-starts-ws-145303'\n",
    "\n",
    "workspace = Workspace(subscription_id, resource_group, workspace_name)\n",
    "\n",
    "dataset = Dataset.get_by_name(workspace, name='diabetes-dataset')\n",
    "df = dataset.to_pandas_dataframe()"
   ]
  },
  {
   "cell_type": "code",
   "execution_count": 9,
   "metadata": {},
   "outputs": [
    {
     "name": "stdout",
     "output_type": "stream",
     "text": [
      "<class 'pandas.core.frame.DataFrame'>\n",
      "RangeIndex: 768 entries, 0 to 767\n",
      "Data columns (total 9 columns):\n",
      "Pregnancies                 768 non-null int64\n",
      "Glucose                     768 non-null int64\n",
      "BloodPressure               768 non-null int64\n",
      "SkinThickness               768 non-null int64\n",
      "Insulin                     768 non-null int64\n",
      "BMI                         768 non-null float64\n",
      "DiabetesPedigreeFunction    768 non-null float64\n",
      "Age                         768 non-null int64\n",
      "Outcome                     768 non-null int64\n",
      "dtypes: float64(2), int64(7)\n",
      "memory usage: 54.1 KB\n"
     ]
    }
   ],
   "source": [
    "df.info()"
   ]
  },
  {
   "cell_type": "code",
   "execution_count": 10,
   "metadata": {},
   "outputs": [
    {
     "data": {
      "text/html": [
       "<div>\n",
       "<style scoped>\n",
       "    .dataframe tbody tr th:only-of-type {\n",
       "        vertical-align: middle;\n",
       "    }\n",
       "\n",
       "    .dataframe tbody tr th {\n",
       "        vertical-align: top;\n",
       "    }\n",
       "\n",
       "    .dataframe thead th {\n",
       "        text-align: right;\n",
       "    }\n",
       "</style>\n",
       "<table border=\"1\" class=\"dataframe\">\n",
       "  <thead>\n",
       "    <tr style=\"text-align: right;\">\n",
       "      <th></th>\n",
       "      <th>Pregnancies</th>\n",
       "      <th>Glucose</th>\n",
       "      <th>BloodPressure</th>\n",
       "      <th>SkinThickness</th>\n",
       "      <th>Insulin</th>\n",
       "      <th>BMI</th>\n",
       "      <th>DiabetesPedigreeFunction</th>\n",
       "      <th>Age</th>\n",
       "      <th>Outcome</th>\n",
       "    </tr>\n",
       "  </thead>\n",
       "  <tbody>\n",
       "    <tr>\n",
       "      <th>0</th>\n",
       "      <td>6</td>\n",
       "      <td>148</td>\n",
       "      <td>72</td>\n",
       "      <td>35</td>\n",
       "      <td>0</td>\n",
       "      <td>33.6</td>\n",
       "      <td>0.627</td>\n",
       "      <td>50</td>\n",
       "      <td>1</td>\n",
       "    </tr>\n",
       "    <tr>\n",
       "      <th>1</th>\n",
       "      <td>1</td>\n",
       "      <td>85</td>\n",
       "      <td>66</td>\n",
       "      <td>29</td>\n",
       "      <td>0</td>\n",
       "      <td>26.6</td>\n",
       "      <td>0.351</td>\n",
       "      <td>31</td>\n",
       "      <td>0</td>\n",
       "    </tr>\n",
       "    <tr>\n",
       "      <th>2</th>\n",
       "      <td>8</td>\n",
       "      <td>183</td>\n",
       "      <td>64</td>\n",
       "      <td>0</td>\n",
       "      <td>0</td>\n",
       "      <td>23.3</td>\n",
       "      <td>0.672</td>\n",
       "      <td>32</td>\n",
       "      <td>1</td>\n",
       "    </tr>\n",
       "    <tr>\n",
       "      <th>3</th>\n",
       "      <td>1</td>\n",
       "      <td>89</td>\n",
       "      <td>66</td>\n",
       "      <td>23</td>\n",
       "      <td>94</td>\n",
       "      <td>28.1</td>\n",
       "      <td>0.167</td>\n",
       "      <td>21</td>\n",
       "      <td>0</td>\n",
       "    </tr>\n",
       "    <tr>\n",
       "      <th>4</th>\n",
       "      <td>0</td>\n",
       "      <td>137</td>\n",
       "      <td>40</td>\n",
       "      <td>35</td>\n",
       "      <td>168</td>\n",
       "      <td>43.1</td>\n",
       "      <td>2.288</td>\n",
       "      <td>33</td>\n",
       "      <td>1</td>\n",
       "    </tr>\n",
       "  </tbody>\n",
       "</table>\n",
       "</div>"
      ],
      "text/plain": [
       "   Pregnancies  Glucose  BloodPressure  SkinThickness  Insulin   BMI  \\\n",
       "0            6      148             72             35        0  33.6   \n",
       "1            1       85             66             29        0  26.6   \n",
       "2            8      183             64              0        0  23.3   \n",
       "3            1       89             66             23       94  28.1   \n",
       "4            0      137             40             35      168  43.1   \n",
       "\n",
       "   DiabetesPedigreeFunction  Age  Outcome  \n",
       "0                     0.627   50        1  \n",
       "1                     0.351   31        0  \n",
       "2                     0.672   32        1  \n",
       "3                     0.167   21        0  \n",
       "4                     2.288   33        1  "
      ]
     },
     "execution_count": 10,
     "metadata": {},
     "output_type": "execute_result"
    }
   ],
   "source": [
    "#Display the first five records of the dataset\n",
    "df.head()"
   ]
  },
  {
   "cell_type": "code",
   "execution_count": 12,
   "metadata": {},
   "outputs": [
    {
     "name": "stdout",
     "output_type": "stream",
     "text": [
      "Found existing cluster.\n",
      "Succeeded\n",
      "AmlCompute wait for completion finished\n",
      "\n",
      "Minimum number of nodes requested have been provisioned\n",
      "{'currentNodeCount': 2, 'targetNodeCount': 2, 'nodeStateCounts': {'preparingNodeCount': 0, 'runningNodeCount': 0, 'idleNodeCount': 2, 'unusableNodeCount': 0, 'leavingNodeCount': 0, 'preemptedNodeCount': 0}, 'allocationState': 'Steady', 'allocationStateTransitionTime': '2021-05-21T06:29:01.053000+00:00', 'errors': None, 'creationTime': '2021-05-21T06:26:56.693359+00:00', 'modifiedTime': '2021-05-21T06:27:12.055678+00:00', 'provisioningState': 'Succeeded', 'provisioningStateTransitionTime': None, 'scaleSettings': {'minNodeCount': 2, 'maxNodeCount': 5, 'nodeIdleTimeBeforeScaleDown': 'PT1800S'}, 'vmPriority': 'Dedicated', 'vmSize': 'STANDARD_DS3_V2'}\n"
     ]
    }
   ],
   "source": [
    "from azureml.core.compute import ComputeTarget, AmlCompute\n",
    "\n",
    "# TODO: Create compute cluster\n",
    "# Use vm_size = \"Standard_D2_V2\" in your provisioning configuration.\n",
    "# max_nodes should be no greater than 4.\n",
    "\n",
    "# Choose a name for the cluster\n",
    "cpu_cluster_name = \"ComputeCluster\"\n",
    "\n",
    "# Verifing that cluster does not exist already or Create a New Cluster\n",
    "try:\n",
    "    compute_target = ComputeTarget(workspace=ws, name=cpu_cluster_name)\n",
    "    print('Found existing cluster.')\n",
    "except ComputeTargetException:\n",
    "    print('Creating a new compute cluster....')\n",
    "    compute_config = AmlCompute.provisioning_configuration(vm_size='STANDARD_D2_V2', max_nodes=4)\n",
    "    compute_target = ComputeTarget.create(ws, cpu_cluster_name, compute_config)\n",
    "\n",
    "# Can poll for a minimum number of nodes and for a specific timeout. \n",
    "# If no min node count is provided it uses the scale settings for the cluster.\n",
    "compute_target.wait_for_completion(show_output=True)\n",
    "\n",
    "# get_status() to get a detailed status for the current running cluster \n",
    "print(compute_target.get_status().serialize())"
   ]
  },
  {
   "cell_type": "markdown",
   "metadata": {},
   "source": [
    "# Compute Cluster configuration for this project:\n",
    "\n",
    "{'currentNodeCount': 2, 'targetNodeCount': 2, 'nodeStateCounts': {'preparingNodeCount': 0, 'runningNodeCount': 0, 'idleNodeCount': 2, 'unusableNodeCount': 0, 'leavingNodeCount': 0, 'preemptedNodeCount': 0}, 'allocationState': 'Steady', 'allocationStateTransitionTime': '2021-05-21T06:29:01.053000+00:00', 'errors': None, 'creationTime': '2021-05-21T06:26:56.693359+00:00', 'modifiedTime': '2021-05-21T06:27:12.055678+00:00', 'provisioningState': 'Succeeded', 'provisioningStateTransitionTime': None, 'scaleSettings': {'minNodeCount': 2, 'maxNodeCount': 5, 'nodeIdleTimeBeforeScaleDown': 'PT1800S'}, 'vmPriority': 'Dedicated', 'vmSize': 'STANDARD_DS3_V2'}"
   ]
  },
  {
   "cell_type": "markdown",
   "metadata": {},
   "source": [
    "## AutoML Configuration\n",
    "\n",
    "Automl settings and configuration used for this peoject:\n"
   ]
  },
  {
   "cell_type": "code",
   "execution_count": 13,
   "metadata": {
    "gather": {
     "logged": 1598429217746
    },
    "jupyter": {
     "outputs_hidden": false,
     "source_hidden": false
    },
    "nteract": {
     "transient": {
      "deleting": false
     }
    }
   },
   "outputs": [],
   "source": [
    "# Automl settings \n",
    "automl_settings = {\n",
    "    \"experiment_timeout_minutes\": 50,\n",
    "    \"max_concurrent_iterations\": 5,\n",
    "    \"primary_metric\" : 'accuracy',\n",
    "    \"n_cross_validations\": 5,\n",
    "    \"iterations\": 30\n",
    "    \n",
    "}\n",
    "\n",
    "# Automl configuration\n",
    "automl_config = AutoMLConfig(compute_target=compute_target,\n",
    "                             task = 'classification',\n",
    "                             training_data=dataset,\n",
    "                             label_column_name='Outcome',\n",
    "                             enable_early_stopping= True,\n",
    "                             featurization = 'auto',\n",
    "                             debug_log = 'automl_errors.log',\n",
    "                             **automl_settings\n",
    "                            )\n",
    "\n"
   ]
  },
  {
   "cell_type": "code",
   "execution_count": 14,
   "metadata": {
    "gather": {
     "logged": 1598431107951
    },
    "jupyter": {
     "outputs_hidden": false,
     "source_hidden": false
    },
    "nteract": {
     "transient": {
      "deleting": false
     }
    }
   },
   "outputs": [
    {
     "name": "stdout",
     "output_type": "stream",
     "text": [
      "Submitting remote run.\n",
      "No run_configuration provided, running on ComputeCluster with default configuration\n",
      "Running on remote compute: ComputeCluster\n"
     ]
    },
    {
     "data": {
      "text/html": [
       "<table style=\"width:100%\"><tr><th>Experiment</th><th>Id</th><th>Type</th><th>Status</th><th>Details Page</th><th>Docs Page</th></tr><tr><td>automl</td><td>AutoML_81963d46-87b4-4961-a3e7-ae90b262a8ca</td><td>automl</td><td>NotStarted</td><td><a href=\"https://ml.azure.com/runs/AutoML_81963d46-87b4-4961-a3e7-ae90b262a8ca?wsid=/subscriptions/81cefad3-d2c9-4f77-a466-99a7f541c7bb/resourcegroups/aml-quickstarts-145303/workspaces/quick-starts-ws-145303&amp;tid=660b3398-b80e-49d2-bc5b-ac1dc93b5254\" target=\"_blank\" rel=\"noopener\">Link to Azure Machine Learning studio</a></td><td><a href=\"https://docs.microsoft.com/en-us/python/api/overview/azure/ml/intro?view=azure-ml-py\" target=\"_blank\" rel=\"noopener\">Link to Documentation</a></td></tr></table>"
      ],
      "text/plain": [
       "<IPython.core.display.HTML object>"
      ]
     },
     "metadata": {},
     "output_type": "display_data"
    },
    {
     "name": "stdout",
     "output_type": "stream",
     "text": [
      "\n",
      "Current status: FeaturesGeneration. Generating features for the dataset.\n",
      "Current status: DatasetCrossValidationSplit. Generating individually featurized CV splits.\n",
      "Current status: ModelSelection. Beginning model selection.\n",
      "\n",
      "****************************************************************************************************\n",
      "DATA GUARDRAILS: \n",
      "\n",
      "TYPE:         Class balancing detection\n",
      "STATUS:       PASSED\n",
      "DESCRIPTION:  Your inputs were analyzed, and all classes are balanced in your training data.\n",
      "              Learn more about imbalanced data: https://aka.ms/AutomatedMLImbalancedData\n",
      "\n",
      "****************************************************************************************************\n",
      "\n",
      "TYPE:         Missing feature values imputation\n",
      "STATUS:       PASSED\n",
      "DESCRIPTION:  No feature missing values were detected in the training data.\n",
      "              Learn more about missing value imputation: https://aka.ms/AutomatedMLFeaturization\n",
      "\n",
      "****************************************************************************************************\n",
      "\n",
      "TYPE:         High cardinality feature detection\n",
      "STATUS:       PASSED\n",
      "DESCRIPTION:  Your inputs were analyzed, and no high cardinality features were detected.\n",
      "              Learn more about high cardinality feature handling: https://aka.ms/AutomatedMLFeaturization\n",
      "\n",
      "****************************************************************************************************\n",
      "\n",
      "****************************************************************************************************\n",
      "ITERATION: The iteration being evaluated.\n",
      "PIPELINE: A summary description of the pipeline being evaluated.\n",
      "DURATION: Time taken for the current iteration.\n",
      "METRIC: The result of computing score on the fitted pipeline.\n",
      "BEST: The best observed score thus far.\n",
      "****************************************************************************************************\n",
      "\n",
      " ITERATION   PIPELINE                                       DURATION      METRIC      BEST\n",
      "         0   MaxAbsScaler LightGBM                          0:00:43       0.7435    0.7435\n",
      "         2   MaxAbsScaler RandomForest                      0:00:39       0.7540    0.7540\n",
      "         1   MaxAbsScaler XGBoostClassifier                 0:00:43       0.7656    0.7656\n",
      "         3   MaxAbsScaler RandomForest                      0:00:44       0.7500    0.7656\n",
      "         4   MaxAbsScaler RandomForest                      0:00:46       0.7565    0.7656\n",
      "         5   MaxAbsScaler RandomForest                      0:00:46       0.7096    0.7656\n",
      "         6   StandardScalerWrapper LogisticRegression       0:00:43       0.7448    0.7656\n",
      "         7   TruncatedSVDWrapper XGBoostClassifier          0:00:39       0.7332    0.7656\n",
      "        11   SparseNormalizer XGBoostClassifier             0:00:45       0.6941    0.7656\n",
      "        12   SparseNormalizer LightGBM                      0:00:40       0.6759    0.7656\n",
      "        10   SparseNormalizer XGBoostClassifier             0:01:30       0.7045    0.7656\n",
      "         9   SparseNormalizer XGBoostClassifier             0:01:30       0.7110    0.7656\n",
      "         8   SparseNormalizer XGBoostClassifier             0:01:46       0.7189    0.7656\n",
      "        13   SparseNormalizer XGBoostClassifier             0:00:40       0.6485    0.7656\n",
      "        14   MaxAbsScaler RandomForest                      0:00:43       0.7579    0.7656\n",
      "        16   MaxAbsScaler LightGBM                          0:00:43       0.7397    0.7656\n",
      "        15   StandardScalerWrapper ExtremeRandomTrees       0:00:43       0.6590    0.7656\n",
      "        17   MaxAbsScaler RandomForest                      0:00:40       0.7293    0.7656\n",
      "        18   MaxAbsScaler LightGBM                          0:00:44       0.7527    0.7656\n",
      "        19   MaxAbsScaler LogisticRegression                0:00:44       0.7683    0.7683\n",
      "        20   MaxAbsScaler ExtremeRandomTrees                0:00:48       0.7644    0.7683\n",
      "        22   MaxAbsScaler LightGBM                          0:00:42       0.7683    0.7683\n",
      "        21   MaxAbsScaler ExtremeRandomTrees                0:00:48       0.7058    0.7683\n",
      "        23   MaxAbsScaler GradientBoosting                  0:00:43       0.7643    0.7683\n",
      "        24   MaxAbsScaler ExtremeRandomTrees                0:00:45       0.7514    0.7683\n",
      "        25   SparseNormalizer LogisticRegression            0:00:42       0.6472    0.7683\n",
      "        26   StandardScalerWrapper XGBoostClassifier        0:00:42       0.7579    0.7683\n",
      "        27   SparseNormalizer XGBoostClassifier             0:00:40       0.6928    0.7683\n",
      "        28    VotingEnsemble                                0:00:56       0.7839    0.7839\n",
      "        29    StackEnsemble                                 0:00:59       0.7722    0.7839\n"
     ]
    }
   ],
   "source": [
    "# Submit experiment with AutoML Configuration\n",
    "\n",
    "remote_run = experiment.submit(automl_config, show_output=True)"
   ]
  },
  {
   "cell_type": "markdown",
   "metadata": {},
   "source": [
    "## Run Details\n",
    "\n",
    "Now we will see best models for this classification problems.We can use the`RunDetails` widget to show various experiments performed.You can also see best model in ML Azure Portal."
   ]
  },
  {
   "cell_type": "code",
   "execution_count": 17,
   "metadata": {
    "gather": {
     "logged": 1598431121770
    },
    "jupyter": {
     "outputs_hidden": false,
     "source_hidden": false
    },
    "nteract": {
     "transient": {
      "deleting": false
     }
    }
   },
   "outputs": [
    {
     "data": {
      "application/vnd.jupyter.widget-view+json": {
       "model_id": "59206a95fac842afa81848761dfc3015",
       "version_major": 2,
       "version_minor": 0
      },
      "text/plain": [
       "_AutoMLWidget(widget_settings={'childWidgetDisplay': 'popup', 'send_telemetry': False, 'log_level': 'INFO', 's…"
      ]
     },
     "metadata": {},
     "output_type": "display_data"
    },
    {
     "data": {
      "application/aml.mini.widget.v1": "{\"status\": \"Completed\", \"workbench_run_details_uri\": \"https://ml.azure.com/runs/AutoML_81963d46-87b4-4961-a3e7-ae90b262a8ca?wsid=/subscriptions/81cefad3-d2c9-4f77-a466-99a7f541c7bb/resourcegroups/aml-quickstarts-145303/workspaces/quick-starts-ws-145303&tid=660b3398-b80e-49d2-bc5b-ac1dc93b5254\", \"run_id\": \"AutoML_81963d46-87b4-4961-a3e7-ae90b262a8ca\", \"run_properties\": {\"run_id\": \"AutoML_81963d46-87b4-4961-a3e7-ae90b262a8ca\", \"created_utc\": \"2021-05-21T06:36:38.049325Z\", \"properties\": {\"num_iterations\": \"30\", \"training_type\": \"TrainFull\", \"acquisition_function\": \"EI\", \"primary_metric\": \"accuracy\", \"train_split\": \"0\", \"acquisition_parameter\": \"0\", \"num_cross_validation\": \"5\", \"target\": \"ComputeCluster\", \"AMLSettingsJsonString\": \"{\\\"path\\\":null,\\\"name\\\":\\\"automl\\\",\\\"subscription_id\\\":\\\"81cefad3-d2c9-4f77-a466-99a7f541c7bb\\\",\\\"resource_group\\\":\\\"aml-quickstarts-145303\\\",\\\"workspace_name\\\":\\\"quick-starts-ws-145303\\\",\\\"region\\\":\\\"southcentralus\\\",\\\"compute_target\\\":\\\"ComputeCluster\\\",\\\"spark_service\\\":null,\\\"azure_service\\\":\\\"remote\\\",\\\"many_models\\\":false,\\\"pipeline_fetch_max_batch_size\\\":1,\\\"enable_batch_run\\\":false,\\\"enable_run_restructure\\\":false,\\\"start_auxiliary_runs_before_parent_complete\\\":false,\\\"iterations\\\":30,\\\"primary_metric\\\":\\\"accuracy\\\",\\\"task_type\\\":\\\"classification\\\",\\\"data_script\\\":null,\\\"test_size\\\":0.0,\\\"validation_size\\\":0.0,\\\"n_cross_validations\\\":5,\\\"y_min\\\":null,\\\"y_max\\\":null,\\\"num_classes\\\":null,\\\"featurization\\\":\\\"auto\\\",\\\"_ignore_package_version_incompatibilities\\\":false,\\\"is_timeseries\\\":false,\\\"max_cores_per_iteration\\\":1,\\\"max_concurrent_iterations\\\":5,\\\"iteration_timeout_minutes\\\":null,\\\"mem_in_mb\\\":null,\\\"enforce_time_on_windows\\\":false,\\\"experiment_timeout_minutes\\\":50,\\\"experiment_exit_score\\\":null,\\\"whitelist_models\\\":null,\\\"blacklist_algos\\\":[\\\"TensorFlowLinearClassifier\\\",\\\"TensorFlowDNN\\\"],\\\"supported_models\\\":[\\\"LightGBM\\\",\\\"SVM\\\",\\\"AveragedPerceptronClassifier\\\",\\\"DecisionTree\\\",\\\"XGBoostClassifier\\\",\\\"RandomForest\\\",\\\"ExtremeRandomTrees\\\",\\\"TensorFlowDNN\\\",\\\"KNN\\\",\\\"TensorFlowLinearClassifier\\\",\\\"GradientBoosting\\\",\\\"LinearSVM\\\",\\\"MultinomialNaiveBayes\\\",\\\"BernoulliNaiveBayes\\\",\\\"SGD\\\",\\\"LogisticRegression\\\"],\\\"private_models\\\":[],\\\"auto_blacklist\\\":true,\\\"blacklist_samples_reached\\\":false,\\\"exclude_nan_labels\\\":true,\\\"verbosity\\\":20,\\\"_debug_log\\\":\\\"azureml_automl.log\\\",\\\"show_warnings\\\":false,\\\"model_explainability\\\":true,\\\"service_url\\\":null,\\\"sdk_url\\\":null,\\\"sdk_packages\\\":null,\\\"enable_onnx_compatible_models\\\":false,\\\"enable_split_onnx_featurizer_estimator_models\\\":false,\\\"vm_type\\\":\\\"STANDARD_DS3_V2\\\",\\\"telemetry_verbosity\\\":20,\\\"send_telemetry\\\":true,\\\"enable_dnn\\\":false,\\\"scenario\\\":\\\"SDK-1.13.0\\\",\\\"environment_label\\\":null,\\\"save_mlflow\\\":false,\\\"force_text_dnn\\\":false,\\\"enable_feature_sweeping\\\":true,\\\"enable_early_stopping\\\":true,\\\"early_stopping_n_iters\\\":10,\\\"metrics\\\":null,\\\"enable_metric_confidence\\\":false,\\\"enable_ensembling\\\":true,\\\"enable_stack_ensembling\\\":true,\\\"ensemble_iterations\\\":15,\\\"enable_tf\\\":false,\\\"enable_subsampling\\\":false,\\\"subsample_seed\\\":null,\\\"enable_nimbusml\\\":false,\\\"enable_streaming\\\":false,\\\"force_streaming\\\":false,\\\"track_child_runs\\\":true,\\\"allowed_private_models\\\":[],\\\"label_column_name\\\":\\\"Outcome\\\",\\\"weight_column_name\\\":null,\\\"cv_split_column_names\\\":null,\\\"enable_local_managed\\\":false,\\\"_local_managed_run_id\\\":null,\\\"cost_mode\\\":1,\\\"lag_length\\\":0,\\\"metric_operation\\\":\\\"maximize\\\",\\\"preprocess\\\":true}\", \"DataPrepJsonString\": \"{\\\\\\\"training_data\\\\\\\": {\\\\\\\"datasetId\\\\\\\": \\\\\\\"db2b61c7-015d-4c65-90fc-6fd8dcfbe7a9\\\\\\\"}, \\\\\\\"datasets\\\\\\\": 0}\", \"EnableSubsampling\": \"False\", \"runTemplate\": \"AutoML\", \"azureml.runsource\": \"automl\", \"display_task_type\": \"classification\", \"dependencies_versions\": \"{\\\"azureml-widgets\\\": \\\"1.27.0\\\", \\\"azureml-train\\\": \\\"1.27.0\\\", \\\"azureml-train-restclients-hyperdrive\\\": \\\"1.27.0\\\", \\\"azureml-train-core\\\": \\\"1.27.0\\\", \\\"azureml-train-automl\\\": \\\"1.27.0\\\", \\\"azureml-train-automl-runtime\\\": \\\"1.27.0\\\", \\\"azureml-train-automl-client\\\": \\\"1.27.0\\\", \\\"azureml-tensorboard\\\": \\\"1.27.0\\\", \\\"azureml-telemetry\\\": \\\"1.27.0\\\", \\\"azureml-sdk\\\": \\\"1.27.0\\\", \\\"azureml-samples\\\": \\\"0+unknown\\\", \\\"azureml-pipeline\\\": \\\"1.27.0\\\", \\\"azureml-pipeline-steps\\\": \\\"1.27.0\\\", \\\"azureml-pipeline-core\\\": \\\"1.27.0\\\", \\\"azureml-opendatasets\\\": \\\"1.27.0\\\", \\\"azureml-model-management-sdk\\\": \\\"1.0.1b6.post1\\\", \\\"azureml-mlflow\\\": \\\"1.27.0\\\", \\\"azureml-interpret\\\": \\\"1.27.0\\\", \\\"azureml-explain-model\\\": \\\"1.27.0\\\", \\\"azureml-defaults\\\": \\\"1.27.0\\\", \\\"azureml-dataset-runtime\\\": \\\"1.27.0\\\", \\\"azureml-dataprep\\\": \\\"2.14.2\\\", \\\"azureml-dataprep-rslex\\\": \\\"1.12.1\\\", \\\"azureml-dataprep-native\\\": \\\"33.0.0\\\", \\\"azureml-datadrift\\\": \\\"1.27.0\\\", \\\"azureml-core\\\": \\\"1.27.0\\\", \\\"azureml-contrib-services\\\": \\\"1.27.0\\\", \\\"azureml-contrib-server\\\": \\\"1.27.0\\\", \\\"azureml-contrib-reinforcementlearning\\\": \\\"1.27.0\\\", \\\"azureml-contrib-pipeline-steps\\\": \\\"1.27.0\\\", \\\"azureml-contrib-notebook\\\": \\\"1.27.0\\\", \\\"azureml-contrib-gbdt\\\": \\\"1.27.0\\\", \\\"azureml-contrib-fairness\\\": \\\"1.27.0\\\", \\\"azureml-contrib-dataset\\\": \\\"1.27.0\\\", \\\"azureml-cli-common\\\": \\\"1.27.0\\\", \\\"azureml-automl-runtime\\\": \\\"1.27.0\\\", \\\"azureml-automl-dnn-nlp\\\": \\\"1.27.0\\\", \\\"azureml-automl-core\\\": \\\"1.27.0\\\", \\\"azureml-accel-models\\\": \\\"1.27.0\\\"}\", \"_aml_system_scenario_identification\": \"Remote.Parent\", \"ClientType\": \"SDK\", \"environment_cpu_name\": \"AzureML-AutoML\", \"environment_cpu_label\": \"prod\", \"environment_gpu_name\": \"AzureML-AutoML-GPU\", \"environment_gpu_label\": \"prod\", \"root_attribution\": \"automl\", \"attribution\": \"AutoML\", \"Orchestrator\": \"AutoML\", \"CancelUri\": \"https://southcentralus.api.azureml.ms/jasmine/v1.0/subscriptions/81cefad3-d2c9-4f77-a466-99a7f541c7bb/resourceGroups/aml-quickstarts-145303/providers/Microsoft.MachineLearningServices/workspaces/quick-starts-ws-145303/experimentids/6acfe86d-5fae-4eba-9eeb-2974a432d82c/cancel/AutoML_81963d46-87b4-4961-a3e7-ae90b262a8ca\", \"ClientSdkVersion\": \"1.27.0.post1\", \"snapshotId\": \"00000000-0000-0000-0000-000000000000\", \"SetupRunId\": \"AutoML_81963d46-87b4-4961-a3e7-ae90b262a8ca_setup\", \"SetupRunContainerId\": \"dcid.AutoML_81963d46-87b4-4961-a3e7-ae90b262a8ca_setup\", \"FeaturizationRunJsonPath\": \"featurizer_container.json\", \"FeaturizationRunId\": \"AutoML_81963d46-87b4-4961-a3e7-ae90b262a8ca_featurize\", \"ProblemInfoJsonString\": \"{\\\"dataset_num_categorical\\\": 0, \\\"is_sparse\\\": true, \\\"subsampling\\\": false, \\\"dataset_classes\\\": 2, \\\"dataset_features\\\": 24, \\\"dataset_samples\\\": 768, \\\"single_frequency_class_detected\\\": false}\", \"ModelExplainRunId\": \"AutoML_81963d46-87b4-4961-a3e7-ae90b262a8ca_ModelExplain\"}, \"tags\": {\"model_explain_run\": \"best_run\", \"_aml_system_azureml.automlComponent\": \"AutoML\", \"pipeline_id\": \"\", \"score\": \"\", \"predicted_cost\": \"\", \"fit_time\": \"\", \"training_percent\": \"\", \"iteration\": \"\", \"run_preprocessor\": \"\", \"run_algorithm\": \"\", \"dynamic_whitelisting_iterations\": \"<25>;\", \"automl_best_child_run_id\": \"AutoML_81963d46-87b4-4961-a3e7-ae90b262a8ca_28\", \"model_explain_best_run_child_id\": \"AutoML_81963d46-87b4-4961-a3e7-ae90b262a8ca_28\"}, \"end_time_utc\": \"2021-05-21T06:50:32.844501Z\", \"status\": \"Completed\", \"log_files\": {}, \"log_groups\": [], \"run_duration\": \"0:13:54\", \"run_number\": \"1621578998\", \"run_queued_details\": {\"status\": \"Completed\", \"details\": null}}, \"child_runs\": [{\"run_id\": \"AutoML_81963d46-87b4-4961-a3e7-ae90b262a8ca_2\", \"run_number\": 1621579256, \"metric\": null, \"status\": \"Completed\", \"run_type\": \"azureml.scriptrun\", \"training_percent\": \"100\", \"start_time\": \"2021-05-21T06:41:07.108692Z\", \"end_time\": \"2021-05-21T06:41:46.255502Z\", \"created_time\": \"2021-05-21T06:40:56.860971Z\", \"created_time_dt\": \"2021-05-21T06:40:56.860971Z\", \"duration\": \"0:00:49\", \"iteration\": \"2\", \"goal\": \"accuracy_max\", \"run_name\": \"MaxAbsScaler, RandomForest\", \"run_properties\": \"copy=True\", \"primary_metric\": 0.75397674, \"best_metric\": 0.75397674}, {\"run_id\": \"AutoML_81963d46-87b4-4961-a3e7-ae90b262a8ca_4\", \"run_number\": 1621579257, \"metric\": null, \"status\": \"Completed\", \"run_type\": \"azureml.scriptrun\", \"training_percent\": \"100\", \"start_time\": \"2021-05-21T06:42:59.249789Z\", \"end_time\": \"2021-05-21T06:43:45.639312Z\", \"created_time\": \"2021-05-21T06:40:56.858333Z\", \"created_time_dt\": \"2021-05-21T06:40:56.858333Z\", \"duration\": \"0:02:48\", \"iteration\": \"4\", \"goal\": \"accuracy_max\", \"run_name\": \"MaxAbsScaler, RandomForest\", \"run_properties\": \"copy=True\", \"primary_metric\": 0.7565317, \"best_metric\": 0.7565317}, {\"run_id\": \"AutoML_81963d46-87b4-4961-a3e7-ae90b262a8ca_5\", \"run_number\": 1621579309, \"metric\": null, \"status\": \"Completed\", \"run_type\": \"azureml.scriptrun\", \"training_percent\": \"100\", \"start_time\": \"2021-05-21T06:43:08.175139Z\", \"end_time\": \"2021-05-21T06:43:54.437766Z\", \"created_time\": \"2021-05-21T06:41:49.404671Z\", \"created_time_dt\": \"2021-05-21T06:41:49.404671Z\", \"duration\": \"0:02:05\", \"iteration\": \"5\", \"goal\": \"accuracy_max\", \"run_name\": \"MaxAbsScaler, RandomForest\", \"run_properties\": \"copy=True\", \"primary_metric\": 0.70962567, \"best_metric\": 0.7565317}, {\"run_id\": \"AutoML_81963d46-87b4-4961-a3e7-ae90b262a8ca_6\", \"run_number\": 1621579315, \"metric\": null, \"status\": \"Completed\", \"run_type\": \"azureml.scriptrun\", \"training_percent\": \"100\", \"start_time\": \"2021-05-21T06:44:01.464015Z\", \"end_time\": \"2021-05-21T06:44:44.078785Z\", \"created_time\": \"2021-05-21T06:41:55.543889Z\", \"created_time_dt\": \"2021-05-21T06:41:55.543889Z\", \"duration\": \"0:02:48\", \"iteration\": \"6\", \"goal\": \"accuracy_max\", \"run_name\": \"StandardScalerWrapper, LogisticRegression\", \"run_properties\": \"<azureml.automl.runtime.shared.model_wrappers.StandardScalerWrapper object at 0x7fb65142c6d8\", \"primary_metric\": 0.74480944, \"best_metric\": 0.7565317}, {\"run_id\": \"AutoML_81963d46-87b4-4961-a3e7-ae90b262a8ca_7\", \"run_number\": 1621579366, \"metric\": null, \"status\": \"Completed\", \"run_type\": \"azureml.scriptrun\", \"training_percent\": \"100\", \"start_time\": \"2021-05-21T06:44:09.905492Z\", \"end_time\": \"2021-05-21T06:44:49.095286Z\", \"created_time\": \"2021-05-21T06:42:46.88182Z\", \"created_time_dt\": \"2021-05-21T06:42:46.88182Z\", \"duration\": \"0:02:02\", \"iteration\": \"7\", \"goal\": \"accuracy_max\", \"run_name\": \"TruncatedSVDWrapper, XGBoostClassifier\", \"run_properties\": \"n_components=0.5047368421052632, random_state=None\", \"primary_metric\": 0.73317206, \"best_metric\": 0.7565317}, {\"run_id\": \"AutoML_81963d46-87b4-4961-a3e7-ae90b262a8ca_8\", \"run_number\": 1621579374, \"metric\": null, \"status\": \"Completed\", \"run_type\": \"azureml.scriptrun\", \"training_percent\": \"100\", \"start_time\": \"2021-05-21T06:44:40.146866Z\", \"end_time\": \"2021-05-21T06:46:25.879432Z\", \"created_time\": \"2021-05-21T06:42:53.9877Z\", \"created_time_dt\": \"2021-05-21T06:42:53.9877Z\", \"duration\": \"0:03:31\", \"iteration\": \"8\", \"goal\": \"accuracy_max\", \"run_name\": \"SparseNormalizer, XGBoostClassifier\", \"run_properties\": \"<azureml.automl.runtime.shared.model_wrappers.SparseNormalizer object at 0x7f842b4e9f28\", \"primary_metric\": 0.71886088, \"best_metric\": 0.7565317}, {\"run_id\": \"AutoML_81963d46-87b4-4961-a3e7-ae90b262a8ca_9\", \"run_number\": 1621579427, \"metric\": null, \"status\": \"Completed\", \"run_type\": \"azureml.scriptrun\", \"training_percent\": \"100\", \"start_time\": \"2021-05-21T06:44:39.489426Z\", \"end_time\": \"2021-05-21T06:46:09.151403Z\", \"created_time\": \"2021-05-21T06:43:47.617161Z\", \"created_time_dt\": \"2021-05-21T06:43:47.617161Z\", \"duration\": \"0:02:21\", \"iteration\": \"9\", \"goal\": \"accuracy_max\", \"run_name\": \"SparseNormalizer, XGBoostClassifier\", \"run_properties\": \"<azureml.automl.runtime.shared.model_wrappers.SparseNormalizer object at 0x7f41ae19aa90\", \"primary_metric\": 0.71102623, \"best_metric\": 0.7565317}, {\"run_id\": \"AutoML_81963d46-87b4-4961-a3e7-ae90b262a8ca_10\", \"run_number\": 1621579436, \"metric\": null, \"status\": \"Completed\", \"run_type\": \"azureml.scriptrun\", \"training_percent\": \"100\", \"start_time\": \"2021-05-21T06:44:39.709092Z\", \"end_time\": \"2021-05-21T06:46:09.247087Z\", \"created_time\": \"2021-05-21T06:43:56.344764Z\", \"created_time_dt\": \"2021-05-21T06:43:56.344764Z\", \"duration\": \"0:02:12\", \"iteration\": \"10\", \"goal\": \"accuracy_max\", \"run_name\": \"SparseNormalizer, XGBoostClassifier\", \"run_properties\": \"<azureml.automl.runtime.shared.model_wrappers.SparseNormalizer object at 0x7f612bc0f940\", \"primary_metric\": 0.70453272, \"best_metric\": 0.7565317}, {\"run_id\": \"AutoML_81963d46-87b4-4961-a3e7-ae90b262a8ca_11\", \"run_number\": 1621579485, \"metric\": null, \"status\": \"Completed\", \"run_type\": \"azureml.scriptrun\", \"training_percent\": \"100\", \"start_time\": \"2021-05-21T06:44:56.115913Z\", \"end_time\": \"2021-05-21T06:45:40.866445Z\", \"created_time\": \"2021-05-21T06:44:45.93041Z\", \"created_time_dt\": \"2021-05-21T06:44:45.93041Z\", \"duration\": \"0:00:54\", \"iteration\": \"11\", \"goal\": \"accuracy_max\", \"run_name\": \"SparseNormalizer, XGBoostClassifier\", \"run_properties\": \"<azureml.automl.runtime.shared.model_wrappers.SparseNormalizer object at 0x7fe19fa17eb8\", \"primary_metric\": 0.69407521, \"best_metric\": 0.7565317}, {\"run_id\": \"AutoML_81963d46-87b4-4961-a3e7-ae90b262a8ca_12\", \"run_number\": 1621579491, \"metric\": null, \"status\": \"Completed\", \"run_type\": \"azureml.scriptrun\", \"training_percent\": \"100\", \"start_time\": \"2021-05-21T06:45:06.396107Z\", \"end_time\": \"2021-05-21T06:45:46.726497Z\", \"created_time\": \"2021-05-21T06:44:51.476084Z\", \"created_time_dt\": \"2021-05-21T06:44:51.476084Z\", \"duration\": \"0:00:55\", \"iteration\": \"12\", \"goal\": \"accuracy_max\", \"run_name\": \"SparseNormalizer, LightGBM\", \"run_properties\": \"<azureml.automl.runtime.shared.model_wrappers.SparseNormalizer object at 0x7f60d7a3c438\", \"primary_metric\": 0.67585095, \"best_metric\": 0.7565317}, {\"run_id\": \"AutoML_81963d46-87b4-4961-a3e7-ae90b262a8ca_13\", \"run_number\": 1621579542, \"metric\": null, \"status\": \"Completed\", \"run_type\": \"azureml.scriptrun\", \"training_percent\": \"100\", \"start_time\": \"2021-05-21T06:45:57.412476Z\", \"end_time\": \"2021-05-21T06:46:37.736888Z\", \"created_time\": \"2021-05-21T06:45:42.719842Z\", \"created_time_dt\": \"2021-05-21T06:45:42.719842Z\", \"duration\": \"0:00:55\", \"iteration\": \"13\", \"goal\": \"accuracy_max\", \"run_name\": \"SparseNormalizer, XGBoostClassifier\", \"run_properties\": \"<azureml.automl.runtime.shared.model_wrappers.SparseNormalizer object at 0x7fa675137f28\", \"primary_metric\": 0.64846787, \"best_metric\": 0.7565317}, {\"run_id\": \"AutoML_81963d46-87b4-4961-a3e7-ae90b262a8ca_14\", \"run_number\": 1621579548, \"metric\": null, \"status\": \"Completed\", \"run_type\": \"azureml.scriptrun\", \"training_percent\": \"100\", \"start_time\": \"2021-05-21T06:46:03.259465Z\", \"end_time\": \"2021-05-21T06:46:46.393606Z\", \"created_time\": \"2021-05-21T06:45:48.614257Z\", \"created_time_dt\": \"2021-05-21T06:45:48.614257Z\", \"duration\": \"0:00:57\", \"iteration\": \"14\", \"goal\": \"accuracy_max\", \"run_name\": \"MaxAbsScaler, RandomForest\", \"run_properties\": \"copy=True\", \"primary_metric\": 0.75787285, \"best_metric\": 0.75787285}, {\"run_id\": \"AutoML_81963d46-87b4-4961-a3e7-ae90b262a8ca_16\", \"run_number\": 1621579571, \"metric\": null, \"status\": \"Completed\", \"run_type\": \"azureml.scriptrun\", \"training_percent\": \"100\", \"start_time\": \"2021-05-21T06:46:23.066931Z\", \"end_time\": \"2021-05-21T06:47:05.620689Z\", \"created_time\": \"2021-05-21T06:46:11.209963Z\", \"created_time_dt\": \"2021-05-21T06:46:11.209963Z\", \"duration\": \"0:00:54\", \"iteration\": \"16\", \"goal\": \"accuracy_max\", \"run_name\": \"MaxAbsScaler, LightGBM\", \"run_properties\": \"copy=True\", \"primary_metric\": 0.73969103, \"best_metric\": 0.75787285}, {\"run_id\": \"AutoML_81963d46-87b4-4961-a3e7-ae90b262a8ca_17\", \"run_number\": 1621579587, \"metric\": null, \"status\": \"Completed\", \"run_type\": \"azureml.scriptrun\", \"training_percent\": \"100\", \"start_time\": \"2021-05-21T06:46:41.800376Z\", \"end_time\": \"2021-05-21T06:47:22.181713Z\", \"created_time\": \"2021-05-21T06:46:27.661173Z\", \"created_time_dt\": \"2021-05-21T06:46:27.661173Z\", \"duration\": \"0:00:54\", \"iteration\": \"17\", \"goal\": \"accuracy_max\", \"run_name\": \"MaxAbsScaler, RandomForest\", \"run_properties\": \"copy=True\", \"primary_metric\": 0.72926746, \"best_metric\": 0.75787285}, {\"run_id\": \"AutoML_81963d46-87b4-4961-a3e7-ae90b262a8ca_18\", \"run_number\": 1621579600, \"metric\": null, \"status\": \"Completed\", \"run_type\": \"azureml.scriptrun\", \"training_percent\": \"100\", \"start_time\": \"2021-05-21T06:46:56.350183Z\", \"end_time\": \"2021-05-21T06:47:40.120202Z\", \"created_time\": \"2021-05-21T06:46:40.228983Z\", \"created_time_dt\": \"2021-05-21T06:46:40.228983Z\", \"duration\": \"0:00:59\", \"iteration\": \"18\", \"goal\": \"accuracy_max\", \"run_name\": \"MaxAbsScaler, LightGBM\", \"run_properties\": \"copy=True\", \"primary_metric\": 0.75265258, \"best_metric\": 0.75787285}, {\"run_id\": \"AutoML_81963d46-87b4-4961-a3e7-ae90b262a8ca_19\", \"run_number\": 1621579608, \"metric\": null, \"status\": \"Completed\", \"run_type\": \"azureml.scriptrun\", \"training_percent\": \"100\", \"start_time\": \"2021-05-21T06:47:04.861048Z\", \"end_time\": \"2021-05-21T06:47:48.729636Z\", \"created_time\": \"2021-05-21T06:46:48.441645Z\", \"created_time_dt\": \"2021-05-21T06:46:48.441645Z\", \"duration\": \"0:01:00\", \"iteration\": \"19\", \"goal\": \"accuracy_max\", \"run_name\": \"MaxAbsScaler, LogisticRegression\", \"run_properties\": \"copy=True\", \"primary_metric\": 0.76826246, \"best_metric\": 0.76826246}, {\"run_id\": \"AutoML_81963d46-87b4-4961-a3e7-ae90b262a8ca_20\", \"run_number\": 1621579627, \"metric\": null, \"status\": \"Completed\", \"run_type\": \"azureml.scriptrun\", \"training_percent\": \"100\", \"start_time\": \"2021-05-21T06:47:19.338775Z\", \"end_time\": \"2021-05-21T06:48:07.570315Z\", \"created_time\": \"2021-05-21T06:47:07.639064Z\", \"created_time_dt\": \"2021-05-21T06:47:07.639064Z\", \"duration\": \"0:00:59\", \"iteration\": \"20\", \"goal\": \"accuracy_max\", \"run_name\": \"MaxAbsScaler, ExtremeRandomTrees\", \"run_properties\": \"copy=True\", \"primary_metric\": 0.76440031, \"best_metric\": 0.76826246}, {\"run_id\": \"AutoML_81963d46-87b4-4961-a3e7-ae90b262a8ca_21\", \"run_number\": 1621579651, \"metric\": null, \"status\": \"Completed\", \"run_type\": \"azureml.scriptrun\", \"training_percent\": \"100\", \"start_time\": \"2021-05-21T06:47:42.080833Z\", \"end_time\": \"2021-05-21T06:48:29.841525Z\", \"created_time\": \"2021-05-21T06:47:31.717165Z\", \"created_time_dt\": \"2021-05-21T06:47:31.717165Z\", \"duration\": \"0:00:58\", \"iteration\": \"21\", \"goal\": \"accuracy_max\", \"run_name\": \"MaxAbsScaler, ExtremeRandomTrees\", \"run_properties\": \"copy=True\", \"primary_metric\": 0.70583991, \"best_metric\": 0.76826246}, {\"run_id\": \"AutoML_81963d46-87b4-4961-a3e7-ae90b262a8ca_22\", \"run_number\": 1621579652, \"metric\": null, \"status\": \"Completed\", \"run_type\": \"azureml.scriptrun\", \"training_percent\": \"100\", \"start_time\": \"2021-05-21T06:47:43.165975Z\", \"end_time\": \"2021-05-21T06:48:25.044391Z\", \"created_time\": \"2021-05-21T06:47:31.717029Z\", \"created_time_dt\": \"2021-05-21T06:47:31.717029Z\", \"duration\": \"0:00:53\", \"iteration\": \"22\", \"goal\": \"accuracy_max\", \"run_name\": \"MaxAbsScaler, LightGBM\", \"run_properties\": \"copy=True\", \"primary_metric\": 0.76827094, \"best_metric\": 0.76827094}, {\"run_id\": \"AutoML_81963d46-87b4-4961-a3e7-ae90b262a8ca_23\", \"run_number\": 1621579661, \"metric\": null, \"status\": \"Completed\", \"run_type\": \"azureml.scriptrun\", \"training_percent\": \"100\", \"start_time\": \"2021-05-21T06:47:54.050319Z\", \"end_time\": \"2021-05-21T06:48:36.665024Z\", \"created_time\": \"2021-05-21T06:47:41.928207Z\", \"created_time_dt\": \"2021-05-21T06:47:41.928207Z\", \"duration\": \"0:00:54\", \"iteration\": \"23\", \"goal\": \"accuracy_max\", \"run_name\": \"MaxAbsScaler, GradientBoosting\", \"run_properties\": \"copy=True\", \"primary_metric\": 0.76434089, \"best_metric\": 0.76827094}, {\"run_id\": \"AutoML_81963d46-87b4-4961-a3e7-ae90b262a8ca_24\", \"run_number\": 1621579670, \"metric\": null, \"status\": \"Completed\", \"run_type\": \"azureml.scriptrun\", \"training_percent\": \"100\", \"start_time\": \"2021-05-21T06:48:00.348175Z\", \"end_time\": \"2021-05-21T06:48:45.136255Z\", \"created_time\": \"2021-05-21T06:47:50.519058Z\", \"created_time_dt\": \"2021-05-21T06:47:50.519058Z\", \"duration\": \"0:00:54\", \"iteration\": \"24\", \"goal\": \"accuracy_max\", \"run_name\": \"MaxAbsScaler, ExtremeRandomTrees\", \"run_properties\": \"copy=True\", \"primary_metric\": 0.75137934, \"best_metric\": 0.76827094}, {\"run_id\": \"AutoML_81963d46-87b4-4961-a3e7-ae90b262a8ca_25\", \"run_number\": 1621579690, \"metric\": null, \"status\": \"Completed\", \"run_type\": \"azureml.scriptrun\", \"training_percent\": \"100\", \"start_time\": \"2021-05-21T06:48:20.743911Z\", \"end_time\": \"2021-05-21T06:49:02.769709Z\", \"created_time\": \"2021-05-21T06:48:10.481156Z\", \"created_time_dt\": \"2021-05-21T06:48:10.481156Z\", \"duration\": \"0:00:52\", \"iteration\": \"25\", \"goal\": \"accuracy_max\", \"run_name\": \"SparseNormalizer, LogisticRegression\", \"run_properties\": \"<azureml.automl.runtime.shared.model_wrappers.SparseNormalizer object at 0x7f8d4ac63080\", \"primary_metric\": 0.64722859, \"best_metric\": 0.76827094}, {\"run_id\": \"AutoML_81963d46-87b4-4961-a3e7-ae90b262a8ca_26\", \"run_number\": 1621579707, \"metric\": null, \"status\": \"Completed\", \"run_type\": \"azureml.scriptrun\", \"training_percent\": \"100\", \"start_time\": \"2021-05-21T06:48:38.001157Z\", \"end_time\": \"2021-05-21T06:49:19.946563Z\", \"created_time\": \"2021-05-21T06:48:27.633636Z\", \"created_time_dt\": \"2021-05-21T06:48:27.633636Z\", \"duration\": \"0:00:52\", \"iteration\": \"26\", \"goal\": \"accuracy_max\", \"run_name\": \"StandardScalerWrapper, XGBoostClassifier\", \"run_properties\": \"<azureml.automl.runtime.shared.model_wrappers.StandardScalerWrapper object at 0x7f43f82526a0\", \"primary_metric\": 0.75788133, \"best_metric\": 0.76827094}, {\"run_id\": \"AutoML_81963d46-87b4-4961-a3e7-ae90b262a8ca_27\", \"run_number\": 1621579711, \"metric\": null, \"status\": \"Completed\", \"run_type\": \"azureml.scriptrun\", \"training_percent\": \"100\", \"start_time\": \"2021-05-21T06:48:43.672209Z\", \"end_time\": \"2021-05-21T06:49:23.469408Z\", \"created_time\": \"2021-05-21T06:48:31.893018Z\", \"created_time_dt\": \"2021-05-21T06:48:31.893018Z\", \"duration\": \"0:00:51\", \"iteration\": \"27\", \"goal\": \"accuracy_max\", \"run_name\": \"SparseNormalizer, XGBoostClassifier\", \"run_properties\": \"<azureml.automl.runtime.shared.model_wrappers.SparseNormalizer object at 0x7fb96358b6d8\", \"primary_metric\": 0.69278499, \"best_metric\": 0.76827094}, {\"run_id\": \"AutoML_81963d46-87b4-4961-a3e7-ae90b262a8ca_28\", \"run_number\": 1621579764, \"metric\": null, \"status\": \"Completed\", \"run_type\": \"azureml.scriptrun\", \"training_percent\": \"100\", \"start_time\": \"2021-05-21T06:49:32.007223Z\", \"end_time\": \"2021-05-21T06:50:27.63672Z\", \"created_time\": \"2021-05-21T06:49:24.181748Z\", \"created_time_dt\": \"2021-05-21T06:49:24.181748Z\", \"duration\": \"0:01:03\", \"iteration\": \"28\", \"goal\": \"accuracy_max\", \"run_name\": \"VotingEnsemble\", \"run_properties\": \"classification_labels=None,\\n                              estimators=[('22',\\n                                           Pipeline(memory=None,\\n                                                    steps=[('maxabsscaler',\\n                                                            MaxAbsScaler(copy=True\", \"primary_metric\": 0.7838978, \"best_metric\": 0.7838978}], \"children_metrics\": {\"categories\": [0], \"series\": {\"recall_score_weighted\": [{\"categories\": [\"2\", \"4\", \"5\", \"6\", \"7\", \"8\", \"9\", \"10\", \"11\", \"12\", \"13\", \"14\", \"16\", \"17\", \"18\", \"19\", \"20\", \"21\", \"22\", \"23\", \"24\", \"25\", \"26\", \"27\", \"28\"], \"mode\": \"markers\", \"name\": \"recall_score_weighted\", \"stepped\": false, \"type\": \"scatter\", \"data\": [0.7539767422120363, 0.7565317035905271, 0.7096256684491979, 0.744809438927086, 0.7331720567014685, 0.718860877684407, 0.7110262286732875, 0.704532722179781, 0.6940752058399118, 0.6758509464391818, 0.6484678719972838, 0.7578728461081402, 0.739691027926322, 0.7292674645615821, 0.752652576181988, 0.7682624564977505, 0.7644003055767762, 0.7058399117222647, 0.7682709447415329, 0.7643408878702996, 0.7513793396146337, 0.647228588405059, 0.7578813343519226, 0.6927849927849928, 0.7838978015448603]}, {\"categories\": [\"2\", \"4\", \"5\", \"6\", \"7\", \"8\", \"9\", \"10\", \"11\", \"12\", \"13\", \"14\", \"16\", \"17\", \"18\", \"19\", \"20\", \"21\", \"22\", \"23\", \"24\", \"25\", \"26\", \"27\", \"28\"], \"mode\": \"lines\", \"name\": \"recall_score_weighted_max\", \"stepped\": true, \"type\": \"scatter\", \"data\": [0.7539767422120363, 0.7565317035905271, 0.7565317035905271, 0.7565317035905271, 0.7565317035905271, 0.7565317035905271, 0.7565317035905271, 0.7565317035905271, 0.7565317035905271, 0.7565317035905271, 0.7565317035905271, 0.7578728461081402, 0.7578728461081402, 0.7578728461081402, 0.7578728461081402, 0.7682624564977505, 0.7682624564977505, 0.7682624564977505, 0.7682709447415329, 0.7682709447415329, 0.7682709447415329, 0.7682709447415329, 0.7682709447415329, 0.7682709447415329, 0.7838978015448603]}], \"average_precision_score_weighted\": [{\"categories\": [\"2\", \"4\", \"5\", \"6\", \"7\", \"8\", \"9\", \"10\", \"11\", \"12\", \"13\", \"14\", \"16\", \"17\", \"18\", \"19\", \"20\", \"21\", \"22\", \"23\", \"24\", \"25\", \"26\", \"27\", \"28\"], \"mode\": \"markers\", \"name\": \"average_precision_score_weighted\", \"stepped\": false, \"type\": \"scatter\", \"data\": [0.8334416740530518, 0.8350857806777959, 0.809447803944639, 0.8330877492633387, 0.8034451186294638, 0.7880625636552105, 0.767257478177501, 0.7570791904749641, 0.7342847071476772, 0.7171240765757025, 0.7026049990417864, 0.8321855839570726, 0.8366563187023367, 0.8274449343070882, 0.8389536203467177, 0.8223774394393946, 0.8409684574407666, 0.8258761017227441, 0.821694016393813, 0.8437413604034003, 0.8344611189034372, 0.6775148382812498, 0.8338918162611877, 0.7409915864638704, 0.8525834443369696]}, {\"categories\": [\"2\", \"4\", \"5\", \"6\", \"7\", \"8\", \"9\", \"10\", \"11\", \"12\", \"13\", \"14\", \"16\", \"17\", \"18\", \"19\", \"20\", \"21\", \"22\", \"23\", \"24\", \"25\", \"26\", \"27\", \"28\"], \"mode\": \"lines\", \"name\": \"average_precision_score_weighted_max\", \"stepped\": true, \"type\": \"scatter\", \"data\": [0.8334416740530518, 0.8350857806777959, 0.8350857806777959, 0.8350857806777959, 0.8350857806777959, 0.8350857806777959, 0.8350857806777959, 0.8350857806777959, 0.8350857806777959, 0.8350857806777959, 0.8350857806777959, 0.8350857806777959, 0.8366563187023367, 0.8366563187023367, 0.8389536203467177, 0.8389536203467177, 0.8409684574407666, 0.8409684574407666, 0.8409684574407666, 0.8437413604034003, 0.8437413604034003, 0.8437413604034003, 0.8437413604034003, 0.8437413604034003, 0.8525834443369696]}], \"weighted_accuracy\": [{\"categories\": [\"2\", \"4\", \"5\", \"6\", \"7\", \"8\", \"9\", \"10\", \"11\", \"12\", \"13\", \"14\", \"16\", \"17\", \"18\", \"19\", \"20\", \"21\", \"22\", \"23\", \"24\", \"25\", \"26\", \"27\", \"28\"], \"mode\": \"markers\", \"name\": \"weighted_accuracy\", \"stepped\": false, \"type\": \"scatter\", \"data\": [0.8020079955182109, 0.7557391698634508, 0.7049738962738148, 0.7535142876141793, 0.7673646020425858, 0.7611297202652938, 0.7579924122975384, 0.7464178984592997, 0.7477165020957265, 0.7364737354087816, 0.7347270245101865, 0.7952665624057695, 0.8028191532186497, 0.8039992405282618, 0.804981866892515, 0.8117980132034847, 0.8203649690110865, 0.7923439678017481, 0.7932735742600687, 0.7949214148901711, 0.8144610534284269, 0.7538884190506783, 0.797337490808994, 0.7362898341825552, 0.8288405410138131]}, {\"categories\": [\"2\", \"4\", \"5\", \"6\", \"7\", \"8\", \"9\", \"10\", \"11\", \"12\", \"13\", \"14\", \"16\", \"17\", \"18\", \"19\", \"20\", \"21\", \"22\", \"23\", \"24\", \"25\", \"26\", \"27\", \"28\"], \"mode\": \"lines\", \"name\": \"weighted_accuracy_max\", \"stepped\": true, \"type\": \"scatter\", \"data\": [0.8020079955182109, 0.8020079955182109, 0.8020079955182109, 0.8020079955182109, 0.8020079955182109, 0.8020079955182109, 0.8020079955182109, 0.8020079955182109, 0.8020079955182109, 0.8020079955182109, 0.8020079955182109, 0.8020079955182109, 0.8028191532186497, 0.8039992405282618, 0.804981866892515, 0.8117980132034847, 0.8203649690110865, 0.8203649690110865, 0.8203649690110865, 0.8203649690110865, 0.8203649690110865, 0.8203649690110865, 0.8203649690110865, 0.8203649690110865, 0.8288405410138131]}], \"AUC_macro\": [{\"categories\": [\"2\", \"4\", \"5\", \"6\", \"7\", \"8\", \"9\", \"10\", \"11\", \"12\", \"13\", \"14\", \"16\", \"17\", \"18\", \"19\", \"20\", \"21\", \"22\", \"23\", \"24\", \"25\", \"26\", \"27\", \"28\"], \"mode\": \"markers\", \"name\": \"AUC_macro\", \"stepped\": false, \"type\": \"scatter\", \"data\": [0.8204653372388867, 0.828700474120617, 0.7953043510678034, 0.8212126048103819, 0.781338077864538, 0.7660757757340357, 0.750158214052964, 0.7428467468941343, 0.7119202261360748, 0.6970107504920684, 0.6971397124948764, 0.8230208180235958, 0.8309154177275222, 0.821495660820687, 0.8298858118028015, 0.8101778304264433, 0.8307023192188835, 0.8115691803071728, 0.8136972958620218, 0.832833911855172, 0.8215584723926922, 0.6489377362826204, 0.8331300140265053, 0.7239209861319169, 0.8422296716521316]}, {\"categories\": [\"2\", \"4\", \"5\", \"6\", \"7\", \"8\", \"9\", \"10\", \"11\", \"12\", \"13\", \"14\", \"16\", \"17\", \"18\", \"19\", \"20\", \"21\", \"22\", \"23\", \"24\", \"25\", \"26\", \"27\", \"28\"], \"mode\": \"lines\", \"name\": \"AUC_macro_max\", \"stepped\": true, \"type\": \"scatter\", \"data\": [0.8204653372388867, 0.828700474120617, 0.828700474120617, 0.828700474120617, 0.828700474120617, 0.828700474120617, 0.828700474120617, 0.828700474120617, 0.828700474120617, 0.828700474120617, 0.828700474120617, 0.828700474120617, 0.8309154177275222, 0.8309154177275222, 0.8309154177275222, 0.8309154177275222, 0.8309154177275222, 0.8309154177275222, 0.8309154177275222, 0.832833911855172, 0.832833911855172, 0.832833911855172, 0.8331300140265053, 0.8331300140265053, 0.8422296716521316]}], \"f1_score_weighted\": [{\"categories\": [\"2\", \"4\", \"5\", \"6\", \"7\", \"8\", \"9\", \"10\", \"11\", \"12\", \"13\", \"14\", \"16\", \"17\", \"18\", \"19\", \"20\", \"21\", \"22\", \"23\", \"24\", \"25\", \"26\", \"27\", \"28\"], \"mode\": \"markers\", \"name\": \"f1_score_weighted\", \"stepped\": false, \"type\": \"scatter\", \"data\": [0.740550586088672, 0.7617285545605699, 0.7168302079896332, 0.7482950735267624, 0.7273927181097896, 0.7084351228263952, 0.6983345257108604, 0.695684379849759, 0.6769108132918986, 0.6527275702816946, 0.57560877087662, 0.7506770873750123, 0.7139882034697592, 0.6915217734999992, 0.7372010234198063, 0.7581895994889724, 0.7463492399681797, 0.6463493175674935, 0.7661934309005198, 0.7605113118881093, 0.7270424386336094, 0.5474714294240643, 0.7492060568814808, 0.683897229828444, 0.7733115403943789]}, {\"categories\": [\"2\", \"4\", \"5\", \"6\", \"7\", \"8\", \"9\", \"10\", \"11\", \"12\", \"13\", \"14\", \"16\", \"17\", \"18\", \"19\", \"20\", \"21\", \"22\", \"23\", \"24\", \"25\", \"26\", \"27\", \"28\"], \"mode\": \"lines\", \"name\": \"f1_score_weighted_max\", \"stepped\": true, \"type\": \"scatter\", \"data\": [0.740550586088672, 0.7617285545605699, 0.7617285545605699, 0.7617285545605699, 0.7617285545605699, 0.7617285545605699, 0.7617285545605699, 0.7617285545605699, 0.7617285545605699, 0.7617285545605699, 0.7617285545605699, 0.7617285545605699, 0.7617285545605699, 0.7617285545605699, 0.7617285545605699, 0.7617285545605699, 0.7617285545605699, 0.7617285545605699, 0.7661934309005198, 0.7661934309005198, 0.7661934309005198, 0.7661934309005198, 0.7661934309005198, 0.7661934309005198, 0.7733115403943789]}], \"average_precision_score_macro\": [{\"categories\": [\"2\", \"4\", \"5\", \"6\", \"7\", \"8\", \"9\", \"10\", \"11\", \"12\", \"13\", \"14\", \"16\", \"17\", \"18\", \"19\", \"20\", \"21\", \"22\", \"23\", \"24\", \"25\", \"26\", \"27\", \"28\"], \"mode\": \"markers\", \"name\": \"average_precision_score_macro\", \"stepped\": false, \"type\": \"scatter\", \"data\": [0.8036415136212709, 0.8014706232208407, 0.7711858053011345, 0.8043772222780319, 0.7688385024823552, 0.7543822265332896, 0.7317267872368305, 0.7242857680378055, 0.6973739442267882, 0.6729409421472916, 0.657615829876303, 0.8026276803007295, 0.8050874115373354, 0.7925388247701362, 0.8077254240399853, 0.793367310093139, 0.8098750237918569, 0.7915325515402869, 0.7913167266809704, 0.8132305226299611, 0.8025394045659441, 0.6326336933514098, 0.801808197882982, 0.7039469551088056, 0.8238706540654039]}, {\"categories\": [\"2\", \"4\", \"5\", \"6\", \"7\", \"8\", \"9\", \"10\", \"11\", \"12\", \"13\", \"14\", \"16\", \"17\", \"18\", \"19\", \"20\", \"21\", \"22\", \"23\", \"24\", \"25\", \"26\", \"27\", \"28\"], \"mode\": \"lines\", \"name\": \"average_precision_score_macro_max\", \"stepped\": true, \"type\": \"scatter\", \"data\": [0.8036415136212709, 0.8036415136212709, 0.8036415136212709, 0.8043772222780319, 0.8043772222780319, 0.8043772222780319, 0.8043772222780319, 0.8043772222780319, 0.8043772222780319, 0.8043772222780319, 0.8043772222780319, 0.8043772222780319, 0.8050874115373354, 0.8050874115373354, 0.8077254240399853, 0.8077254240399853, 0.8098750237918569, 0.8098750237918569, 0.8098750237918569, 0.8132305226299611, 0.8132305226299611, 0.8132305226299611, 0.8132305226299611, 0.8132305226299611, 0.8238706540654039]}], \"AUC_micro\": [{\"categories\": [\"2\", \"4\", \"5\", \"6\", \"7\", \"8\", \"9\", \"10\", \"11\", \"12\", \"13\", \"14\", \"16\", \"17\", \"18\", \"19\", \"20\", \"21\", \"22\", \"23\", \"24\", \"25\", \"26\", \"27\", \"28\"], \"mode\": \"markers\", \"name\": \"AUC_micro\", \"stepped\": false, \"type\": \"scatter\", \"data\": [0.8405943904056519, 0.8369889402311997, 0.7976534728837789, 0.825493208500743, 0.8118115547772973, 0.8008986208502378, 0.7864944562603305, 0.7854547487083925, 0.7615031820899194, 0.7466221721588038, 0.7397627788399069, 0.8445934336211304, 0.8341286441654929, 0.8180692648329971, 0.8450741217641561, 0.8374744942900547, 0.8397821009244189, 0.8037143999283936, 0.8373458128457456, 0.852851730728122, 0.8281268033960556, 0.7086417000765628, 0.8499714724111435, 0.7688179357160319, 0.8574614977159953]}, {\"categories\": [\"2\", \"4\", \"5\", \"6\", \"7\", \"8\", \"9\", \"10\", \"11\", \"12\", \"13\", \"14\", \"16\", \"17\", \"18\", \"19\", \"20\", \"21\", \"22\", \"23\", \"24\", \"25\", \"26\", \"27\", \"28\"], \"mode\": \"lines\", \"name\": \"AUC_micro_max\", \"stepped\": true, \"type\": \"scatter\", \"data\": [0.8405943904056519, 0.8405943904056519, 0.8405943904056519, 0.8405943904056519, 0.8405943904056519, 0.8405943904056519, 0.8405943904056519, 0.8405943904056519, 0.8405943904056519, 0.8405943904056519, 0.8405943904056519, 0.8445934336211304, 0.8445934336211304, 0.8445934336211304, 0.8450741217641561, 0.8450741217641561, 0.8450741217641561, 0.8450741217641561, 0.8450741217641561, 0.852851730728122, 0.852851730728122, 0.852851730728122, 0.852851730728122, 0.852851730728122, 0.8574614977159953]}], \"precision_score_macro\": [{\"categories\": [\"2\", \"4\", \"5\", \"6\", \"7\", \"8\", \"9\", \"10\", \"11\", \"12\", \"13\", \"14\", \"16\", \"17\", \"18\", \"19\", \"20\", \"21\", \"22\", \"23\", \"24\", \"25\", \"26\", \"27\", \"28\"], \"mode\": \"markers\", \"name\": \"precision_score_macro\", \"stepped\": false, \"type\": \"scatter\", \"data\": [0.7382897983411031, 0.7373320495921656, 0.6959310760936599, 0.7206100200468536, 0.7057849308529847, 0.6888042471539706, 0.6796406069772238, 0.6702000007192261, 0.6610928792093486, 0.634682775104627, 0.5497013636174286, 0.734920638530298, 0.7359653122476005, 0.7413020791088452, 0.7400679466871797, 0.7555216454114074, 0.7647057296356609, 0.736792473913448, 0.7437845938477454, 0.7419620073436819, 0.7549397107217377, 0.5631038041312013, 0.7383870056404381, 0.6564260826892405, 0.7758238533291217]}, {\"categories\": [\"2\", \"4\", \"5\", \"6\", \"7\", \"8\", \"9\", \"10\", \"11\", \"12\", \"13\", \"14\", \"16\", \"17\", \"18\", \"19\", \"20\", \"21\", \"22\", \"23\", \"24\", \"25\", \"26\", \"27\", \"28\"], \"mode\": \"lines\", \"name\": \"precision_score_macro_max\", \"stepped\": true, \"type\": \"scatter\", \"data\": [0.7382897983411031, 0.7382897983411031, 0.7382897983411031, 0.7382897983411031, 0.7382897983411031, 0.7382897983411031, 0.7382897983411031, 0.7382897983411031, 0.7382897983411031, 0.7382897983411031, 0.7382897983411031, 0.7382897983411031, 0.7382897983411031, 0.7413020791088452, 0.7413020791088452, 0.7555216454114074, 0.7647057296356609, 0.7647057296356609, 0.7647057296356609, 0.7647057296356609, 0.7647057296356609, 0.7647057296356609, 0.7647057296356609, 0.7647057296356609, 0.7758238533291217]}], \"matthews_correlation\": [{\"categories\": [\"2\", \"4\", \"5\", \"6\", \"7\", \"8\", \"9\", \"10\", \"11\", \"12\", \"13\", \"14\", \"16\", \"17\", \"18\", \"19\", \"20\", \"21\", \"22\", \"23\", \"24\", \"25\", \"26\", \"27\", \"28\"], \"mode\": \"markers\", \"name\": \"matthews_correlation\", \"stepped\": false, \"type\": \"scatter\", \"data\": [0.4287985839958529, 0.49425638023197854, 0.41030592417135026, 0.4525803081129166, 0.3942351306090629, 0.3536736003429463, 0.3296689207197475, 0.32056869029928875, 0.28433709974188376, 0.2298762760885052, 0.10804772018981312, 0.44441557666931386, 0.38764536246337844, 0.35867384645340844, 0.42035140006271804, 0.4663102387993311, 0.4520964329133105, 0.301307859384063, 0.4801794175575827, 0.46705133211959105, 0.41761811321213466, 0.05264800444765434, 0.4456677851579792, 0.2929746472540288, 0.4986070899140925]}, {\"categories\": [\"2\", \"4\", \"5\", \"6\", \"7\", \"8\", \"9\", \"10\", \"11\", \"12\", \"13\", \"14\", \"16\", \"17\", \"18\", \"19\", \"20\", \"21\", \"22\", \"23\", \"24\", \"25\", \"26\", \"27\", \"28\"], \"mode\": \"lines\", \"name\": \"matthews_correlation_max\", \"stepped\": true, \"type\": \"scatter\", \"data\": [0.4287985839958529, 0.49425638023197854, 0.49425638023197854, 0.49425638023197854, 0.49425638023197854, 0.49425638023197854, 0.49425638023197854, 0.49425638023197854, 0.49425638023197854, 0.49425638023197854, 0.49425638023197854, 0.49425638023197854, 0.49425638023197854, 0.49425638023197854, 0.49425638023197854, 0.49425638023197854, 0.49425638023197854, 0.49425638023197854, 0.49425638023197854, 0.49425638023197854, 0.49425638023197854, 0.49425638023197854, 0.49425638023197854, 0.49425638023197854, 0.4986070899140925]}], \"AUC_weighted\": [{\"categories\": [\"2\", \"4\", \"5\", \"6\", \"7\", \"8\", \"9\", \"10\", \"11\", \"12\", \"13\", \"14\", \"16\", \"17\", \"18\", \"19\", \"20\", \"21\", \"22\", \"23\", \"24\", \"25\", \"26\", \"27\", \"28\"], \"mode\": \"markers\", \"name\": \"AUC_weighted\", \"stepped\": false, \"type\": \"scatter\", \"data\": [0.8204653372388867, 0.828700474120617, 0.7953043510678033, 0.8212126048103819, 0.781338077864538, 0.7660757757340357, 0.750158214052964, 0.7428467468941343, 0.7119202261360748, 0.6970107504920684, 0.6971397124948764, 0.8230208180235958, 0.8309154177275222, 0.821495660820687, 0.8298858118028015, 0.8101778304264435, 0.8307023192188836, 0.8115691803071726, 0.8136972958620218, 0.832833911855172, 0.8215584723926922, 0.6489377362826204, 0.8331300140265053, 0.7239209861319169, 0.8422296716521315]}, {\"categories\": [\"2\", \"4\", \"5\", \"6\", \"7\", \"8\", \"9\", \"10\", \"11\", \"12\", \"13\", \"14\", \"16\", \"17\", \"18\", \"19\", \"20\", \"21\", \"22\", \"23\", \"24\", \"25\", \"26\", \"27\", \"28\"], \"mode\": \"lines\", \"name\": \"AUC_weighted_max\", \"stepped\": true, \"type\": \"scatter\", \"data\": [0.8204653372388867, 0.828700474120617, 0.828700474120617, 0.828700474120617, 0.828700474120617, 0.828700474120617, 0.828700474120617, 0.828700474120617, 0.828700474120617, 0.828700474120617, 0.828700474120617, 0.828700474120617, 0.8309154177275222, 0.8309154177275222, 0.8309154177275222, 0.8309154177275222, 0.8309154177275222, 0.8309154177275222, 0.8309154177275222, 0.832833911855172, 0.832833911855172, 0.832833911855172, 0.8331300140265053, 0.8331300140265053, 0.8422296716521315]}], \"precision_score_micro\": [{\"categories\": [\"2\", \"4\", \"5\", \"6\", \"7\", \"8\", \"9\", \"10\", \"11\", \"12\", \"13\", \"14\", \"16\", \"17\", \"18\", \"19\", \"20\", \"21\", \"22\", \"23\", \"24\", \"25\", \"26\", \"27\", \"28\"], \"mode\": \"markers\", \"name\": \"precision_score_micro\", \"stepped\": false, \"type\": \"scatter\", \"data\": [0.7539767422120363, 0.7565317035905271, 0.7096256684491979, 0.744809438927086, 0.7331720567014685, 0.718860877684407, 0.7110262286732875, 0.704532722179781, 0.6940752058399118, 0.6758509464391818, 0.6484678719972838, 0.7578728461081402, 0.739691027926322, 0.7292674645615821, 0.752652576181988, 0.7682624564977505, 0.7644003055767762, 0.7058399117222647, 0.7682709447415329, 0.7643408878702996, 0.7513793396146337, 0.647228588405059, 0.7578813343519226, 0.6927849927849928, 0.7838978015448603]}, {\"categories\": [\"2\", \"4\", \"5\", \"6\", \"7\", \"8\", \"9\", \"10\", \"11\", \"12\", \"13\", \"14\", \"16\", \"17\", \"18\", \"19\", \"20\", \"21\", \"22\", \"23\", \"24\", \"25\", \"26\", \"27\", \"28\"], \"mode\": \"lines\", \"name\": \"precision_score_micro_max\", \"stepped\": true, \"type\": \"scatter\", \"data\": [0.7539767422120363, 0.7565317035905271, 0.7565317035905271, 0.7565317035905271, 0.7565317035905271, 0.7565317035905271, 0.7565317035905271, 0.7565317035905271, 0.7565317035905271, 0.7565317035905271, 0.7565317035905271, 0.7578728461081402, 0.7578728461081402, 0.7578728461081402, 0.7578728461081402, 0.7682624564977505, 0.7682624564977505, 0.7682624564977505, 0.7682709447415329, 0.7682709447415329, 0.7682709447415329, 0.7682709447415329, 0.7682709447415329, 0.7682709447415329, 0.7838978015448603]}], \"f1_score_micro\": [{\"categories\": [\"2\", \"4\", \"5\", \"6\", \"7\", \"8\", \"9\", \"10\", \"11\", \"12\", \"13\", \"14\", \"16\", \"17\", \"18\", \"19\", \"20\", \"21\", \"22\", \"23\", \"24\", \"25\", \"26\", \"27\", \"28\"], \"mode\": \"markers\", \"name\": \"f1_score_micro\", \"stepped\": false, \"type\": \"scatter\", \"data\": [0.7539767422120364, 0.756531703590527, 0.7096256684491979, 0.744809438927086, 0.7331720567014685, 0.718860877684407, 0.7110262286732875, 0.704532722179781, 0.6940752058399118, 0.6758509464391818, 0.6484678719972838, 0.7578728461081402, 0.739691027926322, 0.7292674645615821, 0.752652576181988, 0.7682624564977505, 0.7644003055767762, 0.7058399117222647, 0.7682709447415329, 0.7643408878702996, 0.7513793396146337, 0.647228588405059, 0.7578813343519226, 0.6927849927849928, 0.7838978015448603]}, {\"categories\": [\"2\", \"4\", \"5\", \"6\", \"7\", \"8\", \"9\", \"10\", \"11\", \"12\", \"13\", \"14\", \"16\", \"17\", \"18\", \"19\", \"20\", \"21\", \"22\", \"23\", \"24\", \"25\", \"26\", \"27\", \"28\"], \"mode\": \"lines\", \"name\": \"f1_score_micro_max\", \"stepped\": true, \"type\": \"scatter\", \"data\": [0.7539767422120364, 0.756531703590527, 0.756531703590527, 0.756531703590527, 0.756531703590527, 0.756531703590527, 0.756531703590527, 0.756531703590527, 0.756531703590527, 0.756531703590527, 0.756531703590527, 0.7578728461081402, 0.7578728461081402, 0.7578728461081402, 0.7578728461081402, 0.7682624564977505, 0.7682624564977505, 0.7682624564977505, 0.7682709447415329, 0.7682709447415329, 0.7682709447415329, 0.7682709447415329, 0.7682709447415329, 0.7682709447415329, 0.7838978015448603]}], \"accuracy\": [{\"categories\": [\"2\", \"4\", \"5\", \"6\", \"7\", \"8\", \"9\", \"10\", \"11\", \"12\", \"13\", \"14\", \"16\", \"17\", \"18\", \"19\", \"20\", \"21\", \"22\", \"23\", \"24\", \"25\", \"26\", \"27\", \"28\"], \"mode\": \"markers\", \"name\": \"accuracy\", \"stepped\": false, \"type\": \"scatter\", \"data\": [0.7539767422120363, 0.7565317035905271, 0.7096256684491979, 0.744809438927086, 0.7331720567014685, 0.718860877684407, 0.7110262286732875, 0.704532722179781, 0.6940752058399118, 0.6758509464391818, 0.6484678719972838, 0.7578728461081402, 0.739691027926322, 0.7292674645615821, 0.752652576181988, 0.7682624564977505, 0.7644003055767762, 0.7058399117222647, 0.7682709447415329, 0.7643408878702996, 0.7513793396146337, 0.647228588405059, 0.7578813343519226, 0.6927849927849928, 0.7838978015448603]}, {\"categories\": [\"2\", \"4\", \"5\", \"6\", \"7\", \"8\", \"9\", \"10\", \"11\", \"12\", \"13\", \"14\", \"16\", \"17\", \"18\", \"19\", \"20\", \"21\", \"22\", \"23\", \"24\", \"25\", \"26\", \"27\", \"28\"], \"mode\": \"lines\", \"name\": \"accuracy_max\", \"stepped\": true, \"type\": \"scatter\", \"data\": [0.7539767422120363, 0.7565317035905271, 0.7565317035905271, 0.7565317035905271, 0.7565317035905271, 0.7565317035905271, 0.7565317035905271, 0.7565317035905271, 0.7565317035905271, 0.7565317035905271, 0.7565317035905271, 0.7578728461081402, 0.7578728461081402, 0.7578728461081402, 0.7578728461081402, 0.7682624564977505, 0.7682624564977505, 0.7682624564977505, 0.7682709447415329, 0.7682709447415329, 0.7682709447415329, 0.7682709447415329, 0.7682709447415329, 0.7682709447415329, 0.7838978015448603]}], \"recall_score_macro\": [{\"categories\": [\"2\", \"4\", \"5\", \"6\", \"7\", \"8\", \"9\", \"10\", \"11\", \"12\", \"13\", \"14\", \"16\", \"17\", \"18\", \"19\", \"20\", \"21\", \"22\", \"23\", \"24\", \"25\", \"26\", \"27\", \"28\"], \"mode\": \"markers\", \"name\": \"recall_score_macro\", \"stepped\": false, \"type\": \"scatter\", \"data\": [0.693021668832745, 0.7576582277288326, 0.7151098772636202, 0.7322263116334566, 0.6892556869265125, 0.6659595592025392, 0.6515131463515089, 0.6511193839341229, 0.625987222207271, 0.5985315417260876, 0.5438204909451553, 0.7102834258527038, 0.6595848133343803, 0.6339649125809395, 0.6844056281301993, 0.7131587060949854, 0.6931611810881685, 0.5976714669982091, 0.7367270683187781, 0.7257533257757146, 0.6711967601418392, 0.5112636879825121, 0.7087734042359567, 0.637401016973399, 0.725595230879299]}, {\"categories\": [\"2\", \"4\", \"5\", \"6\", \"7\", \"8\", \"9\", \"10\", \"11\", \"12\", \"13\", \"14\", \"16\", \"17\", \"18\", \"19\", \"20\", \"21\", \"22\", \"23\", \"24\", \"25\", \"26\", \"27\", \"28\"], \"mode\": \"lines\", \"name\": \"recall_score_macro_max\", \"stepped\": true, \"type\": \"scatter\", \"data\": [0.693021668832745, 0.7576582277288326, 0.7576582277288326, 0.7576582277288326, 0.7576582277288326, 0.7576582277288326, 0.7576582277288326, 0.7576582277288326, 0.7576582277288326, 0.7576582277288326, 0.7576582277288326, 0.7576582277288326, 0.7576582277288326, 0.7576582277288326, 0.7576582277288326, 0.7576582277288326, 0.7576582277288326, 0.7576582277288326, 0.7576582277288326, 0.7576582277288326, 0.7576582277288326, 0.7576582277288326, 0.7576582277288326, 0.7576582277288326, 0.7576582277288326]}], \"norm_macro_recall\": [{\"categories\": [\"2\", \"4\", \"5\", \"6\", \"7\", \"8\", \"9\", \"10\", \"11\", \"12\", \"13\", \"14\", \"16\", \"17\", \"18\", \"19\", \"20\", \"21\", \"22\", \"23\", \"24\", \"25\", \"26\", \"27\", \"28\"], \"mode\": \"markers\", \"name\": \"norm_macro_recall\", \"stepped\": false, \"type\": \"scatter\", \"data\": [0.3860433376654897, 0.515316455457665, 0.4302197545272404, 0.4644526232669134, 0.3785113738530251, 0.33191911840507854, 0.3030262927030176, 0.30223876786824594, 0.251974444414542, 0.19706308345217516, 0.08972431522364399, 0.42056685170540764, 0.3191696266687607, 0.2679298251618788, 0.36881125626039857, 0.4263174121899708, 0.38632236217633686, 0.1953429339964182, 0.4734541366375561, 0.4515066515514293, 0.34239352028367837, 0.027629416781350623, 0.4175468084719133, 0.27480203394679803, 0.451190461758598]}, {\"categories\": [\"2\", \"4\", \"5\", \"6\", \"7\", \"8\", \"9\", \"10\", \"11\", \"12\", \"13\", \"14\", \"16\", \"17\", \"18\", \"19\", \"20\", \"21\", \"22\", \"23\", \"24\", \"25\", \"26\", \"27\", \"28\"], \"mode\": \"lines\", \"name\": \"norm_macro_recall_max\", \"stepped\": true, \"type\": \"scatter\", \"data\": [0.3860433376654897, 0.515316455457665, 0.515316455457665, 0.515316455457665, 0.515316455457665, 0.515316455457665, 0.515316455457665, 0.515316455457665, 0.515316455457665, 0.515316455457665, 0.515316455457665, 0.515316455457665, 0.515316455457665, 0.515316455457665, 0.515316455457665, 0.515316455457665, 0.515316455457665, 0.515316455457665, 0.515316455457665, 0.515316455457665, 0.515316455457665, 0.515316455457665, 0.515316455457665, 0.515316455457665, 0.515316455457665]}], \"precision_score_weighted\": [{\"categories\": [\"2\", \"4\", \"5\", \"6\", \"7\", \"8\", \"9\", \"10\", \"11\", \"12\", \"13\", \"14\", \"16\", \"17\", \"18\", \"19\", \"20\", \"21\", \"22\", \"23\", \"24\", \"25\", \"26\", \"27\", \"28\"], \"mode\": \"markers\", \"name\": \"precision_score_weighted\", \"stepped\": false, \"type\": \"scatter\", \"data\": [0.7497827639644324, 0.7769534194184484, 0.741322209517527, 0.7567125927110875, 0.7303825985733958, 0.7115161895977773, 0.7024304162613891, 0.6966268353120794, 0.6852304906797901, 0.6619696053850144, 0.5918911276357762, 0.7528727297587989, 0.7409019394825045, 0.7401638227173784, 0.7495722445531372, 0.7686820578442385, 0.7690924762326794, 0.7306173092345173, 0.7677290504812386, 0.7638184255791949, 0.7585296411981758, 0.599088766997345, 0.7558064479516223, 0.6860737443332434, 0.7838887869495137]}, {\"categories\": [\"2\", \"4\", \"5\", \"6\", \"7\", \"8\", \"9\", \"10\", \"11\", \"12\", \"13\", \"14\", \"16\", \"17\", \"18\", \"19\", \"20\", \"21\", \"22\", \"23\", \"24\", \"25\", \"26\", \"27\", \"28\"], \"mode\": \"lines\", \"name\": \"precision_score_weighted_max\", \"stepped\": true, \"type\": \"scatter\", \"data\": [0.7497827639644324, 0.7769534194184484, 0.7769534194184484, 0.7769534194184484, 0.7769534194184484, 0.7769534194184484, 0.7769534194184484, 0.7769534194184484, 0.7769534194184484, 0.7769534194184484, 0.7769534194184484, 0.7769534194184484, 0.7769534194184484, 0.7769534194184484, 0.7769534194184484, 0.7769534194184484, 0.7769534194184484, 0.7769534194184484, 0.7769534194184484, 0.7769534194184484, 0.7769534194184484, 0.7769534194184484, 0.7769534194184484, 0.7769534194184484, 0.7838887869495137]}], \"recall_score_micro\": [{\"categories\": [\"2\", \"4\", \"5\", \"6\", \"7\", \"8\", \"9\", \"10\", \"11\", \"12\", \"13\", \"14\", \"16\", \"17\", \"18\", \"19\", \"20\", \"21\", \"22\", \"23\", \"24\", \"25\", \"26\", \"27\", \"28\"], \"mode\": \"markers\", \"name\": \"recall_score_micro\", \"stepped\": false, \"type\": \"scatter\", \"data\": [0.7539767422120363, 0.7565317035905271, 0.7096256684491979, 0.744809438927086, 0.7331720567014685, 0.718860877684407, 0.7110262286732875, 0.704532722179781, 0.6940752058399118, 0.6758509464391818, 0.6484678719972838, 0.7578728461081402, 0.739691027926322, 0.7292674645615821, 0.752652576181988, 0.7682624564977505, 0.7644003055767762, 0.7058399117222647, 0.7682709447415329, 0.7643408878702996, 0.7513793396146337, 0.647228588405059, 0.7578813343519226, 0.6927849927849928, 0.7838978015448603]}, {\"categories\": [\"2\", \"4\", \"5\", \"6\", \"7\", \"8\", \"9\", \"10\", \"11\", \"12\", \"13\", \"14\", \"16\", \"17\", \"18\", \"19\", \"20\", \"21\", \"22\", \"23\", \"24\", \"25\", \"26\", \"27\", \"28\"], \"mode\": \"lines\", \"name\": \"recall_score_micro_max\", \"stepped\": true, \"type\": \"scatter\", \"data\": [0.7539767422120363, 0.7565317035905271, 0.7565317035905271, 0.7565317035905271, 0.7565317035905271, 0.7565317035905271, 0.7565317035905271, 0.7565317035905271, 0.7565317035905271, 0.7565317035905271, 0.7565317035905271, 0.7578728461081402, 0.7578728461081402, 0.7578728461081402, 0.7578728461081402, 0.7682624564977505, 0.7682624564977505, 0.7682624564977505, 0.7682709447415329, 0.7682709447415329, 0.7682709447415329, 0.7682709447415329, 0.7682709447415329, 0.7682709447415329, 0.7838978015448603]}], \"average_precision_score_micro\": [{\"categories\": [\"2\", \"4\", \"5\", \"6\", \"7\", \"8\", \"9\", \"10\", \"11\", \"12\", \"13\", \"14\", \"16\", \"17\", \"18\", \"19\", \"20\", \"21\", \"22\", \"23\", \"24\", \"25\", \"26\", \"27\", \"28\"], \"mode\": \"markers\", \"name\": \"average_precision_score_micro\", \"stepped\": false, \"type\": \"scatter\", \"data\": [0.8436017022695366, 0.8378896344790956, 0.8050847392049436, 0.8164674359506364, 0.8154633242988888, 0.8035091285138671, 0.7841739193583097, 0.7746861330663863, 0.7489103249492068, 0.7429785054709046, 0.727791529370266, 0.8440687825334574, 0.8384209143885648, 0.8259516696329621, 0.847088076380756, 0.83091330521135, 0.8442110898689371, 0.8142171791681629, 0.8342775416130237, 0.8550385474594826, 0.8341349760912303, 0.6913889999805619, 0.8488144953169723, 0.7581149359161895, 0.8594572099955851]}, {\"categories\": [\"2\", \"4\", \"5\", \"6\", \"7\", \"8\", \"9\", \"10\", \"11\", \"12\", \"13\", \"14\", \"16\", \"17\", \"18\", \"19\", \"20\", \"21\", \"22\", \"23\", \"24\", \"25\", \"26\", \"27\", \"28\"], \"mode\": \"lines\", \"name\": \"average_precision_score_micro_max\", \"stepped\": true, \"type\": \"scatter\", \"data\": [0.8436017022695366, 0.8436017022695366, 0.8436017022695366, 0.8436017022695366, 0.8436017022695366, 0.8436017022695366, 0.8436017022695366, 0.8436017022695366, 0.8436017022695366, 0.8436017022695366, 0.8436017022695366, 0.8440687825334574, 0.8440687825334574, 0.8440687825334574, 0.847088076380756, 0.847088076380756, 0.847088076380756, 0.847088076380756, 0.847088076380756, 0.8550385474594826, 0.8550385474594826, 0.8550385474594826, 0.8550385474594826, 0.8550385474594826, 0.8594572099955851]}], \"balanced_accuracy\": [{\"categories\": [\"2\", \"4\", \"5\", \"6\", \"7\", \"8\", \"9\", \"10\", \"11\", \"12\", \"13\", \"14\", \"16\", \"17\", \"18\", \"19\", \"20\", \"21\", \"22\", \"23\", \"24\", \"25\", \"26\", \"27\", \"28\"], \"mode\": \"markers\", \"name\": \"balanced_accuracy\", \"stepped\": false, \"type\": \"scatter\", \"data\": [0.693021668832745, 0.7576582277288326, 0.7151098772636202, 0.7322263116334566, 0.6892556869265125, 0.6659595592025392, 0.6515131463515089, 0.6511193839341229, 0.625987222207271, 0.5985315417260876, 0.5438204909451553, 0.7102834258527038, 0.6595848133343803, 0.6339649125809395, 0.6844056281301993, 0.7131587060949854, 0.6931611810881685, 0.5976714669982091, 0.7367270683187781, 0.7257533257757146, 0.6711967601418392, 0.5112636879825121, 0.7087734042359567, 0.637401016973399, 0.725595230879299]}, {\"categories\": [\"2\", \"4\", \"5\", \"6\", \"7\", \"8\", \"9\", \"10\", \"11\", \"12\", \"13\", \"14\", \"16\", \"17\", \"18\", \"19\", \"20\", \"21\", \"22\", \"23\", \"24\", \"25\", \"26\", \"27\", \"28\"], \"mode\": \"lines\", \"name\": \"balanced_accuracy_max\", \"stepped\": true, \"type\": \"scatter\", \"data\": [0.693021668832745, 0.7576582277288326, 0.7576582277288326, 0.7576582277288326, 0.7576582277288326, 0.7576582277288326, 0.7576582277288326, 0.7576582277288326, 0.7576582277288326, 0.7576582277288326, 0.7576582277288326, 0.7576582277288326, 0.7576582277288326, 0.7576582277288326, 0.7576582277288326, 0.7576582277288326, 0.7576582277288326, 0.7576582277288326, 0.7576582277288326, 0.7576582277288326, 0.7576582277288326, 0.7576582277288326, 0.7576582277288326, 0.7576582277288326, 0.7576582277288326]}], \"f1_score_macro\": [{\"categories\": [\"2\", \"4\", \"5\", \"6\", \"7\", \"8\", \"9\", \"10\", \"11\", \"12\", \"13\", \"14\", \"16\", \"17\", \"18\", \"19\", \"20\", \"21\", \"22\", \"23\", \"24\", \"25\", \"26\", \"27\", \"28\"], \"mode\": \"markers\", \"name\": \"f1_score_macro\", \"stepped\": false, \"type\": \"scatter\", \"data\": [0.7021207821408044, 0.7412725515354023, 0.695418065262675, 0.7235444472841766, 0.6923856996157512, 0.6695423199560285, 0.6557501423243692, 0.6549949367736009, 0.6284446024489676, 0.5974676748715888, 0.4955795022259055, 0.7171430870066942, 0.665451562542969, 0.6332595783869015, 0.6947975033204765, 0.7222107295619971, 0.704182941632433, 0.5772580615413452, 0.7380947811495064, 0.7296631653854035, 0.6790149654305927, 0.44388880194820013, 0.7146488797939284, 0.6405303411911604, 0.7378095561019105]}, {\"categories\": [\"2\", \"4\", \"5\", \"6\", \"7\", \"8\", \"9\", \"10\", \"11\", \"12\", \"13\", \"14\", \"16\", \"17\", \"18\", \"19\", \"20\", \"21\", \"22\", \"23\", \"24\", \"25\", \"26\", \"27\", \"28\"], \"mode\": \"lines\", \"name\": \"f1_score_macro_max\", \"stepped\": true, \"type\": \"scatter\", \"data\": [0.7021207821408044, 0.7412725515354023, 0.7412725515354023, 0.7412725515354023, 0.7412725515354023, 0.7412725515354023, 0.7412725515354023, 0.7412725515354023, 0.7412725515354023, 0.7412725515354023, 0.7412725515354023, 0.7412725515354023, 0.7412725515354023, 0.7412725515354023, 0.7412725515354023, 0.7412725515354023, 0.7412725515354023, 0.7412725515354023, 0.7412725515354023, 0.7412725515354023, 0.7412725515354023, 0.7412725515354023, 0.7412725515354023, 0.7412725515354023, 0.7412725515354023]}], \"log_loss\": [{\"categories\": [\"2\", \"4\", \"5\", \"6\", \"7\", \"8\", \"9\", \"10\", \"11\", \"12\", \"13\", \"14\", \"16\", \"17\", \"18\", \"19\", \"20\", \"21\", \"22\", \"23\", \"24\", \"25\", \"26\", \"27\", \"28\"], \"mode\": \"markers\", \"name\": \"log_loss\", \"stepped\": false, \"type\": \"scatter\", \"data\": [0.4968834286726554, 0.505634979458284, 0.5681865719853312, 0.5196275036081058, 0.6309179307966721, 0.5429842329358994, 0.554407651698379, 0.5815167335513968, 0.5942228549602223, 0.5913597754508959, 0.6129305394703799, 0.4860612743694063, 0.5252082796251064, 0.538296131235393, 0.509182188517032, 0.5021611265500205, 0.5090277453336474, 0.5530871382082828, 0.5083325299469085, 0.475111134500995, 0.5230466732768393, 0.6326281144568349, 0.5387552512058269, 0.5762049836482304, 0.48393002104468136]}, {\"categories\": [\"2\", \"4\", \"5\", \"6\", \"7\", \"8\", \"9\", \"10\", \"11\", \"12\", \"13\", \"14\", \"16\", \"17\", \"18\", \"19\", \"20\", \"21\", \"22\", \"23\", \"24\", \"25\", \"26\", \"27\", \"28\"], \"mode\": \"lines\", \"name\": \"log_loss_min\", \"stepped\": true, \"type\": \"scatter\", \"data\": [0.4968834286726554, 0.4968834286726554, 0.4968834286726554, 0.4968834286726554, 0.4968834286726554, 0.4968834286726554, 0.4968834286726554, 0.4968834286726554, 0.4968834286726554, 0.4968834286726554, 0.4968834286726554, 0.4860612743694063, 0.4860612743694063, 0.4860612743694063, 0.4860612743694063, 0.4860612743694063, 0.4860612743694063, 0.4860612743694063, 0.4860612743694063, 0.475111134500995, 0.475111134500995, 0.475111134500995, 0.475111134500995, 0.475111134500995, 0.475111134500995]}]}, \"metricName\": null, \"primaryMetricName\": \"accuracy\", \"showLegend\": false}, \"run_metrics\": [{\"name\": \"experiment_status\", \"run_id\": \"AutoML_81963d46-87b4-4961-a3e7-ae90b262a8ca\", \"categories\": [0, 1, 2, 3, 4, 5, 6, 7, 8, 9, 10, 11, 12, 13], \"series\": [{\"data\": [\"DatasetEvaluation\", \"FeaturesGeneration\", \"DatasetFeaturization\", \"DatasetFeaturizationCompleted\", \"DatasetCrossValidationSplit\", \"ModelSelection\", \"BestRunExplainModel\", \"ModelExplanationDataSetSetup\", \"PickSurrogateModel\", \"EngineeredFeatureExplanations\", \"EngineeredFeatureExplanations\", \"RawFeaturesExplanations\", \"RawFeaturesExplanations\", \"BestRunExplainModel\"]}]}, {\"name\": \"experiment_status_description\", \"run_id\": \"AutoML_81963d46-87b4-4961-a3e7-ae90b262a8ca\", \"categories\": [0, 1, 2, 3, 4, 5, 6, 7, 8, 9, 10, 11, 12, 13], \"series\": [{\"data\": [\"Gathering dataset statistics.\", \"Generating features for the dataset.\", \"Beginning to fit featurizers and featurize the dataset.\", \"Completed fit featurizers and featurizing the dataset.\", \"Generating individually featurized CV splits.\", \"Beginning model selection.\", \"Best run model explanations started\", \"Model explanations data setup completed\", \"Choosing LightGBM as the surrogate model for explanations\", \"Computation of engineered features started\", \"Computation of engineered features completed\", \"Computation of raw features started\", \"Computation of raw features completed\", \"Best run model explanations completed\"]}]}, {\"name\": \"AUC_micro\", \"run_id\": \"AutoML_81963d46-87b4-4961-a3e7-ae90b262a8ca\", \"categories\": [0], \"series\": [{\"data\": [0.8574614977159953]}]}, {\"name\": \"balanced_accuracy\", \"run_id\": \"AutoML_81963d46-87b4-4961-a3e7-ae90b262a8ca\", \"categories\": [0], \"series\": [{\"data\": [0.725595230879299]}]}, {\"name\": \"precision_score_weighted\", \"run_id\": \"AutoML_81963d46-87b4-4961-a3e7-ae90b262a8ca\", \"categories\": [0], \"series\": [{\"data\": [0.7838887869495137]}]}, {\"name\": \"matthews_correlation\", \"run_id\": \"AutoML_81963d46-87b4-4961-a3e7-ae90b262a8ca\", \"categories\": [0], \"series\": [{\"data\": [0.4986070899140925]}]}, {\"name\": \"recall_score_weighted\", \"run_id\": \"AutoML_81963d46-87b4-4961-a3e7-ae90b262a8ca\", \"categories\": [0], \"series\": [{\"data\": [0.7838978015448603]}]}, {\"name\": \"accuracy\", \"run_id\": \"AutoML_81963d46-87b4-4961-a3e7-ae90b262a8ca\", \"categories\": [0], \"series\": [{\"data\": [0.7838978015448603]}]}, {\"name\": \"average_precision_score_micro\", \"run_id\": \"AutoML_81963d46-87b4-4961-a3e7-ae90b262a8ca\", \"categories\": [0], \"series\": [{\"data\": [0.8594572099955851]}]}, {\"name\": \"f1_score_macro\", \"run_id\": \"AutoML_81963d46-87b4-4961-a3e7-ae90b262a8ca\", \"categories\": [0], \"series\": [{\"data\": [0.7378095561019105]}]}, {\"name\": \"precision_score_macro\", \"run_id\": \"AutoML_81963d46-87b4-4961-a3e7-ae90b262a8ca\", \"categories\": [0], \"series\": [{\"data\": [0.7758238533291217]}]}, {\"name\": \"AUC_weighted\", \"run_id\": \"AutoML_81963d46-87b4-4961-a3e7-ae90b262a8ca\", \"categories\": [0], \"series\": [{\"data\": [0.8422296716521315]}]}, {\"name\": \"f1_score_micro\", \"run_id\": \"AutoML_81963d46-87b4-4961-a3e7-ae90b262a8ca\", \"categories\": [0], \"series\": [{\"data\": [0.7838978015448603]}]}, {\"name\": \"AUC_macro\", \"run_id\": \"AutoML_81963d46-87b4-4961-a3e7-ae90b262a8ca\", \"categories\": [0], \"series\": [{\"data\": [0.8422296716521316]}]}, {\"name\": \"recall_score_macro\", \"run_id\": \"AutoML_81963d46-87b4-4961-a3e7-ae90b262a8ca\", \"categories\": [0], \"series\": [{\"data\": [0.725595230879299]}]}, {\"name\": \"average_precision_score_weighted\", \"run_id\": \"AutoML_81963d46-87b4-4961-a3e7-ae90b262a8ca\", \"categories\": [0], \"series\": [{\"data\": [0.8525834443369696]}]}, {\"name\": \"recall_score_micro\", \"run_id\": \"AutoML_81963d46-87b4-4961-a3e7-ae90b262a8ca\", \"categories\": [0], \"series\": [{\"data\": [0.7838978015448603]}]}, {\"name\": \"log_loss\", \"run_id\": \"AutoML_81963d46-87b4-4961-a3e7-ae90b262a8ca\", \"categories\": [0], \"series\": [{\"data\": [0.48393002104468136]}]}, {\"name\": \"average_precision_score_macro\", \"run_id\": \"AutoML_81963d46-87b4-4961-a3e7-ae90b262a8ca\", \"categories\": [0], \"series\": [{\"data\": [0.8238706540654039]}]}, {\"name\": \"weighted_accuracy\", \"run_id\": \"AutoML_81963d46-87b4-4961-a3e7-ae90b262a8ca\", \"categories\": [0], \"series\": [{\"data\": [0.8288405410138131]}]}, {\"name\": \"precision_score_micro\", \"run_id\": \"AutoML_81963d46-87b4-4961-a3e7-ae90b262a8ca\", \"categories\": [0], \"series\": [{\"data\": [0.7838978015448603]}]}, {\"name\": \"norm_macro_recall\", \"run_id\": \"AutoML_81963d46-87b4-4961-a3e7-ae90b262a8ca\", \"categories\": [0], \"series\": [{\"data\": [0.451190461758598]}]}, {\"name\": \"f1_score_weighted\", \"run_id\": \"AutoML_81963d46-87b4-4961-a3e7-ae90b262a8ca\", \"categories\": [0], \"series\": [{\"data\": [0.7733115403943789]}]}], \"run_logs\": \"\\nRun is completed.\", \"graph\": {}, \"widget_settings\": {\"childWidgetDisplay\": \"popup\", \"send_telemetry\": false, \"log_level\": \"INFO\", \"sdk_version\": \"1.27.0\"}, \"loading\": false}"
     },
     "metadata": {},
     "output_type": "display_data"
    }
   ],
   "source": [
    "RunDetails(remote_run).show()"
   ]
  },
  {
   "cell_type": "code",
   "execution_count": 18,
   "metadata": {},
   "outputs": [
    {
     "data": {
      "text/html": [
       "<table style=\"width:100%\"><tr><th>Experiment</th><th>Id</th><th>Type</th><th>Status</th><th>Details Page</th><th>Docs Page</th></tr><tr><td>automl</td><td>AutoML_81963d46-87b4-4961-a3e7-ae90b262a8ca</td><td>automl</td><td>Completed</td><td><a href=\"https://ml.azure.com/runs/AutoML_81963d46-87b4-4961-a3e7-ae90b262a8ca?wsid=/subscriptions/81cefad3-d2c9-4f77-a466-99a7f541c7bb/resourcegroups/aml-quickstarts-145303/workspaces/quick-starts-ws-145303&amp;tid=660b3398-b80e-49d2-bc5b-ac1dc93b5254\" target=\"_blank\" rel=\"noopener\">Link to Azure Machine Learning studio</a></td><td><a href=\"https://docs.microsoft.com/en-us/python/api/overview/azure/ml/intro?view=azure-ml-py\" target=\"_blank\" rel=\"noopener\">Link to Documentation</a></td></tr></table>"
      ],
      "text/plain": [
       "<IPython.core.display.HTML object>"
      ]
     },
     "metadata": {},
     "output_type": "display_data"
    },
    {
     "name": "stdout",
     "output_type": "stream",
     "text": [
      "\n",
      "\n",
      "****************************************************************************************************\n",
      "DATA GUARDRAILS: \n",
      "\n",
      "TYPE:         Class balancing detection\n",
      "STATUS:       PASSED\n",
      "DESCRIPTION:  Your inputs were analyzed, and all classes are balanced in your training data.\n",
      "              Learn more about imbalanced data: https://aka.ms/AutomatedMLImbalancedData\n",
      "\n",
      "****************************************************************************************************\n",
      "\n",
      "TYPE:         Missing feature values imputation\n",
      "STATUS:       PASSED\n",
      "DESCRIPTION:  No feature missing values were detected in the training data.\n",
      "              Learn more about missing value imputation: https://aka.ms/AutomatedMLFeaturization\n",
      "\n",
      "****************************************************************************************************\n",
      "\n",
      "TYPE:         High cardinality feature detection\n",
      "STATUS:       PASSED\n",
      "DESCRIPTION:  Your inputs were analyzed, and no high cardinality features were detected.\n",
      "              Learn more about high cardinality feature handling: https://aka.ms/AutomatedMLFeaturization\n",
      "\n",
      "****************************************************************************************************\n",
      "\n",
      "****************************************************************************************************\n",
      "ITERATION: The iteration being evaluated.\n",
      "PIPELINE: A summary description of the pipeline being evaluated.\n",
      "DURATION: Time taken for the current iteration.\n",
      "METRIC: The result of computing score on the fitted pipeline.\n",
      "BEST: The best observed score thus far.\n",
      "****************************************************************************************************\n",
      "\n",
      " ITERATION   PIPELINE                                       DURATION      METRIC      BEST\n",
      "         0   MaxAbsScaler LightGBM                          0:00:43       0.7435    0.7435\n",
      "         1   MaxAbsScaler XGBoostClassifier                 0:00:43       0.7656    0.7656\n",
      "         2   MaxAbsScaler RandomForest                      0:00:39       0.7540    0.7656\n",
      "         3   MaxAbsScaler RandomForest                      0:00:44       0.7500    0.7656\n",
      "         4   MaxAbsScaler RandomForest                      0:00:46       0.7565    0.7656\n",
      "         5   MaxAbsScaler RandomForest                      0:00:46       0.7096    0.7656\n",
      "         6   StandardScalerWrapper LogisticRegression       0:00:43       0.7448    0.7656\n",
      "         7   TruncatedSVDWrapper XGBoostClassifier          0:00:39       0.7332    0.7656\n",
      "         8   SparseNormalizer XGBoostClassifier             0:01:46       0.7189    0.7656\n",
      "         9   SparseNormalizer XGBoostClassifier             0:01:30       0.7110    0.7656\n",
      "        10   SparseNormalizer XGBoostClassifier             0:01:30       0.7045    0.7656\n",
      "        11   SparseNormalizer XGBoostClassifier             0:00:45       0.6941    0.7656\n",
      "        12   SparseNormalizer LightGBM                      0:00:40       0.6759    0.7656\n",
      "        13   SparseNormalizer XGBoostClassifier             0:00:40       0.6485    0.7656\n",
      "        14   MaxAbsScaler RandomForest                      0:00:43       0.7579    0.7656\n",
      "        15   StandardScalerWrapper ExtremeRandomTrees       0:00:43       0.6590    0.7656\n",
      "        16   MaxAbsScaler LightGBM                          0:00:43       0.7397    0.7656\n",
      "        17   MaxAbsScaler RandomForest                      0:00:40       0.7293    0.7656\n",
      "        18   MaxAbsScaler LightGBM                          0:00:44       0.7527    0.7656\n",
      "        19   MaxAbsScaler LogisticRegression                0:00:44       0.7683    0.7683\n",
      "        20   MaxAbsScaler ExtremeRandomTrees                0:00:48       0.7644    0.7683\n",
      "        21   MaxAbsScaler ExtremeRandomTrees                0:00:48       0.7058    0.7683\n",
      "        22   MaxAbsScaler LightGBM                          0:00:42       0.7683    0.7683\n",
      "        23   MaxAbsScaler GradientBoosting                  0:00:43       0.7643    0.7683\n",
      "        24   MaxAbsScaler ExtremeRandomTrees                0:00:45       0.7514    0.7683\n",
      "        25   SparseNormalizer LogisticRegression            0:00:42       0.6472    0.7683\n",
      "        26   StandardScalerWrapper XGBoostClassifier        0:00:42       0.7579    0.7683\n",
      "        27   SparseNormalizer XGBoostClassifier             0:00:40       0.6928    0.7683\n",
      "        28    VotingEnsemble                                0:00:56       0.7839    0.7839\n",
      "        29    StackEnsemble                                 0:00:59       0.7722    0.7839\n"
     ]
    },
    {
     "data": {
      "text/plain": [
       "{'runId': 'AutoML_81963d46-87b4-4961-a3e7-ae90b262a8ca',\n",
       " 'target': 'ComputeCluster',\n",
       " 'status': 'Completed',\n",
       " 'startTimeUtc': '2021-05-21T06:36:53.07491Z',\n",
       " 'endTimeUtc': '2021-05-21T06:50:32.844501Z',\n",
       " 'properties': {'num_iterations': '30',\n",
       "  'training_type': 'TrainFull',\n",
       "  'acquisition_function': 'EI',\n",
       "  'primary_metric': 'accuracy',\n",
       "  'train_split': '0',\n",
       "  'acquisition_parameter': '0',\n",
       "  'num_cross_validation': '5',\n",
       "  'target': 'ComputeCluster',\n",
       "  'AMLSettingsJsonString': '{\"path\":null,\"name\":\"automl\",\"subscription_id\":\"81cefad3-d2c9-4f77-a466-99a7f541c7bb\",\"resource_group\":\"aml-quickstarts-145303\",\"workspace_name\":\"quick-starts-ws-145303\",\"region\":\"southcentralus\",\"compute_target\":\"ComputeCluster\",\"spark_service\":null,\"azure_service\":\"remote\",\"many_models\":false,\"pipeline_fetch_max_batch_size\":1,\"enable_batch_run\":false,\"enable_run_restructure\":false,\"start_auxiliary_runs_before_parent_complete\":false,\"iterations\":30,\"primary_metric\":\"accuracy\",\"task_type\":\"classification\",\"data_script\":null,\"test_size\":0.0,\"validation_size\":0.0,\"n_cross_validations\":5,\"y_min\":null,\"y_max\":null,\"num_classes\":null,\"featurization\":\"auto\",\"_ignore_package_version_incompatibilities\":false,\"is_timeseries\":false,\"max_cores_per_iteration\":1,\"max_concurrent_iterations\":5,\"iteration_timeout_minutes\":null,\"mem_in_mb\":null,\"enforce_time_on_windows\":false,\"experiment_timeout_minutes\":50,\"experiment_exit_score\":null,\"whitelist_models\":null,\"blacklist_algos\":[\"TensorFlowLinearClassifier\",\"TensorFlowDNN\"],\"supported_models\":[\"LightGBM\",\"SVM\",\"AveragedPerceptronClassifier\",\"DecisionTree\",\"XGBoostClassifier\",\"RandomForest\",\"ExtremeRandomTrees\",\"TensorFlowDNN\",\"KNN\",\"TensorFlowLinearClassifier\",\"GradientBoosting\",\"LinearSVM\",\"MultinomialNaiveBayes\",\"BernoulliNaiveBayes\",\"SGD\",\"LogisticRegression\"],\"private_models\":[],\"auto_blacklist\":true,\"blacklist_samples_reached\":false,\"exclude_nan_labels\":true,\"verbosity\":20,\"_debug_log\":\"azureml_automl.log\",\"show_warnings\":false,\"model_explainability\":true,\"service_url\":null,\"sdk_url\":null,\"sdk_packages\":null,\"enable_onnx_compatible_models\":false,\"enable_split_onnx_featurizer_estimator_models\":false,\"vm_type\":\"STANDARD_DS3_V2\",\"telemetry_verbosity\":20,\"send_telemetry\":true,\"enable_dnn\":false,\"scenario\":\"SDK-1.13.0\",\"environment_label\":null,\"save_mlflow\":false,\"force_text_dnn\":false,\"enable_feature_sweeping\":true,\"enable_early_stopping\":true,\"early_stopping_n_iters\":10,\"metrics\":null,\"enable_metric_confidence\":false,\"enable_ensembling\":true,\"enable_stack_ensembling\":true,\"ensemble_iterations\":15,\"enable_tf\":false,\"enable_subsampling\":false,\"subsample_seed\":null,\"enable_nimbusml\":false,\"enable_streaming\":false,\"force_streaming\":false,\"track_child_runs\":true,\"allowed_private_models\":[],\"label_column_name\":\"Outcome\",\"weight_column_name\":null,\"cv_split_column_names\":null,\"enable_local_managed\":false,\"_local_managed_run_id\":null,\"cost_mode\":1,\"lag_length\":0,\"metric_operation\":\"maximize\",\"preprocess\":true}',\n",
       "  'DataPrepJsonString': '{\\\\\"training_data\\\\\": {\\\\\"datasetId\\\\\": \\\\\"db2b61c7-015d-4c65-90fc-6fd8dcfbe7a9\\\\\"}, \\\\\"datasets\\\\\": 0}',\n",
       "  'EnableSubsampling': 'False',\n",
       "  'runTemplate': 'AutoML',\n",
       "  'azureml.runsource': 'automl',\n",
       "  'display_task_type': 'classification',\n",
       "  'dependencies_versions': '{\"azureml-widgets\": \"1.27.0\", \"azureml-train\": \"1.27.0\", \"azureml-train-restclients-hyperdrive\": \"1.27.0\", \"azureml-train-core\": \"1.27.0\", \"azureml-train-automl\": \"1.27.0\", \"azureml-train-automl-runtime\": \"1.27.0\", \"azureml-train-automl-client\": \"1.27.0\", \"azureml-tensorboard\": \"1.27.0\", \"azureml-telemetry\": \"1.27.0\", \"azureml-sdk\": \"1.27.0\", \"azureml-samples\": \"0+unknown\", \"azureml-pipeline\": \"1.27.0\", \"azureml-pipeline-steps\": \"1.27.0\", \"azureml-pipeline-core\": \"1.27.0\", \"azureml-opendatasets\": \"1.27.0\", \"azureml-model-management-sdk\": \"1.0.1b6.post1\", \"azureml-mlflow\": \"1.27.0\", \"azureml-interpret\": \"1.27.0\", \"azureml-explain-model\": \"1.27.0\", \"azureml-defaults\": \"1.27.0\", \"azureml-dataset-runtime\": \"1.27.0\", \"azureml-dataprep\": \"2.14.2\", \"azureml-dataprep-rslex\": \"1.12.1\", \"azureml-dataprep-native\": \"33.0.0\", \"azureml-datadrift\": \"1.27.0\", \"azureml-core\": \"1.27.0\", \"azureml-contrib-services\": \"1.27.0\", \"azureml-contrib-server\": \"1.27.0\", \"azureml-contrib-reinforcementlearning\": \"1.27.0\", \"azureml-contrib-pipeline-steps\": \"1.27.0\", \"azureml-contrib-notebook\": \"1.27.0\", \"azureml-contrib-gbdt\": \"1.27.0\", \"azureml-contrib-fairness\": \"1.27.0\", \"azureml-contrib-dataset\": \"1.27.0\", \"azureml-cli-common\": \"1.27.0\", \"azureml-automl-runtime\": \"1.27.0\", \"azureml-automl-dnn-nlp\": \"1.27.0\", \"azureml-automl-core\": \"1.27.0\", \"azureml-accel-models\": \"1.27.0\"}',\n",
       "  '_aml_system_scenario_identification': 'Remote.Parent',\n",
       "  'ClientType': 'SDK',\n",
       "  'environment_cpu_name': 'AzureML-AutoML',\n",
       "  'environment_cpu_label': 'prod',\n",
       "  'environment_gpu_name': 'AzureML-AutoML-GPU',\n",
       "  'environment_gpu_label': 'prod',\n",
       "  'root_attribution': 'automl',\n",
       "  'attribution': 'AutoML',\n",
       "  'Orchestrator': 'AutoML',\n",
       "  'CancelUri': 'https://southcentralus.api.azureml.ms/jasmine/v1.0/subscriptions/81cefad3-d2c9-4f77-a466-99a7f541c7bb/resourceGroups/aml-quickstarts-145303/providers/Microsoft.MachineLearningServices/workspaces/quick-starts-ws-145303/experimentids/6acfe86d-5fae-4eba-9eeb-2974a432d82c/cancel/AutoML_81963d46-87b4-4961-a3e7-ae90b262a8ca',\n",
       "  'ClientSdkVersion': '1.27.0.post1',\n",
       "  'snapshotId': '00000000-0000-0000-0000-000000000000',\n",
       "  'SetupRunId': 'AutoML_81963d46-87b4-4961-a3e7-ae90b262a8ca_setup',\n",
       "  'SetupRunContainerId': 'dcid.AutoML_81963d46-87b4-4961-a3e7-ae90b262a8ca_setup',\n",
       "  'FeaturizationRunJsonPath': 'featurizer_container.json',\n",
       "  'FeaturizationRunId': 'AutoML_81963d46-87b4-4961-a3e7-ae90b262a8ca_featurize',\n",
       "  'ProblemInfoJsonString': '{\"dataset_num_categorical\": 0, \"is_sparse\": true, \"subsampling\": false, \"dataset_classes\": 2, \"dataset_features\": 24, \"dataset_samples\": 768, \"single_frequency_class_detected\": false}',\n",
       "  'ModelExplainRunId': 'AutoML_81963d46-87b4-4961-a3e7-ae90b262a8ca_ModelExplain'},\n",
       " 'inputDatasets': [{'dataset': {'id': 'db2b61c7-015d-4c65-90fc-6fd8dcfbe7a9'}, 'consumptionDetails': {'type': 'RunInput', 'inputName': 'training_data', 'mechanism': 'Direct'}}],\n",
       " 'outputDatasets': [],\n",
       " 'logFiles': {},\n",
       " 'submittedBy': 'ODL_User 145303'}"
      ]
     },
     "execution_count": 18,
     "metadata": {},
     "output_type": "execute_result"
    }
   ],
   "source": [
    "remote_run.wait_for_completion(show_output=True)"
   ]
  },
  {
   "cell_type": "code",
   "execution_count": 19,
   "metadata": {},
   "outputs": [
    {
     "data": {
      "text/html": [
       "<table style=\"width:100%\"><tr><th>Experiment</th><th>Id</th><th>Type</th><th>Status</th><th>Details Page</th><th>Docs Page</th></tr><tr><td>automl</td><td>AutoML_81963d46-87b4-4961-a3e7-ae90b262a8ca</td><td>automl</td><td>Completed</td><td><a href=\"https://ml.azure.com/runs/AutoML_81963d46-87b4-4961-a3e7-ae90b262a8ca?wsid=/subscriptions/81cefad3-d2c9-4f77-a466-99a7f541c7bb/resourcegroups/aml-quickstarts-145303/workspaces/quick-starts-ws-145303&amp;tid=660b3398-b80e-49d2-bc5b-ac1dc93b5254\" target=\"_blank\" rel=\"noopener\">Link to Azure Machine Learning studio</a></td><td><a href=\"https://docs.microsoft.com/en-us/python/api/overview/azure/ml/intro?view=azure-ml-py\" target=\"_blank\" rel=\"noopener\">Link to Documentation</a></td></tr></table>"
      ],
      "text/plain": [
       "Run(Experiment: automl,\n",
       "Id: AutoML_81963d46-87b4-4961-a3e7-ae90b262a8ca,\n",
       "Type: automl,\n",
       "Status: Completed)"
      ]
     },
     "execution_count": 19,
     "metadata": {},
     "output_type": "execute_result"
    }
   ],
   "source": [
    "remote_run"
   ]
  },
  {
   "cell_type": "markdown",
   "metadata": {},
   "source": [
    "## Best Model\n",
    "\n",
    "Now we will see best model from the azure automl experiments.\n",
    "\n"
   ]
  },
  {
   "cell_type": "code",
   "execution_count": 20,
   "metadata": {
    "gather": {
     "logged": 1598431425670
    },
    "jupyter": {
     "outputs_hidden": false,
     "source_hidden": false
    },
    "nteract": {
     "transient": {
      "deleting": false
     }
    }
   },
   "outputs": [
    {
     "name": "stdout",
     "output_type": "stream",
     "text": [
      "Run(Experiment: automl,\n",
      "Id: AutoML_81963d46-87b4-4961-a3e7-ae90b262a8ca_28,\n",
      "Type: azureml.scriptrun,\n",
      "Status: Completed)\n",
      "[('datatransformer', DataTransformer(enable_dnn=None, enable_feature_sweeping=None,\n",
      "                feature_sweeping_config=None, feature_sweeping_timeout=None,\n",
      "                featurization_config=None, force_text_dnn=None,\n",
      "                is_cross_validation=None, is_onnx_compatible=None, logger=None,\n",
      "                observer=None, task=None, working_dir=None)), ('prefittedsoftvotingclassifier', PreFittedSoftVotingClassifier(classification_labels=None,\n",
      "                              estimators=[('22',\n",
      "                                           Pipeline(memory=None,\n",
      "                                                    steps=[('maxabsscaler',\n",
      "                                                            MaxAbsScaler(copy=True)),\n",
      "                                                           ('lightgbmclassifier',\n",
      "                                                            LightGBMClassifier(boosting_type='goss',\n",
      "                                                                               class_weight=None,\n",
      "                                                                               colsample_bytree=0.7922222222222222,\n",
      "                                                                               importance_type='split',\n",
      "                                                                               learning_rate=0.07894947368421053,\n",
      "                                                                               max_bin=70,\n",
      "                                                                               max_depth=7,\n",
      "                                                                               min_child...\n",
      "                                                                               multi_class='ovr',\n",
      "                                                                               n_jobs=1,\n",
      "                                                                               penalty='l2',\n",
      "                                                                               random_state=None,\n",
      "                                                                               solver='lbfgs',\n",
      "                                                                               tol=0.0001,\n",
      "                                                                               verbose=0,\n",
      "                                                                               warm_start=False))],\n",
      "                                                    verbose=False))],\n",
      "                              flatten_transform=None,\n",
      "                              weights=[0.07142857142857142, 0.21428571428571427,\n",
      "                                       0.21428571428571427, 0.07142857142857142,\n",
      "                                       0.07142857142857142, 0.07142857142857142,\n",
      "                                       0.07142857142857142, 0.07142857142857142,\n",
      "                                       0.07142857142857142,\n",
      "                                       0.07142857142857142]))]\n"
     ]
    }
   ],
   "source": [
    "# Retrieve and save best automl model\n",
    "best_model, model = remote_run.get_output()\n",
    "print(best_model)\n",
    "print(model.steps)"
   ]
  },
  {
   "cell_type": "code",
   "execution_count": 21,
   "metadata": {},
   "outputs": [
    {
     "name": "stdout",
     "output_type": "stream",
     "text": [
      "Pipeline(memory=None,\n",
      "         steps=[('datatransformer',\n",
      "                 DataTransformer(enable_dnn=None, enable_feature_sweeping=None,\n",
      "                                 feature_sweeping_config=None,\n",
      "                                 feature_sweeping_timeout=None,\n",
      "                                 featurization_config=None, force_text_dnn=None,\n",
      "                                 is_cross_validation=None,\n",
      "                                 is_onnx_compatible=None, logger=None,\n",
      "                                 observer=None, task=None, working_dir=None)),\n",
      "                ('prefittedsoftvotingclassifier',...\n",
      "                                                                                                penalty='l2',\n",
      "                                                                                                random_state=None,\n",
      "                                                                                                solver='lbfgs',\n",
      "                                                                                                tol=0.0001,\n",
      "                                                                                                verbose=0,\n",
      "                                                                                                warm_start=False))],\n",
      "                                                                     verbose=False))],\n",
      "                                               flatten_transform=None,\n",
      "                                               weights=[0.07142857142857142,\n",
      "                                                        0.21428571428571427,\n",
      "                                                        0.21428571428571427,\n",
      "                                                        0.07142857142857142,\n",
      "                                                        0.07142857142857142,\n",
      "                                                        0.07142857142857142,\n",
      "                                                        0.07142857142857142,\n",
      "                                                        0.07142857142857142,\n",
      "                                                        0.07142857142857142,\n",
      "                                                        0.07142857142857142]))],\n",
      "         verbose=False)\n"
     ]
    }
   ],
   "source": [
    "print(model)"
   ]
  },
  {
   "cell_type": "code",
   "execution_count": 22,
   "metadata": {},
   "outputs": [
    {
     "name": "stdout",
     "output_type": "stream",
     "text": [
      "Run(Experiment: automl,\n",
      "Id: AutoML_81963d46-87b4-4961-a3e7-ae90b262a8ca_28,\n",
      "Type: azureml.scriptrun,\n",
      "Status: Completed)\n"
     ]
    }
   ],
   "source": [
    "print(best_model)"
   ]
  },
  {
   "cell_type": "code",
   "execution_count": 23,
   "metadata": {},
   "outputs": [
    {
     "data": {
      "text/plain": [
       "{'experiment_status': ['DatasetEvaluation',\n",
       "  'FeaturesGeneration',\n",
       "  'DatasetFeaturization',\n",
       "  'DatasetFeaturizationCompleted',\n",
       "  'DatasetCrossValidationSplit',\n",
       "  'ModelSelection',\n",
       "  'BestRunExplainModel',\n",
       "  'ModelExplanationDataSetSetup',\n",
       "  'PickSurrogateModel',\n",
       "  'EngineeredFeatureExplanations',\n",
       "  'EngineeredFeatureExplanations',\n",
       "  'RawFeaturesExplanations',\n",
       "  'RawFeaturesExplanations',\n",
       "  'BestRunExplainModel'],\n",
       " 'experiment_status_description': ['Gathering dataset statistics.',\n",
       "  'Generating features for the dataset.',\n",
       "  'Beginning to fit featurizers and featurize the dataset.',\n",
       "  'Completed fit featurizers and featurizing the dataset.',\n",
       "  'Generating individually featurized CV splits.',\n",
       "  'Beginning model selection.',\n",
       "  'Best run model explanations started',\n",
       "  'Model explanations data setup completed',\n",
       "  'Choosing LightGBM as the surrogate model for explanations',\n",
       "  'Computation of engineered features started',\n",
       "  'Computation of engineered features completed',\n",
       "  'Computation of raw features started',\n",
       "  'Computation of raw features completed',\n",
       "  'Best run model explanations completed'],\n",
       " 'AUC_micro': 0.8574614977159953,\n",
       " 'balanced_accuracy': 0.725595230879299,\n",
       " 'precision_score_weighted': 0.7838887869495137,\n",
       " 'matthews_correlation': 0.4986070899140925,\n",
       " 'recall_score_weighted': 0.7838978015448603,\n",
       " 'accuracy': 0.7838978015448603,\n",
       " 'average_precision_score_micro': 0.8594572099955851,\n",
       " 'f1_score_macro': 0.7378095561019105,\n",
       " 'precision_score_macro': 0.7758238533291217,\n",
       " 'AUC_weighted': 0.8422296716521315,\n",
       " 'f1_score_micro': 0.7838978015448603,\n",
       " 'AUC_macro': 0.8422296716521316,\n",
       " 'recall_score_macro': 0.725595230879299,\n",
       " 'average_precision_score_weighted': 0.8525834443369696,\n",
       " 'recall_score_micro': 0.7838978015448603,\n",
       " 'log_loss': 0.48393002104468136,\n",
       " 'average_precision_score_macro': 0.8238706540654039,\n",
       " 'weighted_accuracy': 0.8288405410138131,\n",
       " 'precision_score_micro': 0.7838978015448603,\n",
       " 'norm_macro_recall': 0.451190461758598,\n",
       " 'f1_score_weighted': 0.7733115403943789}"
      ]
     },
     "execution_count": 23,
     "metadata": {},
     "output_type": "execute_result"
    }
   ],
   "source": [
    "remote_run.get_metrics()"
   ]
  },
  {
   "cell_type": "markdown",
   "metadata": {},
   "source": [
    "## Model Deployment\n",
    "\n",
    "We have to deploy only one of the two models trained.. We will Perform the steps in the rest of this notebook only if we wish to deploy this model.\n",
    "\n",
    "Now we have registered the model, created an inference config and deployed the model as a web service for endpoints consumption using professional API Testing tools (Swagger UI)."
   ]
  },
  {
   "cell_type": "code",
   "execution_count": 24,
   "metadata": {
    "gather": {
     "logged": 1598431435189
    },
    "jupyter": {
     "outputs_hidden": false,
     "source_hidden": false
    },
    "nteract": {
     "transient": {
      "deleting": false
     }
    }
   },
   "outputs": [],
   "source": [
    "# Registring the best model\n",
    "model = best_model.register_model(model_name='automl-diabetes-best-model',model_path='outputs/model.pkl')\n"
   ]
  },
  {
   "cell_type": "code",
   "execution_count": 25,
   "metadata": {},
   "outputs": [],
   "source": [
    "# Now we will get environment with dependencies\n",
    "environment = Environment.get(ws, \"AzureML-AutoML\")"
   ]
  },
  {
   "cell_type": "code",
   "execution_count": 27,
   "metadata": {},
   "outputs": [
    {
     "name": "stdout",
     "output_type": "stream",
     "text": [
      "Tips: You can try get_logs(): https://aka.ms/debugimage#dockerlog or local deployment: https://aka.ms/debugimage#debug-locally to debug if deployment takes longer than 10 minutes.\n",
      "Running\n",
      "2021-05-21 07:12:29+00:00 Creating Container Registry if not exists..\n",
      "2021-05-21 07:12:40+00:00 Registering the environment..\n",
      "2021-05-21 07:12:41+00:00 Use the existing image.\n",
      "2021-05-21 07:12:41+00:00 Generating deployment configuration.\n",
      "2021-05-21 07:12:42+00:00 Submitting deployment to compute.\n",
      "2021-05-21 07:12:46+00:00 Checking the status of deployment automl-deploy..\n",
      "2021-05-21 07:14:09+00:00 Checking the status of deployment automl-deploy..\n",
      "2021-05-21 07:17:12+00:00 Checking the status of inference endpoint automl-deploy.\n",
      "Succeeded\n",
      "ACI service creation operation finished, operation \"Succeeded\"\n",
      "http://a2d23cdc-634e-42e8-a1d7-770bcba56b69.southcentralus.azurecontainer.io/score\n"
     ]
    }
   ],
   "source": [
    "inference_config = InferenceConfig(entry_script='scoring.py',\n",
    "                                   environment=environment)\n",
    "service_name = 'automl-deploy'\n",
    "deployment_config = AciWebservice.deploy_configuration(cpu_cores=1, memory_gb=1)\n",
    "\n",
    "service = Model.deploy(workspace=ws,\n",
    "                       name=service_name,\n",
    "                       models=[model],\n",
    "                       inference_config=inference_config,\n",
    "                       deployment_config=deployment_config,\n",
    "                       overwrite=True\n",
    "                      )\n",
    "service.wait_for_deployment(show_output=True)\n",
    "\n",
    "scoring_uri = service.scoring_uri\n",
    "print(scoring_uri)"
   ]
  },
  {
   "cell_type": "code",
   "execution_count": 28,
   "metadata": {},
   "outputs": [],
   "source": [
    "# Now we will try to Enable app insights\n",
    "service.update(enable_app_insights=True)"
   ]
  },
  {
   "cell_type": "markdown",
   "metadata": {
    "gather": {
     "logged": 1598431657736
    },
    "jupyter": {
     "outputs_hidden": false,
     "source_hidden": false
    },
    "nteract": {
     "transient": {
      "deleting": false
     }
    }
   },
   "source": [
    "Now we will consume the deployed webservice in AutoML so we are sending the web service requests to deployed best model"
   ]
  },
  {
   "cell_type": "code",
   "execution_count": 29,
   "metadata": {},
   "outputs": [
    {
     "name": "stdout",
     "output_type": "stream",
     "text": [
      "{\"result\": [1, 0]}\n",
      "Case 0 : Not Diabetic, Case 1 : Diabetic.\n"
     ]
    }
   ],
   "source": [
    "import requests\n",
    "import json\n",
    "\n",
    "#two set of data to score, so we get two results back\n",
    "data = {\"data\": [{\"Pregnancies\": 9, \n",
    "     \"Glucose\": 130, \n",
    "     \"BloodPressure\": 60, \n",
    "     \"SkinThickness\": 20, \n",
    "     \"Insulin\": 6, \n",
    "     \"BMI\": 40.5, \n",
    "     \"DiabetesPedigreeFunction\": 0.537, \n",
    "     \"Age\": 50},\n",
    "\n",
    "    {\"Pregnancies\": 8, \n",
    "     \"Glucose\": 70, \n",
    "     \"BloodPressure\": 80, \n",
    "     \"SkinThickness\": 30, \n",
    "     \"Insulin\": 18, \n",
    "     \"BMI\": 24.5, \n",
    "     \"DiabetesPedigreeFunction\": 0.951, \n",
    "     \"Age\": 38},\n",
    "      ]}\n",
    "    \n",
    "# Convert to JSON string\n",
    "input_data = json.dumps(data)\n",
    "with open(\"data.json\", \"w\") as _f:\n",
    "    _f.write(input_data)\n",
    "\n",
    "# Set the content type\n",
    "headers = {'Content-Type': 'application/json'}\n",
    "# If authentication is enabled, set the authorization header\n",
    "#headers['Authorization'] = f'Bearer {key}'\n",
    "\n",
    "# Make the request and display the response\n",
    "resp = requests.post(scoring_uri, input_data, headers=headers)\n",
    "print(resp.json())\n",
    "print(\"Case 0 : Not Diabetic, Case 1 : Diabetic.\")"
   ]
  },
  {
   "cell_type": "markdown",
   "metadata": {
    "gather": {
     "logged": 1598432765711
    },
    "jupyter": {
     "outputs_hidden": false,
     "source_hidden": false
    },
    "nteract": {
     "transient": {
      "deleting": false
     }
    }
   },
   "source": [
    "Print the logs of the web service and delete the service"
   ]
  },
  {
   "cell_type": "code",
   "execution_count": 31,
   "metadata": {
    "jupyter": {
     "outputs_hidden": false,
     "source_hidden": false
    },
    "nteract": {
     "transient": {
      "deleting": false
     }
    }
   },
   "outputs": [
    {
     "data": {
      "text/plain": [
       "'2021-05-21T07:22:54,479063800+00:00 - gunicorn/run \\n2021-05-21T07:22:54,487931800+00:00 - rsyslog/run \\n2021-05-21T07:22:54,498133500+00:00 - nginx/run \\n/usr/sbin/nginx: /azureml-envs/azureml_600883adcde8eb30a3a0fa1bdca2e09e/lib/libcrypto.so.1.0.0: no version information available (required by /usr/sbin/nginx)\\n/usr/sbin/nginx: /azureml-envs/azureml_600883adcde8eb30a3a0fa1bdca2e09e/lib/libcrypto.so.1.0.0: no version information available (required by /usr/sbin/nginx)\\n/usr/sbin/nginx: /azureml-envs/azureml_600883adcde8eb30a3a0fa1bdca2e09e/lib/libssl.so.1.0.0: no version information available (required by /usr/sbin/nginx)\\n/usr/sbin/nginx: /azureml-envs/azureml_600883adcde8eb30a3a0fa1bdca2e09e/lib/libssl.so.1.0.0: no version information available (required by /usr/sbin/nginx)\\n/usr/sbin/nginx: /azureml-envs/azureml_600883adcde8eb30a3a0fa1bdca2e09e/lib/libssl.so.1.0.0: no version information available (required by /usr/sbin/nginx)\\n2021-05-21T07:22:54,519364400+00:00 - iot-server/run \\nrsyslogd: /azureml-envs/azureml_600883adcde8eb30a3a0fa1bdca2e09e/lib/libuuid.so.1: no version information available (required by rsyslogd)\\nEdgeHubConnectionString and IOTEDGE_IOTHUBHOSTNAME are not set. Exiting...\\n2021-05-21T07:22:54,834173500+00:00 - iot-server/finish 1 0\\n2021-05-21T07:22:54,839370600+00:00 - Exit code 1 is normal. Not restarting iot-server.\\nStarting gunicorn 20.1.0\\nListening at: http://127.0.0.1:31311 (54)\\nUsing worker: sync\\nworker timeout is set to 300\\nBooting worker with pid: 95\\nSPARK_HOME not set. Skipping PySpark Initialization.\\nGenerating new fontManager, this may take some time...\\nInitializing logger\\n2021-05-21 07:22:57,207 | root | INFO | Starting up app insights client\\n2021-05-21 07:22:57,210 | root | INFO | Starting up request id generator\\n2021-05-21 07:22:57,210 | root | INFO | Starting up app insight hooks\\n2021-05-21 07:22:57,210 | root | INFO | Invoking user\\'s init function\\n2021-05-21 07:23:01,463 | azureml.core | WARNING | Failure while loading azureml_run_type_providers. Failed to load entrypoint automl = azureml.train.automl.run:AutoMLRun._from_run_dto with exception cannot import name \\'RunType\\'.\\nFailure while loading azureml_run_type_providers. Failed to load entrypoint automl = azureml.train.automl.run:AutoMLRun._from_run_dto with exception cannot import name \\'RunType\\'.\\n2021-05-21 07:23:02,419 | root | INFO | Users\\'s init has completed successfully\\n2021-05-21 07:23:02,427 | root | INFO | Skipping middleware: dbg_model_info as it\\'s not enabled.\\n2021-05-21 07:23:02,427 | root | INFO | Skipping middleware: dbg_resource_usage as it\\'s not enabled.\\n2021-05-21 07:23:02,429 | root | INFO | Scoring timeout is found from os.environ: 60000 ms\\n2021-05-21 07:23:10,388 | root | INFO | 200\\n127.0.0.1 - - [21/May/2021:07:23:10 +0000] \"GET /swagger.json HTTP/1.0\" 200 2663 \"-\" \"Go-http-client/1.1\"\\n127.0.0.1 - - [21/May/2021:07:28:12 +0000] \"GET /portal/redlion HTTP/1.0\" 404 232 \"-\" \"Mozilla/5.0 zgrab/0.x\"\\n2021-05-21 07:41:08,604 | root | INFO | Validation Request Content-Type\\n2021-05-21 07:41:08,608 | root | INFO | Scoring Timer is set to 60.0 seconds\\n2021-05-21 07:41:08,982 | root | INFO | 200\\n127.0.0.1 - - [21/May/2021:07:41:08 +0000] \"POST /score HTTP/1.0\" 200 22 \"-\" \"python-requests/2.25.1\"\\n2021-05-21 07:42:27,430 | root | INFO | Validation Request Content-Type\\n2021-05-21 07:42:27,432 | root | INFO | Scoring Timer is set to 60.0 seconds\\n2021-05-21 07:42:27,457 | root | ERROR | Encountered Exception: Traceback (most recent call last):\\n  File \"/var/azureml-server/synchronous/routes.py\", line 64, in run_scoring\\n    response = invoke_user_with_timer(service_input, request_headers)\\n  File \"/var/azureml-server/synchronous/routes.py\", line 97, in invoke_user_with_timer\\n    result = user_main.run(**params)\\n  File \"/var/azureml-app/main.py\", line 21, in run\\n    return_obj = driver_module.run(**arguments)\\n  File \"/azureml-envs/azureml_600883adcde8eb30a3a0fa1bdca2e09e/lib/python3.6/site-packages/wrapt/wrappers.py\", line 567, in __call__\\n    args, kwargs)\\n  File \"/azureml-envs/azureml_600883adcde8eb30a3a0fa1bdca2e09e/lib/python3.6/site-packages/inference_schema/schema_decorators.py\", line 57, in decorator_input\\n    kwargs[param_name] = _deserialize_input_argument(kwargs[param_name], param_type, param_name)\\n  File \"/azureml-envs/azureml_600883adcde8eb30a3a0fa1bdca2e09e/lib/python3.6/site-packages/inference_schema/schema_decorators.py\", line 285, in _deserialize_input_argument\\n    input_data = param_type.deserialize_input(input_data)\\n  File \"/azureml-envs/azureml_600883adcde8eb30a3a0fa1bdca2e09e/lib/python3.6/site-packages/inference_schema/parameter_types/pandas_parameter_type.py\", line 92, in deserialize_input\\n    data_frame.shape[dim], dim, expected_shape[dim]))\\nValueError: Invalid input data frame: data frame has size 1 on dimension #1, while expected value is 8\\n\\nDuring handling of the above exception, another exception occurred:\\n\\nTraceback (most recent call last):\\n  File \"/azureml-envs/azureml_600883adcde8eb30a3a0fa1bdca2e09e/lib/python3.6/site-packages/flask/app.py\", line 1832, in full_dispatch_request\\n    rv = self.dispatch_request()\\n  File \"/azureml-envs/azureml_600883adcde8eb30a3a0fa1bdca2e09e/lib/python3.6/site-packages/flask/app.py\", line 1818, in dispatch_request\\n    return self.view_functions[rule.endpoint](**req.view_args)\\n  File \"/var/azureml-server/synchronous/routes.py\", line 43, in score_realtime\\n    return run_scoring(service_input, request.headers, request.environ.get(\\'REQUEST_ID\\', \\'00000000-0000-0000-0000-000000000000\\'))\\n  File \"/var/azureml-server/synchronous/routes.py\", line 77, in run_scoring\\n    raise RunFunctionException(str(exc))\\nrun_function_exception.RunFunctionException\\n\\n2021-05-21 07:42:27,458 | root | INFO | 500\\n127.0.0.1 - - [21/May/2021:07:42:27 +0000] \"POST /score HTTP/1.0\" 500 90 \"-\" \"python-requests/2.25.1\"\\n2021-05-21 07:42:27,477 | root | INFO | Validation Request Content-Type\\n2021-05-21 07:42:27,478 | root | INFO | Scoring Timer is set to 60.0 seconds\\n2021-05-21 07:42:27,488 | root | ERROR | Encountered Exception: Traceback (most recent call last):\\n  File \"/var/azureml-server/synchronous/routes.py\", line 64, in run_scoring\\n    response = invoke_user_with_timer(service_input, request_headers)\\n  File \"/var/azureml-server/synchronous/routes.py\", line 97, in invoke_user_with_timer\\n    result = user_main.run(**params)\\n  File \"/var/azureml-app/main.py\", line 21, in run\\n    return_obj = driver_module.run(**arguments)\\n  File \"/azureml-envs/azureml_600883adcde8eb30a3a0fa1bdca2e09e/lib/python3.6/site-packages/wrapt/wrappers.py\", line 567, in __call__\\n    args, kwargs)\\n  File \"/azureml-envs/azureml_600883adcde8eb30a3a0fa1bdca2e09e/lib/python3.6/site-packages/inference_schema/schema_decorators.py\", line 57, in decorator_input\\n    kwargs[param_name] = _deserialize_input_argument(kwargs[param_name], param_type, param_name)\\n  File \"/azureml-envs/azureml_600883adcde8eb30a3a0fa1bdca2e09e/lib/python3.6/site-packages/inference_schema/schema_decorators.py\", line 285, in _deserialize_input_argument\\n    input_data = param_type.deserialize_input(input_data)\\n  File \"/azureml-envs/azureml_600883adcde8eb30a3a0fa1bdca2e09e/lib/python3.6/site-packages/inference_schema/parameter_types/pandas_parameter_type.py\", line 92, in deserialize_input\\n    data_frame.shape[dim], dim, expected_shape[dim]))\\nValueError: Invalid input data frame: data frame has size 1 on dimension #1, while expected value is 8\\n\\nDuring handling of the above exception, another exception occurred:\\n\\nTraceback (most recent call last):\\n  File \"/azureml-envs/azureml_600883adcde8eb30a3a0fa1bdca2e09e/lib/python3.6/site-packages/flask/app.py\", line 1832, in full_dispatch_request\\n    rv = self.dispatch_request()\\n  File \"/azureml-envs/azureml_600883adcde8eb30a3a0fa1bdca2e09e/lib/python3.6/site-packages/flask/app.py\", line 1818, in dispatch_request\\n    return self.view_functions[rule.endpoint](**req.view_args)\\n  File \"/var/azureml-server/synchronous/routes.py\", line 43, in score_realtime\\n    return run_scoring(service_input, request.headers, request.environ.get(\\'REQUEST_ID\\', \\'00000000-0000-0000-0000-000000000000\\'))\\n  File \"/var/azureml-server/synchronous/routes.py\", line 77, in run_scoring\\n    raise RunFunctionException(str(exc))\\nrun_function_exception.RunFunctionException\\n\\n2021-05-21 07:42:27,489 | root | INFO | 500\\n127.0.0.1 - - [21/May/2021:07:42:27 +0000] \"POST /score HTTP/1.0\" 500 90 \"-\" \"python-requests/2.25.1\"\\n2021-05-21 07:42:28,497 | root | INFO | Validation Request Content-Type\\n2021-05-21 07:42:28,498 | root | INFO | Scoring Timer is set to 60.0 seconds\\n2021-05-21 07:42:28,509 | root | ERROR | Encountered Exception: Traceback (most recent call last):\\n  File \"/var/azureml-server/synchronous/routes.py\", line 64, in run_scoring\\n    response = invoke_user_with_timer(service_input, request_headers)\\n  File \"/var/azureml-server/synchronous/routes.py\", line 97, in invoke_user_with_timer\\n    result = user_main.run(**params)\\n  File \"/var/azureml-app/main.py\", line 21, in run\\n    return_obj = driver_module.run(**arguments)\\n  File \"/azureml-envs/azureml_600883adcde8eb30a3a0fa1bdca2e09e/lib/python3.6/site-packages/wrapt/wrappers.py\", line 567, in __call__\\n    args, kwargs)\\n  File \"/azureml-envs/azureml_600883adcde8eb30a3a0fa1bdca2e09e/lib/python3.6/site-packages/inference_schema/schema_decorators.py\", line 57, in decorator_input\\n    kwargs[param_name] = _deserialize_input_argument(kwargs[param_name], param_type, param_name)\\n  File \"/azureml-envs/azureml_600883adcde8eb30a3a0fa1bdca2e09e/lib/python3.6/site-packages/inference_schema/schema_decorators.py\", line 285, in _deserialize_input_argument\\n    input_data = param_type.deserialize_input(input_data)\\n  File \"/azureml-envs/azureml_600883adcde8eb30a3a0fa1bdca2e09e/lib/python3.6/site-packages/inference_schema/parameter_types/pandas_parameter_type.py\", line 92, in deserialize_input\\n    data_frame.shape[dim], dim, expected_shape[dim]))\\nValueError: Invalid input data frame: data frame has size 1 on dimension #1, while expected value is 8\\n\\nDuring handling of the above exception, another exception occurred:\\n\\nTraceback (most recent call last):\\n  File \"/azureml-envs/azureml_600883adcde8eb30a3a0fa1bdca2e09e/lib/python3.6/site-packages/flask/app.py\", line 1832, in full_dispatch_request\\n    rv = self.dispatch_request()\\n  File \"/azureml-envs/azureml_600883adcde8eb30a3a0fa1bdca2e09e/lib/python3.6/site-packages/flask/app.py\", line 1818, in dispatch_request\\n    return self.view_functions[rule.endpoint](**req.view_args)\\n  File \"/var/azureml-server/synchronous/routes.py\", line 43, in score_realtime\\n    return run_scoring(service_input, request.headers, request.environ.get(\\'REQUEST_ID\\', \\'00000000-0000-0000-0000-000000000000\\'))\\n  File \"/var/azureml-server/synchronous/routes.py\", line 77, in run_scoring\\n    raise RunFunctionException(str(exc))\\nrun_function_exception.RunFunctionException\\n\\n2021-05-21 07:42:28,509 | root | INFO | 500\\n127.0.0.1 - - [21/May/2021:07:42:28 +0000] \"POST /score HTTP/1.0\" 500 90 \"-\" \"python-requests/2.25.1\"\\n2021-05-21 07:42:30,520 | root | INFO | Validation Request Content-Type\\n2021-05-21 07:42:30,520 | root | INFO | Scoring Timer is set to 60.0 seconds\\n2021-05-21 07:42:30,534 | root | ERROR | Encountered Exception: Traceback (most recent call last):\\n  File \"/var/azureml-server/synchronous/routes.py\", line 64, in run_scoring\\n    response = invoke_user_with_timer(service_input, request_headers)\\n  File \"/var/azureml-server/synchronous/routes.py\", line 97, in invoke_user_with_timer\\n    result = user_main.run(**params)\\n  File \"/var/azureml-app/main.py\", line 21, in run\\n    return_obj = driver_module.run(**arguments)\\n  File \"/azureml-envs/azureml_600883adcde8eb30a3a0fa1bdca2e09e/lib/python3.6/site-packages/wrapt/wrappers.py\", line 567, in __call__\\n    args, kwargs)\\n  File \"/azureml-envs/azureml_600883adcde8eb30a3a0fa1bdca2e09e/lib/python3.6/site-packages/inference_schema/schema_decorators.py\", line 57, in decorator_input\\n    kwargs[param_name] = _deserialize_input_argument(kwargs[param_name], param_type, param_name)\\n  File \"/azureml-envs/azureml_600883adcde8eb30a3a0fa1bdca2e09e/lib/python3.6/site-packages/inference_schema/schema_decorators.py\", line 285, in _deserialize_input_argument\\n    input_data = param_type.deserialize_input(input_data)\\n  File \"/azureml-envs/azureml_600883adcde8eb30a3a0fa1bdca2e09e/lib/python3.6/site-packages/inference_schema/parameter_types/pandas_parameter_type.py\", line 92, in deserialize_input\\n    data_frame.shape[dim], dim, expected_shape[dim]))\\nValueError: Invalid input data frame: data frame has size 1 on dimension #1, while expected value is 8\\n\\nDuring handling of the above exception, another exception occurred:\\n\\nTraceback (most recent call last):\\n  File \"/azureml-envs/azureml_600883adcde8eb30a3a0fa1bdca2e09e/lib/python3.6/site-packages/flask/app.py\", line 1832, in full_dispatch_request\\n    rv = self.dispatch_request()\\n  File \"/azureml-envs/azureml_600883adcde8eb30a3a0fa1bdca2e09e/lib/python3.6/site-packages/flask/app.py\", line 1818, in dispatch_request\\n    return self.view_functions[rule.endpoint](**req.view_args)\\n  File \"/var/azureml-server/synchronous/routes.py\", line 43, in score_realtime\\n    return run_scoring(service_input, request.headers, request.environ.get(\\'REQUEST_ID\\', \\'00000000-0000-0000-0000-000000000000\\'))\\n  File \"/var/azureml-server/synchronous/routes.py\", line 77, in run_scoring\\n    raise RunFunctionException(str(exc))\\nrun_function_exception.RunFunctionException\\n\\n2021-05-21 07:42:30,534 | root | INFO | 500\\n127.0.0.1 - - [21/May/2021:07:42:30 +0000] \"POST /score HTTP/1.0\" 500 90 \"-\" \"python-requests/2.25.1\"\\n'"
      ]
     },
     "execution_count": 31,
     "metadata": {},
     "output_type": "execute_result"
    }
   ],
   "source": [
    "logs = service.get_logs()\n",
    "logs"
   ]
  },
  {
   "cell_type": "code",
   "execution_count": 32,
   "metadata": {},
   "outputs": [],
   "source": [
    "#Deleting the deployed web service\n",
    "\n",
    "service.delete()"
   ]
  },
  {
   "cell_type": "code",
   "execution_count": null,
   "metadata": {},
   "outputs": [],
   "source": []
  },
  {
   "cell_type": "code",
   "execution_count": null,
   "metadata": {},
   "outputs": [],
   "source": []
  }
 ],
 "metadata": {
  "kernel_info": {
   "name": "python3"
  },
  "kernelspec": {
   "display_name": "Python 3",
   "language": "python",
   "name": "python3"
  },
  "language_info": {
   "codemirror_mode": {
    "name": "ipython",
    "version": 3
   },
   "file_extension": ".py",
   "mimetype": "text/x-python",
   "name": "python",
   "nbconvert_exporter": "python",
   "pygments_lexer": "ipython3",
   "version": "3.6.9"
  },
  "nteract": {
   "version": "nteract-front-end@1.0.0"
  }
 },
 "nbformat": 4,
 "nbformat_minor": 4
}
